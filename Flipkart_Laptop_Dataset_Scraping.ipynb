{
  "nbformat": 4,
  "nbformat_minor": 0,
  "metadata": {
    "colab": {
      "provenance": []
    },
    "kernelspec": {
      "name": "python3",
      "display_name": "Python 3"
    },
    "language_info": {
      "name": "python"
    }
  },
  "cells": [
    {
      "cell_type": "code",
      "execution_count": null,
      "metadata": {
        "id": "wZH5Y1DmpE7C"
      },
      "outputs": [],
      "source": [
        "from bs4 import BeautifulSoup\n",
        "import requests"
      ]
    },
    {
      "cell_type": "code",
      "source": [
        "url=\"https://www.flipkart.com/search?q=laptops&as=on&as-show=on&otracker=AS_Query_HistoryAutoSuggest_1_6_na_na_na&otracker1=AS_Query_HistoryAutoSuggest_1_6_na_na_na&as-pos=1&as-type=HISTORY&suggestionId=laptops&requestId=59e0dd65-b7ea-4ee0-ab3c-44fa79590706&as-searchtext=Laptop\""
      ],
      "metadata": {
        "id": "h5GJThO5pRsn"
      },
      "execution_count": null,
      "outputs": []
    },
    {
      "cell_type": "code",
      "source": [
        "r = requests.get(url)"
      ],
      "metadata": {
        "id": "IqYfE1ohpYIK"
      },
      "execution_count": null,
      "outputs": []
    },
    {
      "cell_type": "code",
      "source": [
        "htmlContent = r.content"
      ],
      "metadata": {
        "id": "ZxAUwd6vpddR"
      },
      "execution_count": null,
      "outputs": []
    },
    {
      "cell_type": "code",
      "source": [
        "soup = BeautifulSoup(htmlContent,\"html.parser\")"
      ],
      "metadata": {
        "id": "r3m_LJmjphkW"
      },
      "execution_count": null,
      "outputs": []
    },
    {
      "cell_type": "code",
      "source": [
        "soup.find(\"div\",class_=\"col col-7-12\")"
      ],
      "metadata": {
        "colab": {
          "base_uri": "https://localhost:8080/"
        },
        "id": "ukJMUXF3pnlS",
        "outputId": "07fdb6ed-41ab-4e5c-8ab7-4496c73d94ac"
      },
      "execution_count": null,
      "outputs": [
        {
          "output_type": "execute_result",
          "data": {
            "text/plain": [
              "<div class=\"col col-7-12\"><div class=\"_4rR01T\">Lenovo IdeaPad 3 Core i3 11th Gen - (8 GB/512 GB SSD/Windows 11 Home) 15ITL6 Thin and Light Laptop</div><div class=\"gUuXy-\"><span class=\"_1lRcqv\" id=\"productRating_LSTCOMG9VHHG6Q3RRJXQHPK6Q_COMG9VHHG6Q3RRJX_\"><div class=\"_3LWZlK\">4.4<img class=\"_1wB99o\" src=\"data:image/svg+xml;base64,PHN2ZyB4bWxucz0iaHR0cDovL3d3dy53My5vcmcvMjAwMC9zdmciIHdpZHRoPSIxMyIgaGVpZ2h0PSIxMiI+PHBhdGggZmlsbD0iI0ZGRiIgZD0iTTYuNSA5LjQzOWwtMy42NzQgMi4yMy45NC00LjI2LTMuMjEtMi44ODMgNC4yNTQtLjQwNEw2LjUuMTEybDEuNjkgNC4wMSA0LjI1NC40MDQtMy4yMSAyLjg4Mi45NCA0LjI2eiIvPjwvc3ZnPg==\"/></div></span><span class=\"_2_R_DZ\"><span><span>374 Ratings </span><span class=\"_13vcmD\">&amp;</span><span> 40 Reviews</span></span></span></div><div class=\"fMghEO\"><ul class=\"_1xgFaf\"><li class=\"rgWa7D\">Intel Core i3 Processor (11th Gen)</li><li class=\"rgWa7D\">8 GB DDR4 RAM</li><li class=\"rgWa7D\">64 bit Windows 11 Operating System</li><li class=\"rgWa7D\">512 GB SSD</li><li class=\"rgWa7D\">39.62 cm (15.6 inch) Display</li><li class=\"rgWa7D\">Office Home and Student 2021</li><li class=\"rgWa7D\">1 Year Carry-In Warranty</li></ul></div></div>"
            ]
          },
          "metadata": {},
          "execution_count": 6
        }
      ]
    },
    {
      "cell_type": "code",
      "source": [
        "names=[]\n",
        "price=[]\n",
        "rating=[]\n",
        "processsor=[]\n",
        "ram=[]\n",
        "ssd=[]\n",
        "display=[]\n",
        "for laptop in soup.find_all(\"div\",class_=\"col col-7-12\"):\n",
        "  names.append(laptop.find(\"div\",class_=\"_4rR01T\").get_text())\n",
        "  t=[]\n",
        "  for elements in laptop.find_all(\"li\",class_=\"rgWa7D\"):\n",
        "    t.append(elements.get_text())\n",
        "  rating.append(laptop.find(\"div\",class_=\"_3LWZlK\").get_text())\n",
        "  ram.append(t[1])\n",
        "  processsor.append(t[0])\n",
        "  display.append(t[4])\n",
        "  ssd.append(t[3])\n",
        "\n",
        "  \n",
        "  \n",
        "\n",
        "  \n",
        "\n",
        "\n"
      ],
      "metadata": {
        "id": "nbC2QZcPppzJ"
      },
      "execution_count": null,
      "outputs": []
    },
    {
      "cell_type": "code",
      "source": [
        "names=[]\n",
        "price=[]\n",
        "rating=[]\n",
        "processsor=[]\n",
        "ram=[]\n",
        "ssd=[]\n",
        "display=[]\n",
        "for k in range(1,42):\n",
        "  url=\"https://www.flipkart.com/search?q=laptops&as=on&as-show=on&otracker=AS_Query_HistoryAutoSuggest_1_6_na_na_na&otracker1=AS_Query_HistoryAutoSuggest_1_6_na_na_na&as-pos=1&as-type=HISTORY&suggestionId=laptops&requestId=59e0dd65-b7ea-4ee0-ab3c-44fa79590706&as-searchtext=Laptop&page=\"+str(k)\n",
        "  r=requests.get(url)\n",
        "  htmlcontent= r.content\n",
        "  soup=BeautifulSoup(htmlContent,\"html.parser\")\n",
        "  for laptop in soup.find_all(\"div\",class_=\"col col-7-12\"):\n",
        "    names.append(laptop.find(\"div\",class_=\"_4rR01T\").get_text())\n",
        "    t=[]\n",
        "    for elements in laptop.find_all(\"li\",class_=\"rgWa7D\"):\n",
        "      t.append(elements.get_text())\n",
        "    rating.append(laptop.find(\"div\",class_=\"_3LWZlK\").get_text())\n",
        "    ram.append(t[1])\n",
        "    processsor.append(t[0])\n",
        "    display.append(t[4])\n",
        "    ssd.append(t[3])\n",
        "\n"
      ],
      "metadata": {
        "id": "DREPS8EKsPLZ"
      },
      "execution_count": null,
      "outputs": []
    },
    {
      "cell_type": "code",
      "source": [
        "len(names)"
      ],
      "metadata": {
        "id": "J3_qSlO1sUb6",
        "colab": {
          "base_uri": "https://localhost:8080/"
        },
        "outputId": "f50e9a76-942b-4103-c6a8-186ce15e8bc4"
      },
      "execution_count": null,
      "outputs": [
        {
          "output_type": "execute_result",
          "data": {
            "text/plain": [
              "984"
            ]
          },
          "metadata": {},
          "execution_count": 9
        }
      ]
    },
    {
      "cell_type": "code",
      "source": [
        "price=[]\n",
        "for k in range(1,42):\n",
        "  url=\"https://www.flipkart.com/search?q=laptops&as=on&as-show=on&otracker=AS_Query_HistoryAutoSuggest_1_6_na_na_na&otracker1=AS_Query_HistoryAutoSuggest_1_6_na_na_na&as-pos=1&as-type=HISTORY&suggestionId=laptops&requestId=59e0dd65-b7ea-4ee0-ab3c-44fa79590706&as-searchtext=Laptop&page=\"+str(k)\n",
        "  r=requests.get(url)\n",
        "  htmlcontent= r.content\n",
        "  soup=BeautifulSoup(htmlContent,\"html.parser\")\n",
        "  for laptop in soup.find_all(\"div\",class_=\"_30jeq3 _1_WHN1\"):\n",
        "    try:\n",
        "      price.append(laptop.get_text())\n",
        "    except:\n",
        "      price.append(\"NaN\")"
      ],
      "metadata": {
        "id": "xeejtX4At1df"
      },
      "execution_count": null,
      "outputs": []
    },
    {
      "cell_type": "code",
      "source": [
        "import pandas as pd"
      ],
      "metadata": {
        "id": "EAssvQlWubNt"
      },
      "execution_count": null,
      "outputs": []
    },
    {
      "cell_type": "code",
      "source": [
        "data={\"Name\":names,\"Ratings\":rating,\"Processor\":processsor,\"RAM\":ram,\"SSD\":ssd,\"Display\":display,\"Price\":price}"
      ],
      "metadata": {
        "id": "onRVZItGu6wL"
      },
      "execution_count": null,
      "outputs": []
    },
    {
      "cell_type": "code",
      "source": [
        "df=pd.DataFrame(data)"
      ],
      "metadata": {
        "id": "bFtndcefvjCl"
      },
      "execution_count": null,
      "outputs": []
    },
    {
      "cell_type": "code",
      "source": [
        "df.to_csv(\"Flipkart Laptop Dataset.csv\")"
      ],
      "metadata": {
        "id": "XL_T8XG7xbMn"
      },
      "execution_count": null,
      "outputs": []
    },
    {
      "cell_type": "code",
      "source": [],
      "metadata": {
        "id": "_fB-IkS4xiQR"
      },
      "execution_count": null,
      "outputs": []
    }
  ]
}