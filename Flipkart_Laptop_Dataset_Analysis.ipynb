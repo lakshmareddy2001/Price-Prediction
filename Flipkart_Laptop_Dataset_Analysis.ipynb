{
  "cells": [
    {
      "cell_type": "code",
      "execution_count": null,
      "metadata": {
        "id": "uAEb4XauppzV"
      },
      "outputs": [],
      "source": [
        "import numpy as np \n",
        "import pandas as pd"
      ]
    },
    {
      "cell_type": "code",
      "execution_count": null,
      "metadata": {
        "id": "TfRw4a6ytQ-E"
      },
      "outputs": [],
      "source": [
        "df=pd.read_csv(\"/content/Flipkart Laptop Dataset.csv\")"
      ]
    },
    {
      "cell_type": "code",
      "source": [
        "len(df)"
      ],
      "metadata": {
        "colab": {
          "base_uri": "https://localhost:8080/"
        },
        "id": "fc4jIDuCqiiG",
        "outputId": "fc74ea89-b3cd-468e-8aeb-29da801f5304"
      },
      "execution_count": null,
      "outputs": [
        {
          "output_type": "execute_result",
          "data": {
            "text/plain": [
              "984"
            ]
          },
          "metadata": {},
          "execution_count": 362
        }
      ]
    },
    {
      "cell_type": "code",
      "execution_count": null,
      "metadata": {
        "colab": {
          "base_uri": "https://localhost:8080/",
          "height": 354
        },
        "id": "gMfKTS2CFdHl",
        "outputId": "bbe24b77-011d-4c86-9352-6804c631a0b2"
      },
      "outputs": [
        {
          "output_type": "execute_result",
          "data": {
            "text/plain": [
              "   Unnamed: 0                                               Name  Ratings  \\\n",
              "0           0  Lenovo IdeaPad 3 Core i3 11th Gen - (8 GB/512 ...      4.4   \n",
              "1           1  DELL Core i3 10th Gen - (8 GB/1 TB HDD/256 GB ...      4.6   \n",
              "2           2  Lenovo IdeaPad 3 Core i3 10th Gen - (8 GB/256 ...      4.4   \n",
              "3           3  DELL Vostro Core i3 10th Gen - (8 GB/1 TB HDD/...      4.6   \n",
              "4           4  HP Ryzen 3 Dual Core 3250U - (8 GB/256 GB SSD/...      4.3   \n",
              "\n",
              "                            Processor            RAM                  SSD  \\\n",
              "0  Intel Core i3 Processor (11th Gen)  8 GB DDR4 RAM           512 GB SSD   \n",
              "1  Intel Core i3 Processor (10th Gen)  8 GB DDR4 RAM  1 TB HDD|256 GB SSD   \n",
              "2  Intel Core i3 Processor (10th Gen)  8 GB DDR4 RAM           256 GB SSD   \n",
              "3  Intel Core i3 Processor (10th Gen)  8 GB DDR4 RAM  1 TB HDD|256 GB SSD   \n",
              "4     AMD Ryzen 3 Dual Core Processor  8 GB DDR4 RAM           256 GB SSD   \n",
              "\n",
              "                        Display    Price  \n",
              "0  39.62 cm (15.6 inch) Display  ₹40,490  \n",
              "1  39.62 cm (15.6 inch) Display  ₹39,990  \n",
              "2  39.62 cm (15.6 Inch) Display  ₹36,990  \n",
              "3  39.62 cm (15.6 inch) Display  ₹39,990  \n",
              "4  39.62 cm (15.6 inch) Display  ₹35,990  "
            ],
            "text/html": [
              "\n",
              "  <div id=\"df-01c129c6-a7aa-42f5-92d9-07017faf91cf\">\n",
              "    <div class=\"colab-df-container\">\n",
              "      <div>\n",
              "<style scoped>\n",
              "    .dataframe tbody tr th:only-of-type {\n",
              "        vertical-align: middle;\n",
              "    }\n",
              "\n",
              "    .dataframe tbody tr th {\n",
              "        vertical-align: top;\n",
              "    }\n",
              "\n",
              "    .dataframe thead th {\n",
              "        text-align: right;\n",
              "    }\n",
              "</style>\n",
              "<table border=\"1\" class=\"dataframe\">\n",
              "  <thead>\n",
              "    <tr style=\"text-align: right;\">\n",
              "      <th></th>\n",
              "      <th>Unnamed: 0</th>\n",
              "      <th>Name</th>\n",
              "      <th>Ratings</th>\n",
              "      <th>Processor</th>\n",
              "      <th>RAM</th>\n",
              "      <th>SSD</th>\n",
              "      <th>Display</th>\n",
              "      <th>Price</th>\n",
              "    </tr>\n",
              "  </thead>\n",
              "  <tbody>\n",
              "    <tr>\n",
              "      <th>0</th>\n",
              "      <td>0</td>\n",
              "      <td>Lenovo IdeaPad 3 Core i3 11th Gen - (8 GB/512 ...</td>\n",
              "      <td>4.4</td>\n",
              "      <td>Intel Core i3 Processor (11th Gen)</td>\n",
              "      <td>8 GB DDR4 RAM</td>\n",
              "      <td>512 GB SSD</td>\n",
              "      <td>39.62 cm (15.6 inch) Display</td>\n",
              "      <td>₹40,490</td>\n",
              "    </tr>\n",
              "    <tr>\n",
              "      <th>1</th>\n",
              "      <td>1</td>\n",
              "      <td>DELL Core i3 10th Gen - (8 GB/1 TB HDD/256 GB ...</td>\n",
              "      <td>4.6</td>\n",
              "      <td>Intel Core i3 Processor (10th Gen)</td>\n",
              "      <td>8 GB DDR4 RAM</td>\n",
              "      <td>1 TB HDD|256 GB SSD</td>\n",
              "      <td>39.62 cm (15.6 inch) Display</td>\n",
              "      <td>₹39,990</td>\n",
              "    </tr>\n",
              "    <tr>\n",
              "      <th>2</th>\n",
              "      <td>2</td>\n",
              "      <td>Lenovo IdeaPad 3 Core i3 10th Gen - (8 GB/256 ...</td>\n",
              "      <td>4.4</td>\n",
              "      <td>Intel Core i3 Processor (10th Gen)</td>\n",
              "      <td>8 GB DDR4 RAM</td>\n",
              "      <td>256 GB SSD</td>\n",
              "      <td>39.62 cm (15.6 Inch) Display</td>\n",
              "      <td>₹36,990</td>\n",
              "    </tr>\n",
              "    <tr>\n",
              "      <th>3</th>\n",
              "      <td>3</td>\n",
              "      <td>DELL Vostro Core i3 10th Gen - (8 GB/1 TB HDD/...</td>\n",
              "      <td>4.6</td>\n",
              "      <td>Intel Core i3 Processor (10th Gen)</td>\n",
              "      <td>8 GB DDR4 RAM</td>\n",
              "      <td>1 TB HDD|256 GB SSD</td>\n",
              "      <td>39.62 cm (15.6 inch) Display</td>\n",
              "      <td>₹39,990</td>\n",
              "    </tr>\n",
              "    <tr>\n",
              "      <th>4</th>\n",
              "      <td>4</td>\n",
              "      <td>HP Ryzen 3 Dual Core 3250U - (8 GB/256 GB SSD/...</td>\n",
              "      <td>4.3</td>\n",
              "      <td>AMD Ryzen 3 Dual Core Processor</td>\n",
              "      <td>8 GB DDR4 RAM</td>\n",
              "      <td>256 GB SSD</td>\n",
              "      <td>39.62 cm (15.6 inch) Display</td>\n",
              "      <td>₹35,990</td>\n",
              "    </tr>\n",
              "  </tbody>\n",
              "</table>\n",
              "</div>\n",
              "      <button class=\"colab-df-convert\" onclick=\"convertToInteractive('df-01c129c6-a7aa-42f5-92d9-07017faf91cf')\"\n",
              "              title=\"Convert this dataframe to an interactive table.\"\n",
              "              style=\"display:none;\">\n",
              "        \n",
              "  <svg xmlns=\"http://www.w3.org/2000/svg\" height=\"24px\"viewBox=\"0 0 24 24\"\n",
              "       width=\"24px\">\n",
              "    <path d=\"M0 0h24v24H0V0z\" fill=\"none\"/>\n",
              "    <path d=\"M18.56 5.44l.94 2.06.94-2.06 2.06-.94-2.06-.94-.94-2.06-.94 2.06-2.06.94zm-11 1L8.5 8.5l.94-2.06 2.06-.94-2.06-.94L8.5 2.5l-.94 2.06-2.06.94zm10 10l.94 2.06.94-2.06 2.06-.94-2.06-.94-.94-2.06-.94 2.06-2.06.94z\"/><path d=\"M17.41 7.96l-1.37-1.37c-.4-.4-.92-.59-1.43-.59-.52 0-1.04.2-1.43.59L10.3 9.45l-7.72 7.72c-.78.78-.78 2.05 0 2.83L4 21.41c.39.39.9.59 1.41.59.51 0 1.02-.2 1.41-.59l7.78-7.78 2.81-2.81c.8-.78.8-2.07 0-2.86zM5.41 20L4 18.59l7.72-7.72 1.47 1.35L5.41 20z\"/>\n",
              "  </svg>\n",
              "      </button>\n",
              "      \n",
              "  <style>\n",
              "    .colab-df-container {\n",
              "      display:flex;\n",
              "      flex-wrap:wrap;\n",
              "      gap: 12px;\n",
              "    }\n",
              "\n",
              "    .colab-df-convert {\n",
              "      background-color: #E8F0FE;\n",
              "      border: none;\n",
              "      border-radius: 50%;\n",
              "      cursor: pointer;\n",
              "      display: none;\n",
              "      fill: #1967D2;\n",
              "      height: 32px;\n",
              "      padding: 0 0 0 0;\n",
              "      width: 32px;\n",
              "    }\n",
              "\n",
              "    .colab-df-convert:hover {\n",
              "      background-color: #E2EBFA;\n",
              "      box-shadow: 0px 1px 2px rgba(60, 64, 67, 0.3), 0px 1px 3px 1px rgba(60, 64, 67, 0.15);\n",
              "      fill: #174EA6;\n",
              "    }\n",
              "\n",
              "    [theme=dark] .colab-df-convert {\n",
              "      background-color: #3B4455;\n",
              "      fill: #D2E3FC;\n",
              "    }\n",
              "\n",
              "    [theme=dark] .colab-df-convert:hover {\n",
              "      background-color: #434B5C;\n",
              "      box-shadow: 0px 1px 3px 1px rgba(0, 0, 0, 0.15);\n",
              "      filter: drop-shadow(0px 1px 2px rgba(0, 0, 0, 0.3));\n",
              "      fill: #FFFFFF;\n",
              "    }\n",
              "  </style>\n",
              "\n",
              "      <script>\n",
              "        const buttonEl =\n",
              "          document.querySelector('#df-01c129c6-a7aa-42f5-92d9-07017faf91cf button.colab-df-convert');\n",
              "        buttonEl.style.display =\n",
              "          google.colab.kernel.accessAllowed ? 'block' : 'none';\n",
              "\n",
              "        async function convertToInteractive(key) {\n",
              "          const element = document.querySelector('#df-01c129c6-a7aa-42f5-92d9-07017faf91cf');\n",
              "          const dataTable =\n",
              "            await google.colab.kernel.invokeFunction('convertToInteractive',\n",
              "                                                     [key], {});\n",
              "          if (!dataTable) return;\n",
              "\n",
              "          const docLinkHtml = 'Like what you see? Visit the ' +\n",
              "            '<a target=\"_blank\" href=https://colab.research.google.com/notebooks/data_table.ipynb>data table notebook</a>'\n",
              "            + ' to learn more about interactive tables.';\n",
              "          element.innerHTML = '';\n",
              "          dataTable['output_type'] = 'display_data';\n",
              "          await google.colab.output.renderOutput(dataTable, element);\n",
              "          const docLink = document.createElement('div');\n",
              "          docLink.innerHTML = docLinkHtml;\n",
              "          element.appendChild(docLink);\n",
              "        }\n",
              "      </script>\n",
              "    </div>\n",
              "  </div>\n",
              "  "
            ]
          },
          "metadata": {},
          "execution_count": 363
        }
      ],
      "source": [
        "df.head()"
      ]
    },
    {
      "cell_type": "code",
      "source": [
        "Laptops = {\"hp\":8,\"dell\":9,\"apple\":10,\"asus\":6,\"lenovo\":7,\"acer\":5,'infinix':6,'other':0}"
      ],
      "metadata": {
        "id": "pmisJapl5lBb"
      },
      "execution_count": null,
      "outputs": []
    },
    {
      "cell_type": "code",
      "source": [
        "names = df['Name']\n",
        "names_coded = []\n",
        "for i in names:\n",
        "  val = 0\n",
        "  for j in Laptops:\n",
        "    if(j in i.lower()):\n",
        "      val = Laptops[j]\n",
        "  if(val != 0):\n",
        "    names_coded.append(val)"
      ],
      "metadata": {
        "id": "XlD5fQTTB5M6"
      },
      "execution_count": null,
      "outputs": []
    },
    {
      "cell_type": "code",
      "source": [
        "len(names_coded)"
      ],
      "metadata": {
        "colab": {
          "base_uri": "https://localhost:8080/"
        },
        "id": "Iswg5l2oret7",
        "outputId": "b6eda533-b221-4d2f-85be-ccd5d8c2586e"
      },
      "execution_count": null,
      "outputs": [
        {
          "output_type": "execute_result",
          "data": {
            "text/plain": [
              "984"
            ]
          },
          "metadata": {},
          "execution_count": 366
        }
      ]
    },
    {
      "cell_type": "code",
      "source": [
        "df['Coded Names'] = names_coded"
      ],
      "metadata": {
        "id": "1xPmYMkmC9mz"
      },
      "execution_count": null,
      "outputs": []
    },
    {
      "cell_type": "code",
      "source": [
        "Processor = {\"i3\":8,\"i5\":9,\"i7\":10,\"ryzen 5\":8,\"ryzen 3\":7,\"apple m1\":10}\n",
        "processor_data = df['Processor']\n",
        "Processor_codded = []\n",
        "for i in processor_data:\n",
        "  val = 0\n",
        "  for j in Processor:\n",
        "    if(j in i.lower()):\n",
        "      val = Processor[j]\n",
        "  if(val!=0):\n",
        "    Processor_codded.append(val)\n",
        "  else:\n",
        "    Processor_codded.append(6)"
      ],
      "metadata": {
        "id": "Zud3fTlFo40q"
      },
      "execution_count": null,
      "outputs": []
    },
    {
      "cell_type": "code",
      "source": [
        "df['Processor_data'] = Processor_codded"
      ],
      "metadata": {
        "id": "uwr4ZyeJoup8"
      },
      "execution_count": null,
      "outputs": []
    },
    {
      "cell_type": "code",
      "execution_count": null,
      "metadata": {
        "id": "b13C0ahRFe7i"
      },
      "outputs": [],
      "source": [
        "df['Price'] = [int(i.split(\"₹\")[1].replace(\",\",\"\")) for i in df['Price']]"
      ]
    },
    {
      "cell_type": "code",
      "execution_count": null,
      "metadata": {
        "id": "V-qebqzRFr2d"
      },
      "outputs": [],
      "source": [
        "df['Ratings'] = [float(i) for i in df[\"Ratings\"]]"
      ]
    },
    {
      "cell_type": "code",
      "execution_count": null,
      "metadata": {
        "colab": {
          "base_uri": "https://localhost:8080/"
        },
        "id": "sZyPxEEaGNYd",
        "outputId": "b25e7088-6608-475f-8d89-6c03c121c459"
      },
      "outputs": [
        {
          "output_type": "stream",
          "name": "stdout",
          "text": [
            "<class 'pandas.core.frame.DataFrame'>\n",
            "RangeIndex: 984 entries, 0 to 983\n",
            "Data columns (total 10 columns):\n",
            " #   Column          Non-Null Count  Dtype  \n",
            "---  ------          --------------  -----  \n",
            " 0   Unnamed: 0      984 non-null    int64  \n",
            " 1   Name            984 non-null    object \n",
            " 2   Ratings         984 non-null    float64\n",
            " 3   Processor       984 non-null    object \n",
            " 4   RAM             984 non-null    object \n",
            " 5   SSD             984 non-null    object \n",
            " 6   Display         984 non-null    object \n",
            " 7   Price           984 non-null    int64  \n",
            " 8   Coded Names     984 non-null    int64  \n",
            " 9   Processor_data  984 non-null    int64  \n",
            "dtypes: float64(1), int64(4), object(5)\n",
            "memory usage: 77.0+ KB\n"
          ]
        }
      ],
      "source": [
        "df.info()"
      ]
    },
    {
      "cell_type": "code",
      "source": [
        "ssd = []\n",
        "dis = df['SSD']\n",
        "for i in dis:\n",
        "  if(\"SSD\" in i):\n",
        "    s = int(i.split(\" \")[0])\n",
        "    ssd.append(s)"
      ],
      "metadata": {
        "id": "KtmVa0RMxFBu"
      },
      "execution_count": null,
      "outputs": []
    },
    {
      "cell_type": "code",
      "execution_count": null,
      "metadata": {
        "id": "1fPgNpEMGcU1"
      },
      "outputs": [],
      "source": [
        "average_SSD = int(sum(ssd)/len(ssd))"
      ]
    },
    {
      "cell_type": "code",
      "execution_count": null,
      "metadata": {
        "id": "B366aqAtGTtb"
      },
      "outputs": [],
      "source": [
        "ssd = []\n",
        "dis = df['SSD']\n",
        "for i in dis:\n",
        "  if(\"SSD\" in i):\n",
        "    s = int(i.split(\" \")[0])\n",
        "    ssd.append(s)\n",
        "  else:\n",
        "    ssd.append(average_SSD)"
      ]
    },
    {
      "cell_type": "code",
      "execution_count": null,
      "metadata": {
        "colab": {
          "base_uri": "https://localhost:8080/"
        },
        "id": "Sp-tTs_iG2Vx",
        "outputId": "66a77be8-26b1-4670-f9c1-9c31cd462f3c"
      },
      "outputs": [
        {
          "output_type": "execute_result",
          "data": {
            "text/plain": [
              "984"
            ]
          },
          "metadata": {},
          "execution_count": 376
        }
      ],
      "source": [
        "len(ssd)"
      ]
    },
    {
      "cell_type": "code",
      "execution_count": null,
      "metadata": {
        "id": "yIhYlDEmHC0y"
      },
      "outputs": [],
      "source": [
        "df['SSD'] = ssd"
      ]
    },
    {
      "cell_type": "code",
      "execution_count": null,
      "metadata": {
        "colab": {
          "base_uri": "https://localhost:8080/"
        },
        "id": "CU5iQ2pvHbSl",
        "outputId": "104ded9b-fa4d-467d-82d3-84e7e1e8e244"
      },
      "outputs": [
        {
          "output_type": "stream",
          "name": "stdout",
          "text": [
            "<class 'pandas.core.frame.DataFrame'>\n",
            "RangeIndex: 984 entries, 0 to 983\n",
            "Data columns (total 10 columns):\n",
            " #   Column          Non-Null Count  Dtype  \n",
            "---  ------          --------------  -----  \n",
            " 0   Unnamed: 0      984 non-null    int64  \n",
            " 1   Name            984 non-null    object \n",
            " 2   Ratings         984 non-null    float64\n",
            " 3   Processor       984 non-null    object \n",
            " 4   RAM             984 non-null    object \n",
            " 5   SSD             984 non-null    int64  \n",
            " 6   Display         984 non-null    object \n",
            " 7   Price           984 non-null    int64  \n",
            " 8   Coded Names     984 non-null    int64  \n",
            " 9   Processor_data  984 non-null    int64  \n",
            "dtypes: float64(1), int64(5), object(4)\n",
            "memory usage: 77.0+ KB\n"
          ]
        }
      ],
      "source": [
        "df.info()"
      ]
    },
    {
      "cell_type": "code",
      "source": [
        "ram = []\n",
        "dis = df['RAM']\n",
        "for i in dis:\n",
        "  if(\"RAM\" in i):\n",
        "    s = int(i.split(\" \")[0])\n",
        "    ram.append(s)"
      ],
      "metadata": {
        "id": "tkz4l93hxOjF"
      },
      "execution_count": null,
      "outputs": []
    },
    {
      "cell_type": "code",
      "execution_count": null,
      "metadata": {
        "id": "uqtbwYT6IZHb"
      },
      "outputs": [],
      "source": [
        "average_RAM = int(sum(ram)/len(ram))"
      ]
    },
    {
      "cell_type": "code",
      "execution_count": null,
      "metadata": {
        "id": "F6VO_mfCHdLN"
      },
      "outputs": [],
      "source": [
        "ram = []\n",
        "dis = df['RAM']\n",
        "for i in dis:\n",
        "  if(\"RAM\" in i):\n",
        "    s = int(i.split(\" \")[0])\n",
        "    ram.append(s)\n",
        "  else:\n",
        "    ram.append(average_RAM)"
      ]
    },
    {
      "cell_type": "code",
      "execution_count": null,
      "metadata": {
        "id": "RZzOVU4yIhY4"
      },
      "outputs": [],
      "source": [
        "df['RAM'] = ram"
      ]
    },
    {
      "cell_type": "code",
      "source": [
        "display = []\n",
        "dis = df['Display']\n",
        "for i in dis:\n",
        "  if(\"cm\" in i):\n",
        "    display.append(float(i.split(\" \")[0].replace(\" \",\"\")))"
      ],
      "metadata": {
        "id": "PwrvwKWKxTzh"
      },
      "execution_count": null,
      "outputs": []
    },
    {
      "cell_type": "code",
      "execution_count": null,
      "metadata": {
        "id": "gA8zeEHeKEsr"
      },
      "outputs": [],
      "source": [
        "average_Display = sum(display)/len(display)"
      ]
    },
    {
      "cell_type": "code",
      "execution_count": null,
      "metadata": {
        "id": "VVl-p3iBIyCj"
      },
      "outputs": [],
      "source": [
        "display = []\n",
        "dis = df['Display']\n",
        "for i in dis:\n",
        "  if(\"cm\" in i):\n",
        "    display.append(float(i.split(\" \")[0].replace(\" \",\"\")))\n",
        "  else:\n",
        "    display.append(average_Display)"
      ]
    },
    {
      "cell_type": "code",
      "execution_count": null,
      "metadata": {
        "id": "2kD3ooFCKZy3"
      },
      "outputs": [],
      "source": [
        "df['Display'] = display"
      ]
    },
    {
      "cell_type": "code",
      "execution_count": null,
      "metadata": {
        "colab": {
          "base_uri": "https://localhost:8080/"
        },
        "id": "FVkoxrWeK0qr",
        "outputId": "08b561d7-7415-41b2-cec4-6eba06de0e42"
      },
      "outputs": [
        {
          "output_type": "stream",
          "name": "stdout",
          "text": [
            "<class 'pandas.core.frame.DataFrame'>\n",
            "RangeIndex: 984 entries, 0 to 983\n",
            "Data columns (total 10 columns):\n",
            " #   Column          Non-Null Count  Dtype  \n",
            "---  ------          --------------  -----  \n",
            " 0   Unnamed: 0      984 non-null    int64  \n",
            " 1   Name            984 non-null    object \n",
            " 2   Ratings         984 non-null    float64\n",
            " 3   Processor       984 non-null    object \n",
            " 4   RAM             984 non-null    int64  \n",
            " 5   SSD             984 non-null    int64  \n",
            " 6   Display         984 non-null    float64\n",
            " 7   Price           984 non-null    int64  \n",
            " 8   Coded Names     984 non-null    int64  \n",
            " 9   Processor_data  984 non-null    int64  \n",
            "dtypes: float64(2), int64(6), object(2)\n",
            "memory usage: 77.0+ KB\n"
          ]
        }
      ],
      "source": [
        "df.info()"
      ]
    },
    {
      "cell_type": "code",
      "execution_count": null,
      "metadata": {
        "id": "Z4FDWkpuK2y4"
      },
      "outputs": [],
      "source": [
        "df.drop(['Processor'],axis=1,inplace=True)"
      ]
    },
    {
      "cell_type": "code",
      "execution_count": null,
      "metadata": {
        "id": "5nc5mD4xND8w"
      },
      "outputs": [],
      "source": [
        "df.drop(['Unnamed: 0'],axis=1,inplace=True)"
      ]
    },
    {
      "cell_type": "code",
      "execution_count": null,
      "metadata": {
        "colab": {
          "base_uri": "https://localhost:8080/",
          "height": 206
        },
        "id": "Z8go9vfANNr7",
        "outputId": "1c40c7d6-9e9d-48cb-dd5a-e29758951a59"
      },
      "outputs": [
        {
          "output_type": "execute_result",
          "data": {
            "text/plain": [
              "                                                Name  Ratings  RAM  SSD  \\\n",
              "0  Lenovo IdeaPad 3 Core i3 11th Gen - (8 GB/512 ...      4.4    8  512   \n",
              "1  DELL Core i3 10th Gen - (8 GB/1 TB HDD/256 GB ...      4.6    8    1   \n",
              "2  Lenovo IdeaPad 3 Core i3 10th Gen - (8 GB/256 ...      4.4    8  256   \n",
              "3  DELL Vostro Core i3 10th Gen - (8 GB/1 TB HDD/...      4.6    8    1   \n",
              "4  HP Ryzen 3 Dual Core 3250U - (8 GB/256 GB SSD/...      4.3    8  256   \n",
              "\n",
              "   Display  Price  Coded Names  Processor_data  \n",
              "0    39.62  40490            7               8  \n",
              "1    39.62  39990            9               8  \n",
              "2    39.62  36990            7               8  \n",
              "3    39.62  39990            9               8  \n",
              "4    39.62  35990            8               7  "
            ],
            "text/html": [
              "\n",
              "  <div id=\"df-ef60238f-fbf2-4d19-9599-b04f7dd08dd5\">\n",
              "    <div class=\"colab-df-container\">\n",
              "      <div>\n",
              "<style scoped>\n",
              "    .dataframe tbody tr th:only-of-type {\n",
              "        vertical-align: middle;\n",
              "    }\n",
              "\n",
              "    .dataframe tbody tr th {\n",
              "        vertical-align: top;\n",
              "    }\n",
              "\n",
              "    .dataframe thead th {\n",
              "        text-align: right;\n",
              "    }\n",
              "</style>\n",
              "<table border=\"1\" class=\"dataframe\">\n",
              "  <thead>\n",
              "    <tr style=\"text-align: right;\">\n",
              "      <th></th>\n",
              "      <th>Name</th>\n",
              "      <th>Ratings</th>\n",
              "      <th>RAM</th>\n",
              "      <th>SSD</th>\n",
              "      <th>Display</th>\n",
              "      <th>Price</th>\n",
              "      <th>Coded Names</th>\n",
              "      <th>Processor_data</th>\n",
              "    </tr>\n",
              "  </thead>\n",
              "  <tbody>\n",
              "    <tr>\n",
              "      <th>0</th>\n",
              "      <td>Lenovo IdeaPad 3 Core i3 11th Gen - (8 GB/512 ...</td>\n",
              "      <td>4.4</td>\n",
              "      <td>8</td>\n",
              "      <td>512</td>\n",
              "      <td>39.62</td>\n",
              "      <td>40490</td>\n",
              "      <td>7</td>\n",
              "      <td>8</td>\n",
              "    </tr>\n",
              "    <tr>\n",
              "      <th>1</th>\n",
              "      <td>DELL Core i3 10th Gen - (8 GB/1 TB HDD/256 GB ...</td>\n",
              "      <td>4.6</td>\n",
              "      <td>8</td>\n",
              "      <td>1</td>\n",
              "      <td>39.62</td>\n",
              "      <td>39990</td>\n",
              "      <td>9</td>\n",
              "      <td>8</td>\n",
              "    </tr>\n",
              "    <tr>\n",
              "      <th>2</th>\n",
              "      <td>Lenovo IdeaPad 3 Core i3 10th Gen - (8 GB/256 ...</td>\n",
              "      <td>4.4</td>\n",
              "      <td>8</td>\n",
              "      <td>256</td>\n",
              "      <td>39.62</td>\n",
              "      <td>36990</td>\n",
              "      <td>7</td>\n",
              "      <td>8</td>\n",
              "    </tr>\n",
              "    <tr>\n",
              "      <th>3</th>\n",
              "      <td>DELL Vostro Core i3 10th Gen - (8 GB/1 TB HDD/...</td>\n",
              "      <td>4.6</td>\n",
              "      <td>8</td>\n",
              "      <td>1</td>\n",
              "      <td>39.62</td>\n",
              "      <td>39990</td>\n",
              "      <td>9</td>\n",
              "      <td>8</td>\n",
              "    </tr>\n",
              "    <tr>\n",
              "      <th>4</th>\n",
              "      <td>HP Ryzen 3 Dual Core 3250U - (8 GB/256 GB SSD/...</td>\n",
              "      <td>4.3</td>\n",
              "      <td>8</td>\n",
              "      <td>256</td>\n",
              "      <td>39.62</td>\n",
              "      <td>35990</td>\n",
              "      <td>8</td>\n",
              "      <td>7</td>\n",
              "    </tr>\n",
              "  </tbody>\n",
              "</table>\n",
              "</div>\n",
              "      <button class=\"colab-df-convert\" onclick=\"convertToInteractive('df-ef60238f-fbf2-4d19-9599-b04f7dd08dd5')\"\n",
              "              title=\"Convert this dataframe to an interactive table.\"\n",
              "              style=\"display:none;\">\n",
              "        \n",
              "  <svg xmlns=\"http://www.w3.org/2000/svg\" height=\"24px\"viewBox=\"0 0 24 24\"\n",
              "       width=\"24px\">\n",
              "    <path d=\"M0 0h24v24H0V0z\" fill=\"none\"/>\n",
              "    <path d=\"M18.56 5.44l.94 2.06.94-2.06 2.06-.94-2.06-.94-.94-2.06-.94 2.06-2.06.94zm-11 1L8.5 8.5l.94-2.06 2.06-.94-2.06-.94L8.5 2.5l-.94 2.06-2.06.94zm10 10l.94 2.06.94-2.06 2.06-.94-2.06-.94-.94-2.06-.94 2.06-2.06.94z\"/><path d=\"M17.41 7.96l-1.37-1.37c-.4-.4-.92-.59-1.43-.59-.52 0-1.04.2-1.43.59L10.3 9.45l-7.72 7.72c-.78.78-.78 2.05 0 2.83L4 21.41c.39.39.9.59 1.41.59.51 0 1.02-.2 1.41-.59l7.78-7.78 2.81-2.81c.8-.78.8-2.07 0-2.86zM5.41 20L4 18.59l7.72-7.72 1.47 1.35L5.41 20z\"/>\n",
              "  </svg>\n",
              "      </button>\n",
              "      \n",
              "  <style>\n",
              "    .colab-df-container {\n",
              "      display:flex;\n",
              "      flex-wrap:wrap;\n",
              "      gap: 12px;\n",
              "    }\n",
              "\n",
              "    .colab-df-convert {\n",
              "      background-color: #E8F0FE;\n",
              "      border: none;\n",
              "      border-radius: 50%;\n",
              "      cursor: pointer;\n",
              "      display: none;\n",
              "      fill: #1967D2;\n",
              "      height: 32px;\n",
              "      padding: 0 0 0 0;\n",
              "      width: 32px;\n",
              "    }\n",
              "\n",
              "    .colab-df-convert:hover {\n",
              "      background-color: #E2EBFA;\n",
              "      box-shadow: 0px 1px 2px rgba(60, 64, 67, 0.3), 0px 1px 3px 1px rgba(60, 64, 67, 0.15);\n",
              "      fill: #174EA6;\n",
              "    }\n",
              "\n",
              "    [theme=dark] .colab-df-convert {\n",
              "      background-color: #3B4455;\n",
              "      fill: #D2E3FC;\n",
              "    }\n",
              "\n",
              "    [theme=dark] .colab-df-convert:hover {\n",
              "      background-color: #434B5C;\n",
              "      box-shadow: 0px 1px 3px 1px rgba(0, 0, 0, 0.15);\n",
              "      filter: drop-shadow(0px 1px 2px rgba(0, 0, 0, 0.3));\n",
              "      fill: #FFFFFF;\n",
              "    }\n",
              "  </style>\n",
              "\n",
              "      <script>\n",
              "        const buttonEl =\n",
              "          document.querySelector('#df-ef60238f-fbf2-4d19-9599-b04f7dd08dd5 button.colab-df-convert');\n",
              "        buttonEl.style.display =\n",
              "          google.colab.kernel.accessAllowed ? 'block' : 'none';\n",
              "\n",
              "        async function convertToInteractive(key) {\n",
              "          const element = document.querySelector('#df-ef60238f-fbf2-4d19-9599-b04f7dd08dd5');\n",
              "          const dataTable =\n",
              "            await google.colab.kernel.invokeFunction('convertToInteractive',\n",
              "                                                     [key], {});\n",
              "          if (!dataTable) return;\n",
              "\n",
              "          const docLinkHtml = 'Like what you see? Visit the ' +\n",
              "            '<a target=\"_blank\" href=https://colab.research.google.com/notebooks/data_table.ipynb>data table notebook</a>'\n",
              "            + ' to learn more about interactive tables.';\n",
              "          element.innerHTML = '';\n",
              "          dataTable['output_type'] = 'display_data';\n",
              "          await google.colab.output.renderOutput(dataTable, element);\n",
              "          const docLink = document.createElement('div');\n",
              "          docLink.innerHTML = docLinkHtml;\n",
              "          element.appendChild(docLink);\n",
              "        }\n",
              "      </script>\n",
              "    </div>\n",
              "  </div>\n",
              "  "
            ]
          },
          "metadata": {},
          "execution_count": 390
        }
      ],
      "source": [
        "df.head()"
      ]
    },
    {
      "cell_type": "code",
      "execution_count": null,
      "metadata": {
        "id": "3wwUwRJSNPTn"
      },
      "outputs": [],
      "source": [
        "df.to_csv('Flipkart Laptop Data Cleanend.csv')"
      ]
    },
    {
      "cell_type": "code",
      "execution_count": null,
      "metadata": {
        "id": "22EtZx-pNXPz"
      },
      "outputs": [],
      "source": [
        "df = pd.read_csv(\"/content/Flipkart Laptop Data Cleanend.csv\")"
      ]
    },
    {
      "cell_type": "code",
      "execution_count": null,
      "metadata": {
        "colab": {
          "base_uri": "https://localhost:8080/",
          "height": 206
        },
        "id": "UiRQo0qGNh_4",
        "outputId": "b2d9cdb4-03b8-48f6-8362-4d9a9a58cc6c"
      },
      "outputs": [
        {
          "output_type": "execute_result",
          "data": {
            "text/plain": [
              "   Unnamed: 0                                               Name  Ratings  \\\n",
              "0           0  Lenovo IdeaPad 3 Core i3 11th Gen - (8 GB/512 ...      4.4   \n",
              "1           1  DELL Core i3 10th Gen - (8 GB/1 TB HDD/256 GB ...      4.6   \n",
              "2           2  Lenovo IdeaPad 3 Core i3 10th Gen - (8 GB/256 ...      4.4   \n",
              "3           3  DELL Vostro Core i3 10th Gen - (8 GB/1 TB HDD/...      4.6   \n",
              "4           4  HP Ryzen 3 Dual Core 3250U - (8 GB/256 GB SSD/...      4.3   \n",
              "\n",
              "   RAM  SSD  Display  Price  Coded Names  Processor_data  \n",
              "0    8  512    39.62  40490            7               8  \n",
              "1    8    1    39.62  39990            9               8  \n",
              "2    8  256    39.62  36990            7               8  \n",
              "3    8    1    39.62  39990            9               8  \n",
              "4    8  256    39.62  35990            8               7  "
            ],
            "text/html": [
              "\n",
              "  <div id=\"df-f8cbca99-0303-476b-99e6-fd7af0c97b16\">\n",
              "    <div class=\"colab-df-container\">\n",
              "      <div>\n",
              "<style scoped>\n",
              "    .dataframe tbody tr th:only-of-type {\n",
              "        vertical-align: middle;\n",
              "    }\n",
              "\n",
              "    .dataframe tbody tr th {\n",
              "        vertical-align: top;\n",
              "    }\n",
              "\n",
              "    .dataframe thead th {\n",
              "        text-align: right;\n",
              "    }\n",
              "</style>\n",
              "<table border=\"1\" class=\"dataframe\">\n",
              "  <thead>\n",
              "    <tr style=\"text-align: right;\">\n",
              "      <th></th>\n",
              "      <th>Unnamed: 0</th>\n",
              "      <th>Name</th>\n",
              "      <th>Ratings</th>\n",
              "      <th>RAM</th>\n",
              "      <th>SSD</th>\n",
              "      <th>Display</th>\n",
              "      <th>Price</th>\n",
              "      <th>Coded Names</th>\n",
              "      <th>Processor_data</th>\n",
              "    </tr>\n",
              "  </thead>\n",
              "  <tbody>\n",
              "    <tr>\n",
              "      <th>0</th>\n",
              "      <td>0</td>\n",
              "      <td>Lenovo IdeaPad 3 Core i3 11th Gen - (8 GB/512 ...</td>\n",
              "      <td>4.4</td>\n",
              "      <td>8</td>\n",
              "      <td>512</td>\n",
              "      <td>39.62</td>\n",
              "      <td>40490</td>\n",
              "      <td>7</td>\n",
              "      <td>8</td>\n",
              "    </tr>\n",
              "    <tr>\n",
              "      <th>1</th>\n",
              "      <td>1</td>\n",
              "      <td>DELL Core i3 10th Gen - (8 GB/1 TB HDD/256 GB ...</td>\n",
              "      <td>4.6</td>\n",
              "      <td>8</td>\n",
              "      <td>1</td>\n",
              "      <td>39.62</td>\n",
              "      <td>39990</td>\n",
              "      <td>9</td>\n",
              "      <td>8</td>\n",
              "    </tr>\n",
              "    <tr>\n",
              "      <th>2</th>\n",
              "      <td>2</td>\n",
              "      <td>Lenovo IdeaPad 3 Core i3 10th Gen - (8 GB/256 ...</td>\n",
              "      <td>4.4</td>\n",
              "      <td>8</td>\n",
              "      <td>256</td>\n",
              "      <td>39.62</td>\n",
              "      <td>36990</td>\n",
              "      <td>7</td>\n",
              "      <td>8</td>\n",
              "    </tr>\n",
              "    <tr>\n",
              "      <th>3</th>\n",
              "      <td>3</td>\n",
              "      <td>DELL Vostro Core i3 10th Gen - (8 GB/1 TB HDD/...</td>\n",
              "      <td>4.6</td>\n",
              "      <td>8</td>\n",
              "      <td>1</td>\n",
              "      <td>39.62</td>\n",
              "      <td>39990</td>\n",
              "      <td>9</td>\n",
              "      <td>8</td>\n",
              "    </tr>\n",
              "    <tr>\n",
              "      <th>4</th>\n",
              "      <td>4</td>\n",
              "      <td>HP Ryzen 3 Dual Core 3250U - (8 GB/256 GB SSD/...</td>\n",
              "      <td>4.3</td>\n",
              "      <td>8</td>\n",
              "      <td>256</td>\n",
              "      <td>39.62</td>\n",
              "      <td>35990</td>\n",
              "      <td>8</td>\n",
              "      <td>7</td>\n",
              "    </tr>\n",
              "  </tbody>\n",
              "</table>\n",
              "</div>\n",
              "      <button class=\"colab-df-convert\" onclick=\"convertToInteractive('df-f8cbca99-0303-476b-99e6-fd7af0c97b16')\"\n",
              "              title=\"Convert this dataframe to an interactive table.\"\n",
              "              style=\"display:none;\">\n",
              "        \n",
              "  <svg xmlns=\"http://www.w3.org/2000/svg\" height=\"24px\"viewBox=\"0 0 24 24\"\n",
              "       width=\"24px\">\n",
              "    <path d=\"M0 0h24v24H0V0z\" fill=\"none\"/>\n",
              "    <path d=\"M18.56 5.44l.94 2.06.94-2.06 2.06-.94-2.06-.94-.94-2.06-.94 2.06-2.06.94zm-11 1L8.5 8.5l.94-2.06 2.06-.94-2.06-.94L8.5 2.5l-.94 2.06-2.06.94zm10 10l.94 2.06.94-2.06 2.06-.94-2.06-.94-.94-2.06-.94 2.06-2.06.94z\"/><path d=\"M17.41 7.96l-1.37-1.37c-.4-.4-.92-.59-1.43-.59-.52 0-1.04.2-1.43.59L10.3 9.45l-7.72 7.72c-.78.78-.78 2.05 0 2.83L4 21.41c.39.39.9.59 1.41.59.51 0 1.02-.2 1.41-.59l7.78-7.78 2.81-2.81c.8-.78.8-2.07 0-2.86zM5.41 20L4 18.59l7.72-7.72 1.47 1.35L5.41 20z\"/>\n",
              "  </svg>\n",
              "      </button>\n",
              "      \n",
              "  <style>\n",
              "    .colab-df-container {\n",
              "      display:flex;\n",
              "      flex-wrap:wrap;\n",
              "      gap: 12px;\n",
              "    }\n",
              "\n",
              "    .colab-df-convert {\n",
              "      background-color: #E8F0FE;\n",
              "      border: none;\n",
              "      border-radius: 50%;\n",
              "      cursor: pointer;\n",
              "      display: none;\n",
              "      fill: #1967D2;\n",
              "      height: 32px;\n",
              "      padding: 0 0 0 0;\n",
              "      width: 32px;\n",
              "    }\n",
              "\n",
              "    .colab-df-convert:hover {\n",
              "      background-color: #E2EBFA;\n",
              "      box-shadow: 0px 1px 2px rgba(60, 64, 67, 0.3), 0px 1px 3px 1px rgba(60, 64, 67, 0.15);\n",
              "      fill: #174EA6;\n",
              "    }\n",
              "\n",
              "    [theme=dark] .colab-df-convert {\n",
              "      background-color: #3B4455;\n",
              "      fill: #D2E3FC;\n",
              "    }\n",
              "\n",
              "    [theme=dark] .colab-df-convert:hover {\n",
              "      background-color: #434B5C;\n",
              "      box-shadow: 0px 1px 3px 1px rgba(0, 0, 0, 0.15);\n",
              "      filter: drop-shadow(0px 1px 2px rgba(0, 0, 0, 0.3));\n",
              "      fill: #FFFFFF;\n",
              "    }\n",
              "  </style>\n",
              "\n",
              "      <script>\n",
              "        const buttonEl =\n",
              "          document.querySelector('#df-f8cbca99-0303-476b-99e6-fd7af0c97b16 button.colab-df-convert');\n",
              "        buttonEl.style.display =\n",
              "          google.colab.kernel.accessAllowed ? 'block' : 'none';\n",
              "\n",
              "        async function convertToInteractive(key) {\n",
              "          const element = document.querySelector('#df-f8cbca99-0303-476b-99e6-fd7af0c97b16');\n",
              "          const dataTable =\n",
              "            await google.colab.kernel.invokeFunction('convertToInteractive',\n",
              "                                                     [key], {});\n",
              "          if (!dataTable) return;\n",
              "\n",
              "          const docLinkHtml = 'Like what you see? Visit the ' +\n",
              "            '<a target=\"_blank\" href=https://colab.research.google.com/notebooks/data_table.ipynb>data table notebook</a>'\n",
              "            + ' to learn more about interactive tables.';\n",
              "          element.innerHTML = '';\n",
              "          dataTable['output_type'] = 'display_data';\n",
              "          await google.colab.output.renderOutput(dataTable, element);\n",
              "          const docLink = document.createElement('div');\n",
              "          docLink.innerHTML = docLinkHtml;\n",
              "          element.appendChild(docLink);\n",
              "        }\n",
              "      </script>\n",
              "    </div>\n",
              "  </div>\n",
              "  "
            ]
          },
          "metadata": {},
          "execution_count": 393
        }
      ],
      "source": [
        "df.head()"
      ]
    },
    {
      "cell_type": "code",
      "execution_count": null,
      "metadata": {
        "id": "iKgnzxmzNjMJ"
      },
      "outputs": [],
      "source": [
        "df.drop(['Unnamed: 0'],axis=1,inplace=True)"
      ]
    },
    {
      "cell_type": "code",
      "execution_count": null,
      "metadata": {
        "colab": {
          "base_uri": "https://localhost:8080/",
          "height": 206
        },
        "id": "HklHSXR_Nn_0",
        "outputId": "d5fa5ed8-47b3-41b8-f1bc-8cc9783c5eff"
      },
      "outputs": [
        {
          "output_type": "execute_result",
          "data": {
            "text/plain": [
              "                                                Name  Ratings  RAM  SSD  \\\n",
              "0  Lenovo IdeaPad 3 Core i3 11th Gen - (8 GB/512 ...      4.4    8  512   \n",
              "1  DELL Core i3 10th Gen - (8 GB/1 TB HDD/256 GB ...      4.6    8    1   \n",
              "2  Lenovo IdeaPad 3 Core i3 10th Gen - (8 GB/256 ...      4.4    8  256   \n",
              "3  DELL Vostro Core i3 10th Gen - (8 GB/1 TB HDD/...      4.6    8    1   \n",
              "4  HP Ryzen 3 Dual Core 3250U - (8 GB/256 GB SSD/...      4.3    8  256   \n",
              "\n",
              "   Display  Price  Coded Names  Processor_data  \n",
              "0    39.62  40490            7               8  \n",
              "1    39.62  39990            9               8  \n",
              "2    39.62  36990            7               8  \n",
              "3    39.62  39990            9               8  \n",
              "4    39.62  35990            8               7  "
            ],
            "text/html": [
              "\n",
              "  <div id=\"df-0c68f118-2dcc-4b77-ab45-48942ad4babb\">\n",
              "    <div class=\"colab-df-container\">\n",
              "      <div>\n",
              "<style scoped>\n",
              "    .dataframe tbody tr th:only-of-type {\n",
              "        vertical-align: middle;\n",
              "    }\n",
              "\n",
              "    .dataframe tbody tr th {\n",
              "        vertical-align: top;\n",
              "    }\n",
              "\n",
              "    .dataframe thead th {\n",
              "        text-align: right;\n",
              "    }\n",
              "</style>\n",
              "<table border=\"1\" class=\"dataframe\">\n",
              "  <thead>\n",
              "    <tr style=\"text-align: right;\">\n",
              "      <th></th>\n",
              "      <th>Name</th>\n",
              "      <th>Ratings</th>\n",
              "      <th>RAM</th>\n",
              "      <th>SSD</th>\n",
              "      <th>Display</th>\n",
              "      <th>Price</th>\n",
              "      <th>Coded Names</th>\n",
              "      <th>Processor_data</th>\n",
              "    </tr>\n",
              "  </thead>\n",
              "  <tbody>\n",
              "    <tr>\n",
              "      <th>0</th>\n",
              "      <td>Lenovo IdeaPad 3 Core i3 11th Gen - (8 GB/512 ...</td>\n",
              "      <td>4.4</td>\n",
              "      <td>8</td>\n",
              "      <td>512</td>\n",
              "      <td>39.62</td>\n",
              "      <td>40490</td>\n",
              "      <td>7</td>\n",
              "      <td>8</td>\n",
              "    </tr>\n",
              "    <tr>\n",
              "      <th>1</th>\n",
              "      <td>DELL Core i3 10th Gen - (8 GB/1 TB HDD/256 GB ...</td>\n",
              "      <td>4.6</td>\n",
              "      <td>8</td>\n",
              "      <td>1</td>\n",
              "      <td>39.62</td>\n",
              "      <td>39990</td>\n",
              "      <td>9</td>\n",
              "      <td>8</td>\n",
              "    </tr>\n",
              "    <tr>\n",
              "      <th>2</th>\n",
              "      <td>Lenovo IdeaPad 3 Core i3 10th Gen - (8 GB/256 ...</td>\n",
              "      <td>4.4</td>\n",
              "      <td>8</td>\n",
              "      <td>256</td>\n",
              "      <td>39.62</td>\n",
              "      <td>36990</td>\n",
              "      <td>7</td>\n",
              "      <td>8</td>\n",
              "    </tr>\n",
              "    <tr>\n",
              "      <th>3</th>\n",
              "      <td>DELL Vostro Core i3 10th Gen - (8 GB/1 TB HDD/...</td>\n",
              "      <td>4.6</td>\n",
              "      <td>8</td>\n",
              "      <td>1</td>\n",
              "      <td>39.62</td>\n",
              "      <td>39990</td>\n",
              "      <td>9</td>\n",
              "      <td>8</td>\n",
              "    </tr>\n",
              "    <tr>\n",
              "      <th>4</th>\n",
              "      <td>HP Ryzen 3 Dual Core 3250U - (8 GB/256 GB SSD/...</td>\n",
              "      <td>4.3</td>\n",
              "      <td>8</td>\n",
              "      <td>256</td>\n",
              "      <td>39.62</td>\n",
              "      <td>35990</td>\n",
              "      <td>8</td>\n",
              "      <td>7</td>\n",
              "    </tr>\n",
              "  </tbody>\n",
              "</table>\n",
              "</div>\n",
              "      <button class=\"colab-df-convert\" onclick=\"convertToInteractive('df-0c68f118-2dcc-4b77-ab45-48942ad4babb')\"\n",
              "              title=\"Convert this dataframe to an interactive table.\"\n",
              "              style=\"display:none;\">\n",
              "        \n",
              "  <svg xmlns=\"http://www.w3.org/2000/svg\" height=\"24px\"viewBox=\"0 0 24 24\"\n",
              "       width=\"24px\">\n",
              "    <path d=\"M0 0h24v24H0V0z\" fill=\"none\"/>\n",
              "    <path d=\"M18.56 5.44l.94 2.06.94-2.06 2.06-.94-2.06-.94-.94-2.06-.94 2.06-2.06.94zm-11 1L8.5 8.5l.94-2.06 2.06-.94-2.06-.94L8.5 2.5l-.94 2.06-2.06.94zm10 10l.94 2.06.94-2.06 2.06-.94-2.06-.94-.94-2.06-.94 2.06-2.06.94z\"/><path d=\"M17.41 7.96l-1.37-1.37c-.4-.4-.92-.59-1.43-.59-.52 0-1.04.2-1.43.59L10.3 9.45l-7.72 7.72c-.78.78-.78 2.05 0 2.83L4 21.41c.39.39.9.59 1.41.59.51 0 1.02-.2 1.41-.59l7.78-7.78 2.81-2.81c.8-.78.8-2.07 0-2.86zM5.41 20L4 18.59l7.72-7.72 1.47 1.35L5.41 20z\"/>\n",
              "  </svg>\n",
              "      </button>\n",
              "      \n",
              "  <style>\n",
              "    .colab-df-container {\n",
              "      display:flex;\n",
              "      flex-wrap:wrap;\n",
              "      gap: 12px;\n",
              "    }\n",
              "\n",
              "    .colab-df-convert {\n",
              "      background-color: #E8F0FE;\n",
              "      border: none;\n",
              "      border-radius: 50%;\n",
              "      cursor: pointer;\n",
              "      display: none;\n",
              "      fill: #1967D2;\n",
              "      height: 32px;\n",
              "      padding: 0 0 0 0;\n",
              "      width: 32px;\n",
              "    }\n",
              "\n",
              "    .colab-df-convert:hover {\n",
              "      background-color: #E2EBFA;\n",
              "      box-shadow: 0px 1px 2px rgba(60, 64, 67, 0.3), 0px 1px 3px 1px rgba(60, 64, 67, 0.15);\n",
              "      fill: #174EA6;\n",
              "    }\n",
              "\n",
              "    [theme=dark] .colab-df-convert {\n",
              "      background-color: #3B4455;\n",
              "      fill: #D2E3FC;\n",
              "    }\n",
              "\n",
              "    [theme=dark] .colab-df-convert:hover {\n",
              "      background-color: #434B5C;\n",
              "      box-shadow: 0px 1px 3px 1px rgba(0, 0, 0, 0.15);\n",
              "      filter: drop-shadow(0px 1px 2px rgba(0, 0, 0, 0.3));\n",
              "      fill: #FFFFFF;\n",
              "    }\n",
              "  </style>\n",
              "\n",
              "      <script>\n",
              "        const buttonEl =\n",
              "          document.querySelector('#df-0c68f118-2dcc-4b77-ab45-48942ad4babb button.colab-df-convert');\n",
              "        buttonEl.style.display =\n",
              "          google.colab.kernel.accessAllowed ? 'block' : 'none';\n",
              "\n",
              "        async function convertToInteractive(key) {\n",
              "          const element = document.querySelector('#df-0c68f118-2dcc-4b77-ab45-48942ad4babb');\n",
              "          const dataTable =\n",
              "            await google.colab.kernel.invokeFunction('convertToInteractive',\n",
              "                                                     [key], {});\n",
              "          if (!dataTable) return;\n",
              "\n",
              "          const docLinkHtml = 'Like what you see? Visit the ' +\n",
              "            '<a target=\"_blank\" href=https://colab.research.google.com/notebooks/data_table.ipynb>data table notebook</a>'\n",
              "            + ' to learn more about interactive tables.';\n",
              "          element.innerHTML = '';\n",
              "          dataTable['output_type'] = 'display_data';\n",
              "          await google.colab.output.renderOutput(dataTable, element);\n",
              "          const docLink = document.createElement('div');\n",
              "          docLink.innerHTML = docLinkHtml;\n",
              "          element.appendChild(docLink);\n",
              "        }\n",
              "      </script>\n",
              "    </div>\n",
              "  </div>\n",
              "  "
            ]
          },
          "metadata": {},
          "execution_count": 395
        }
      ],
      "source": [
        "df.head()"
      ]
    },
    {
      "cell_type": "code",
      "execution_count": null,
      "metadata": {
        "id": "WnbRV4oiNpN8"
      },
      "outputs": [],
      "source": [
        "x=df.drop(['Name','Price'],axis=1)"
      ]
    },
    {
      "cell_type": "code",
      "execution_count": null,
      "metadata": {
        "id": "-x5dKfvTOVwZ"
      },
      "outputs": [],
      "source": [
        "y=df.Price"
      ]
    },
    {
      "cell_type": "code",
      "execution_count": null,
      "metadata": {
        "id": "4IGpFN6bOYFC"
      },
      "outputs": [],
      "source": [
        "x=np.array(x)"
      ]
    },
    {
      "cell_type": "code",
      "execution_count": null,
      "metadata": {
        "id": "2i2gzoFMOeM9"
      },
      "outputs": [],
      "source": [
        "y=np.array(y).reshape(-1,1)"
      ]
    },
    {
      "cell_type": "code",
      "execution_count": null,
      "metadata": {
        "id": "_AYU7gk1Og90"
      },
      "outputs": [],
      "source": [
        "from sklearn.preprocessing import StandardScaler"
      ]
    },
    {
      "cell_type": "code",
      "execution_count": null,
      "metadata": {
        "id": "LbonZCQcOmA1"
      },
      "outputs": [],
      "source": [
        "sc = StandardScaler()"
      ]
    },
    {
      "cell_type": "code",
      "execution_count": null,
      "metadata": {
        "id": "8YNp5LpZO1-G"
      },
      "outputs": [],
      "source": [
        "# x_transform = sc.fit_transform(x)"
      ]
    },
    {
      "cell_type": "code",
      "execution_count": null,
      "metadata": {
        "id": "VVLBTKpRO6un"
      },
      "outputs": [],
      "source": [
        "# y_transform = sc.fit_transform(y)"
      ]
    },
    {
      "cell_type": "code",
      "execution_count": null,
      "metadata": {
        "id": "U6ghi86HO_aH"
      },
      "outputs": [],
      "source": [
        "from sklearn.model_selection import train_test_split"
      ]
    },
    {
      "cell_type": "code",
      "execution_count": null,
      "metadata": {
        "id": "WqLAGuRdPEhI"
      },
      "outputs": [],
      "source": [
        "x_train,x_test,y_train,y_test = train_test_split(x,y,test_size=0.2)"
      ]
    },
    {
      "cell_type": "code",
      "execution_count": null,
      "metadata": {
        "colab": {
          "base_uri": "https://localhost:8080/"
        },
        "id": "zd1-HEAPPN5p",
        "outputId": "50ca91c8-611d-48b3-9b6d-fab2050161f5"
      },
      "outputs": [
        {
          "output_type": "execute_result",
          "data": {
            "text/plain": [
              "(984, 6)"
            ]
          },
          "metadata": {},
          "execution_count": 406
        }
      ],
      "source": [
        "x_transform.shape"
      ]
    },
    {
      "cell_type": "code",
      "execution_count": null,
      "metadata": {
        "id": "0aZqt5unPb-s"
      },
      "outputs": [],
      "source": [
        "\n",
        "from sklearn.linear_model import LinearRegression\n",
        "regre = LinearRegression()\n",
        "regre.fit(x_train,y_train)\n",
        "y_pred_linear = regre.predict(x_test)"
      ]
    },
    {
      "cell_type": "code",
      "source": [
        "from sklearn.metrics import r2_score"
      ],
      "metadata": {
        "id": "R2r8GEGHQOdA"
      },
      "execution_count": null,
      "outputs": []
    },
    {
      "cell_type": "code",
      "source": [
        "accuracy_linear = r2_score(y_test,y_pred_linear)\n",
        "accuracy_linear"
      ],
      "metadata": {
        "colab": {
          "base_uri": "https://localhost:8080/"
        },
        "id": "UaMCGhGDQhWD",
        "outputId": "dbd3f258-0827-4df8-9303-022008ecd8dd"
      },
      "execution_count": null,
      "outputs": [
        {
          "output_type": "execute_result",
          "data": {
            "text/plain": [
              "0.4732740405945888"
            ]
          },
          "metadata": {},
          "execution_count": 409
        }
      ]
    },
    {
      "cell_type": "code",
      "source": [
        "from sklearn.tree import DecisionTreeRegressor\n",
        "regre_Decision_tree = DecisionTreeRegressor()\n",
        "regre_Decision_tree.fit(x_train,y_train)\n",
        "y_pred_tree = regre_Decision_tree.predict(x_test)"
      ],
      "metadata": {
        "id": "QJXnpt9GQo2q"
      },
      "execution_count": null,
      "outputs": []
    },
    {
      "cell_type": "code",
      "source": [
        "regre_Decision_tree.predict([[4.5,8,512,39.62,7,8]])"
      ],
      "metadata": {
        "colab": {
          "base_uri": "https://localhost:8080/"
        },
        "id": "cJByqyd4tMq_",
        "outputId": "c3facb33-9f50-4bc8-9526-221d8c6eef9d"
      },
      "execution_count": null,
      "outputs": [
        {
          "output_type": "execute_result",
          "data": {
            "text/plain": [
              "array([38990.])"
            ]
          },
          "metadata": {},
          "execution_count": 430
        }
      ]
    },
    {
      "cell_type": "code",
      "source": [
        "accuracy_tree = r2_score(y_test,y_pred_tree)\n",
        "accuracy_tree"
      ],
      "metadata": {
        "colab": {
          "base_uri": "https://localhost:8080/"
        },
        "id": "zyMnw8phSLha",
        "outputId": "af50f79a-a6bd-491b-d99b-74e7a7458970"
      },
      "execution_count": null,
      "outputs": [
        {
          "output_type": "execute_result",
          "data": {
            "text/plain": [
              "1.0"
            ]
          },
          "metadata": {},
          "execution_count": 412
        }
      ]
    },
    {
      "cell_type": "code",
      "source": [
        "from sklearn.svm import SVR"
      ],
      "metadata": {
        "id": "OcjIK5nPSaUS"
      },
      "execution_count": null,
      "outputs": []
    },
    {
      "cell_type": "code",
      "source": [
        "regre_svr = SVR()\n",
        "regre_svr.fit(x_train,y_train)\n",
        "y_pred_svr = regre_svr.predict(x_test)"
      ],
      "metadata": {
        "colab": {
          "base_uri": "https://localhost:8080/"
        },
        "id": "Rg1wVTqiSxYD",
        "outputId": "32c3df95-47f3-43a0-8744-f79c69e2c6fd"
      },
      "execution_count": null,
      "outputs": [
        {
          "output_type": "stream",
          "name": "stderr",
          "text": [
            "/usr/local/lib/python3.7/dist-packages/sklearn/utils/validation.py:993: DataConversionWarning: A column-vector y was passed when a 1d array was expected. Please change the shape of y to (n_samples, ), for example using ravel().\n",
            "  y = column_or_1d(y, warn=True)\n"
          ]
        }
      ]
    },
    {
      "cell_type": "code",
      "source": [
        "accuracy_svr = r2_score(y_test,y_pred_svr)\n",
        "accuracy_svr"
      ],
      "metadata": {
        "colab": {
          "base_uri": "https://localhost:8080/"
        },
        "id": "wFjPyh9pS-tx",
        "outputId": "ca0fc134-ac7a-47e3-e799-8cb55a5c4e6a"
      },
      "execution_count": null,
      "outputs": [
        {
          "output_type": "execute_result",
          "data": {
            "text/plain": [
              "-0.11215568089336014"
            ]
          },
          "metadata": {},
          "execution_count": 415
        }
      ]
    },
    {
      "cell_type": "code",
      "source": [
        "df.head()"
      ],
      "metadata": {
        "colab": {
          "base_uri": "https://localhost:8080/",
          "height": 206
        },
        "id": "j98HENUATM_b",
        "outputId": "8d2fe80f-7e5b-45f3-9806-471c8913db34"
      },
      "execution_count": null,
      "outputs": [
        {
          "output_type": "execute_result",
          "data": {
            "text/plain": [
              "                                                Name  Ratings  RAM  SSD  \\\n",
              "0  Lenovo IdeaPad 3 Core i3 11th Gen - (8 GB/512 ...      4.4    8  512   \n",
              "1  DELL Core i3 10th Gen - (8 GB/1 TB HDD/256 GB ...      4.6    8    1   \n",
              "2  Lenovo IdeaPad 3 Core i3 10th Gen - (8 GB/256 ...      4.4    8  256   \n",
              "3  DELL Vostro Core i3 10th Gen - (8 GB/1 TB HDD/...      4.6    8    1   \n",
              "4  HP Ryzen 3 Dual Core 3250U - (8 GB/256 GB SSD/...      4.3    8  256   \n",
              "\n",
              "   Display  Price  Coded Names  Processor_data  \n",
              "0    39.62  40490            7               8  \n",
              "1    39.62  39990            9               8  \n",
              "2    39.62  36990            7               8  \n",
              "3    39.62  39990            9               8  \n",
              "4    39.62  35990            8               7  "
            ],
            "text/html": [
              "\n",
              "  <div id=\"df-16836220-b047-4eec-9da4-fa5266166aba\">\n",
              "    <div class=\"colab-df-container\">\n",
              "      <div>\n",
              "<style scoped>\n",
              "    .dataframe tbody tr th:only-of-type {\n",
              "        vertical-align: middle;\n",
              "    }\n",
              "\n",
              "    .dataframe tbody tr th {\n",
              "        vertical-align: top;\n",
              "    }\n",
              "\n",
              "    .dataframe thead th {\n",
              "        text-align: right;\n",
              "    }\n",
              "</style>\n",
              "<table border=\"1\" class=\"dataframe\">\n",
              "  <thead>\n",
              "    <tr style=\"text-align: right;\">\n",
              "      <th></th>\n",
              "      <th>Name</th>\n",
              "      <th>Ratings</th>\n",
              "      <th>RAM</th>\n",
              "      <th>SSD</th>\n",
              "      <th>Display</th>\n",
              "      <th>Price</th>\n",
              "      <th>Coded Names</th>\n",
              "      <th>Processor_data</th>\n",
              "    </tr>\n",
              "  </thead>\n",
              "  <tbody>\n",
              "    <tr>\n",
              "      <th>0</th>\n",
              "      <td>Lenovo IdeaPad 3 Core i3 11th Gen - (8 GB/512 ...</td>\n",
              "      <td>4.4</td>\n",
              "      <td>8</td>\n",
              "      <td>512</td>\n",
              "      <td>39.62</td>\n",
              "      <td>40490</td>\n",
              "      <td>7</td>\n",
              "      <td>8</td>\n",
              "    </tr>\n",
              "    <tr>\n",
              "      <th>1</th>\n",
              "      <td>DELL Core i3 10th Gen - (8 GB/1 TB HDD/256 GB ...</td>\n",
              "      <td>4.6</td>\n",
              "      <td>8</td>\n",
              "      <td>1</td>\n",
              "      <td>39.62</td>\n",
              "      <td>39990</td>\n",
              "      <td>9</td>\n",
              "      <td>8</td>\n",
              "    </tr>\n",
              "    <tr>\n",
              "      <th>2</th>\n",
              "      <td>Lenovo IdeaPad 3 Core i3 10th Gen - (8 GB/256 ...</td>\n",
              "      <td>4.4</td>\n",
              "      <td>8</td>\n",
              "      <td>256</td>\n",
              "      <td>39.62</td>\n",
              "      <td>36990</td>\n",
              "      <td>7</td>\n",
              "      <td>8</td>\n",
              "    </tr>\n",
              "    <tr>\n",
              "      <th>3</th>\n",
              "      <td>DELL Vostro Core i3 10th Gen - (8 GB/1 TB HDD/...</td>\n",
              "      <td>4.6</td>\n",
              "      <td>8</td>\n",
              "      <td>1</td>\n",
              "      <td>39.62</td>\n",
              "      <td>39990</td>\n",
              "      <td>9</td>\n",
              "      <td>8</td>\n",
              "    </tr>\n",
              "    <tr>\n",
              "      <th>4</th>\n",
              "      <td>HP Ryzen 3 Dual Core 3250U - (8 GB/256 GB SSD/...</td>\n",
              "      <td>4.3</td>\n",
              "      <td>8</td>\n",
              "      <td>256</td>\n",
              "      <td>39.62</td>\n",
              "      <td>35990</td>\n",
              "      <td>8</td>\n",
              "      <td>7</td>\n",
              "    </tr>\n",
              "  </tbody>\n",
              "</table>\n",
              "</div>\n",
              "      <button class=\"colab-df-convert\" onclick=\"convertToInteractive('df-16836220-b047-4eec-9da4-fa5266166aba')\"\n",
              "              title=\"Convert this dataframe to an interactive table.\"\n",
              "              style=\"display:none;\">\n",
              "        \n",
              "  <svg xmlns=\"http://www.w3.org/2000/svg\" height=\"24px\"viewBox=\"0 0 24 24\"\n",
              "       width=\"24px\">\n",
              "    <path d=\"M0 0h24v24H0V0z\" fill=\"none\"/>\n",
              "    <path d=\"M18.56 5.44l.94 2.06.94-2.06 2.06-.94-2.06-.94-.94-2.06-.94 2.06-2.06.94zm-11 1L8.5 8.5l.94-2.06 2.06-.94-2.06-.94L8.5 2.5l-.94 2.06-2.06.94zm10 10l.94 2.06.94-2.06 2.06-.94-2.06-.94-.94-2.06-.94 2.06-2.06.94z\"/><path d=\"M17.41 7.96l-1.37-1.37c-.4-.4-.92-.59-1.43-.59-.52 0-1.04.2-1.43.59L10.3 9.45l-7.72 7.72c-.78.78-.78 2.05 0 2.83L4 21.41c.39.39.9.59 1.41.59.51 0 1.02-.2 1.41-.59l7.78-7.78 2.81-2.81c.8-.78.8-2.07 0-2.86zM5.41 20L4 18.59l7.72-7.72 1.47 1.35L5.41 20z\"/>\n",
              "  </svg>\n",
              "      </button>\n",
              "      \n",
              "  <style>\n",
              "    .colab-df-container {\n",
              "      display:flex;\n",
              "      flex-wrap:wrap;\n",
              "      gap: 12px;\n",
              "    }\n",
              "\n",
              "    .colab-df-convert {\n",
              "      background-color: #E8F0FE;\n",
              "      border: none;\n",
              "      border-radius: 50%;\n",
              "      cursor: pointer;\n",
              "      display: none;\n",
              "      fill: #1967D2;\n",
              "      height: 32px;\n",
              "      padding: 0 0 0 0;\n",
              "      width: 32px;\n",
              "    }\n",
              "\n",
              "    .colab-df-convert:hover {\n",
              "      background-color: #E2EBFA;\n",
              "      box-shadow: 0px 1px 2px rgba(60, 64, 67, 0.3), 0px 1px 3px 1px rgba(60, 64, 67, 0.15);\n",
              "      fill: #174EA6;\n",
              "    }\n",
              "\n",
              "    [theme=dark] .colab-df-convert {\n",
              "      background-color: #3B4455;\n",
              "      fill: #D2E3FC;\n",
              "    }\n",
              "\n",
              "    [theme=dark] .colab-df-convert:hover {\n",
              "      background-color: #434B5C;\n",
              "      box-shadow: 0px 1px 3px 1px rgba(0, 0, 0, 0.15);\n",
              "      filter: drop-shadow(0px 1px 2px rgba(0, 0, 0, 0.3));\n",
              "      fill: #FFFFFF;\n",
              "    }\n",
              "  </style>\n",
              "\n",
              "      <script>\n",
              "        const buttonEl =\n",
              "          document.querySelector('#df-16836220-b047-4eec-9da4-fa5266166aba button.colab-df-convert');\n",
              "        buttonEl.style.display =\n",
              "          google.colab.kernel.accessAllowed ? 'block' : 'none';\n",
              "\n",
              "        async function convertToInteractive(key) {\n",
              "          const element = document.querySelector('#df-16836220-b047-4eec-9da4-fa5266166aba');\n",
              "          const dataTable =\n",
              "            await google.colab.kernel.invokeFunction('convertToInteractive',\n",
              "                                                     [key], {});\n",
              "          if (!dataTable) return;\n",
              "\n",
              "          const docLinkHtml = 'Like what you see? Visit the ' +\n",
              "            '<a target=\"_blank\" href=https://colab.research.google.com/notebooks/data_table.ipynb>data table notebook</a>'\n",
              "            + ' to learn more about interactive tables.';\n",
              "          element.innerHTML = '';\n",
              "          dataTable['output_type'] = 'display_data';\n",
              "          await google.colab.output.renderOutput(dataTable, element);\n",
              "          const docLink = document.createElement('div');\n",
              "          docLink.innerHTML = docLinkHtml;\n",
              "          element.appendChild(docLink);\n",
              "        }\n",
              "      </script>\n",
              "    </div>\n",
              "  </div>\n",
              "  "
            ]
          },
          "metadata": {},
          "execution_count": 416
        }
      ]
    },
    {
      "cell_type": "code",
      "source": [
        "df1 = df.drop(['Name'],axis=1)"
      ],
      "metadata": {
        "id": "bOnGxez_bKUL"
      },
      "execution_count": null,
      "outputs": []
    },
    {
      "cell_type": "code",
      "source": [
        "import matplotlib.pyplot as plt\n",
        "import seaborn as sns"
      ],
      "metadata": {
        "id": "eycxjr3XjCTg"
      },
      "execution_count": null,
      "outputs": []
    },
    {
      "cell_type": "code",
      "source": [
        "plt.figure(figsize = (10,8))\n",
        "sns.heatmap(df1.corr(),annot=True)"
      ],
      "metadata": {
        "colab": {
          "base_uri": "https://localhost:8080/",
          "height": 570
        },
        "id": "fjOMdKHxzvSn",
        "outputId": "59dc9e6d-8e05-4856-d178-500769849eb9"
      },
      "execution_count": null,
      "outputs": [
        {
          "output_type": "execute_result",
          "data": {
            "text/plain": [
              "<matplotlib.axes._subplots.AxesSubplot at 0x7ff8593b7a10>"
            ]
          },
          "metadata": {},
          "execution_count": 419
        },
        {
          "output_type": "display_data",
          "data": {
            "text/plain": [
              "<Figure size 720x576 with 2 Axes>"
            ],
            "image/png": "[encoded data removed]"
          },
          "metadata": {
            "needs_background": "light"
          }
        }
      ]
    },
    {
      "cell_type": "code",
      "source": [
        "from sklearn.metrics import mean_squared_error, mean_absolute_error"
      ],
      "metadata": {
        "id": "X0Ce81zgz04I"
      },
      "execution_count": null,
      "outputs": []
    },
    {
      "cell_type": "code",
      "source": [
        "acc_regre = mean_squared_error(y_test,y_pred_linear)\n",
        "acc_dregre = mean_squared_error(y_test,y_pred_tree)\n",
        "acc_svm = mean_squared_error(y_test,y_pred_svr)"
      ],
      "metadata": {
        "id": "Mt8JwKWccJRD"
      },
      "execution_count": null,
      "outputs": []
    },
    {
      "cell_type": "code",
      "source": [
        "plt.title('Mean Squared Error')\n",
        "plt.xlabel(\"Algorithm Used\")\n",
        "plt.ylabel(\"Mean Squared Error\")\n",
        "sns.barplot(x=['LR','DTR','SVM'],y=[acc_regre,acc_dregre,acc_svm])\n",
        "plt.show()"
      ],
      "metadata": {
        "colab": {
          "base_uri": "https://localhost:8080/",
          "height": 295
        },
        "id": "f8fCq75Pc3jL",
        "outputId": "871fbb6e-db89-4045-d0bf-682177a597e6"
      },
      "execution_count": null,
      "outputs": [
        {
          "output_type": "display_data",
          "data": {
            "text/plain": [
              "<Figure size 432x288 with 1 Axes>"
            ],
            "image/png": "[encoded data removed]"
          },
          "metadata": {
            "needs_background": "light"
          }
        }
      ]
    },
    {
      "cell_type": "code",
      "source": [
        "[acc_regre,acc_dregre,acc_svm]"
      ],
      "metadata": {
        "colab": {
          "base_uri": "https://localhost:8080/"
        },
        "id": "KbhY3oQyd419",
        "outputId": "ab0d1434-8969-468a-fb63-2ec67b719272"
      },
      "execution_count": null,
      "outputs": [
        {
          "output_type": "execute_result",
          "data": {
            "text/plain": [
              "[31577464.888477404, 0.0, 66674247.46555973]"
            ]
          },
          "metadata": {},
          "execution_count": 423
        }
      ]
    },
    {
      "cell_type": "code",
      "source": [
        "acc_regre = mean_absolute_error(y_test,y_pred_linear)\n",
        "acc_dregre = mean_absolute_error(y_test,y_pred_tree)\n",
        "acc_svm = mean_absolute_error(y_test,y_pred_svr)"
      ],
      "metadata": {
        "id": "vdFRfpZ1c7Bv"
      },
      "execution_count": null,
      "outputs": []
    },
    {
      "cell_type": "code",
      "source": [
        "plt.title('Mean Absolute Error')\n",
        "plt.xlabel(\"Algorithm Used\")\n",
        "plt.ylabel(\"Mean Absolute Error\")\n",
        "sns.barplot(x=['LR','DTR','SVM'],y=[acc_regre,acc_dregre,acc_svm])\n",
        "plt.show()"
      ],
      "metadata": {
        "colab": {
          "base_uri": "https://localhost:8080/",
          "height": 295
        },
        "id": "oVKto9IadLkb",
        "outputId": "ce86f481-c22c-485c-f4ca-ff30ec6693fd"
      },
      "execution_count": null,
      "outputs": [
        {
          "output_type": "display_data",
          "data": {
            "text/plain": [
              "<Figure size 432x288 with 1 Axes>"
            ],
            "image/png": "[encoded data removed]"
          },
          "metadata": {
            "needs_background": "light"
          }
        }
      ]
    },
    {
      "cell_type": "code",
      "source": [
        "[acc_regre,acc_dregre,acc_svm]"
      ],
      "metadata": {
        "colab": {
          "base_uri": "https://localhost:8080/"
        },
        "id": "xGkcwZAQd7Dz",
        "outputId": "8815eb98-c1a6-4b15-f6ab-90f6eb43ab02"
      },
      "execution_count": null,
      "outputs": [
        {
          "output_type": "execute_result",
          "data": {
            "text/plain": [
              "[3959.3415195751695, 0.0, 5695.257339651772]"
            ]
          },
          "metadata": {},
          "execution_count": 426
        }
      ]
    },
    {
      "cell_type": "code",
      "source": [
        "plt.title('Accuracy Of the Algorithms performed')\n",
        "plt.xlabel(\"Algorithm Used\")\n",
        "plt.ylabel(\"Accuracy\")\n",
        "clrs = ['red','blue','green']\n",
        "sns.barplot(x=['LR','DTR','SVM'],y=[accuracy_linear,accuracy_tree,accuracy_svr],palette=\"gist_ncar\")\n",
        "plt.show()"
      ],
      "metadata": {
        "colab": {
          "base_uri": "https://localhost:8080/",
          "height": 295
        },
        "id": "4ZK8dWXrdMk3",
        "outputId": "0e269fe2-dfbc-4c95-d773-45b2982af18f"
      },
      "execution_count": null,
      "outputs": [
        {
          "output_type": "display_data",
          "data": {
            "text/plain": [
              "<Figure size 432x288 with 1 Axes>"
            ],
            "image/png": "[encoded data removed]"
          },
          "metadata": {
            "needs_background": "light"
          }
        }
      ]
    },
    {
      "cell_type": "code",
      "source": [
        "[accuracy_linear,accuracy_tree,accuracy_svr]"
      ],
      "metadata": {
        "colab": {
          "base_uri": "https://localhost:8080/"
        },
        "id": "pPOze1wWdokF",
        "outputId": "83b41700-1f08-4b6f-cf40-51338262cdbc"
      },
      "execution_count": null,
      "outputs": [
        {
          "output_type": "execute_result",
          "data": {
            "text/plain": [
              "[0.4732740405945888, 1.0, -0.11215568089336014]"
            ]
          },
          "metadata": {},
          "execution_count": 428
        }
      ]
    },
    {
      "cell_type": "code",
      "source": [
        "import joblib"
      ],
      "metadata": {
        "id": "P7WqdEGhdv7h"
      },
      "execution_count": null,
      "outputs": []
    },
    {
      "cell_type": "code",
      "source": [
        "joblib.dump(regre_Decision_tree,'DecisionTreeLaptop.sav')"
      ],
      "metadata": {
        "id": "AgHCs077C_zW",
        "colab": {
          "base_uri": "https://localhost:8080/"
        },
        "outputId": "ec00fea5-49c8-4329-b6ff-af5b6c009703"
      },
      "execution_count": null,
      "outputs": [
        {
          "output_type": "execute_result",
          "data": {
            "text/plain": [
              "['DecisionTreeLaptop.sav']"
            ]
          },
          "metadata": {},
          "execution_count": 433
        }
      ]
    },
    {
      "cell_type": "code",
      "source": [],
      "metadata": {
        "id": "EUntxYeznk81"
      },
      "execution_count": null,
      "outputs": []
    }
  ],
  "metadata": {
    "colab": {
      "provenance": []
    },
    "kernelspec": {
      "display_name": "Python 3",
      "name": "python3"
    },
    "language_info": {
      "name": "python"
    }
  },
  "nbformat": 4,
  "nbformat_minor": 0
}