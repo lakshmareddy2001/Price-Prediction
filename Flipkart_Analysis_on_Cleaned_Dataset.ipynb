{
  "cells": [
    {
      "cell_type": "code",
      "execution_count": null,
      "metadata": {
        "id": "ivvSnO1WelqV"
      },
      "outputs": [],
      "source": [
        "import pandas as pd\n",
        "import numpy as np"
      ]
    },
    {
      "cell_type": "code",
      "execution_count": null,
      "metadata": {
        "id": "6PNMLdgJ0235"
      },
      "outputs": [],
      "source": [
        "df = pd.read_csv(\"/content/Flipkart Mobiles Dataset Cleaned.csv\")"
      ]
    },
    {
      "cell_type": "code",
      "execution_count": null,
      "metadata": {
        "colab": {
          "base_uri": "https://localhost:8080/",
          "height": 206
        },
        "id": "32F7sG-N1DeG",
        "outputId": "460e3d27-730a-48c8-fe20-2ee73f4301d7"
      },
      "outputs": [
        {
          "output_type": "execute_result",
          "data": {
            "text/plain": [
              "   Unnamed: 0  Unnamed: 0.1  \\\n",
              "0           0             0   \n",
              "1           1             1   \n",
              "2           2             2   \n",
              "3           3             3   \n",
              "4           4             4   \n",
              "\n",
              "                                                Name  Price  Rating  Battery  \\\n",
              "0                   realme C21Y (Cross Black, 32 GB)   9499     4.5     5000   \n",
              "1                   realme C21Y (Cross Black, 64 GB)  10499     4.5     5000   \n",
              "2                    realme C21Y (Cross Blue, 64 GB)  10499     4.5     5000   \n",
              "3  IAIR Basic Feature Dual Sim Mobile Phone with ...    999     3.9     2800   \n",
              "4                    realme C21Y (Cross Blue, 32 GB)   9499     4.5     5000   \n",
              "\n",
              "   Screen  RAM  ROM  Number of Cameras  \n",
              "0   16.51    3   32                  4  \n",
              "1   16.51    4   64                  4  \n",
              "2   16.51    4   64                  4  \n",
              "3    4.50   32   32                  2  \n",
              "4   16.51    3   32                  4  "
            ],
            "text/html": [
              "\n",
              "  <div id=\"df-fe5f3240-0668-43c8-8829-25b0e8dfdf66\">\n",
              "    <div class=\"colab-df-container\">\n",
              "      <div>\n",
              "<style scoped>\n",
              "    .dataframe tbody tr th:only-of-type {\n",
              "        vertical-align: middle;\n",
              "    }\n",
              "\n",
              "    .dataframe tbody tr th {\n",
              "        vertical-align: top;\n",
              "    }\n",
              "\n",
              "    .dataframe thead th {\n",
              "        text-align: right;\n",
              "    }\n",
              "</style>\n",
              "<table border=\"1\" class=\"dataframe\">\n",
              "  <thead>\n",
              "    <tr style=\"text-align: right;\">\n",
              "      <th></th>\n",
              "      <th>Unnamed: 0</th>\n",
              "      <th>Unnamed: 0.1</th>\n",
              "      <th>Name</th>\n",
              "      <th>Price</th>\n",
              "      <th>Rating</th>\n",
              "      <th>Battery</th>\n",
              "      <th>Screen</th>\n",
              "      <th>RAM</th>\n",
              "      <th>ROM</th>\n",
              "      <th>Number of Cameras</th>\n",
              "    </tr>\n",
              "  </thead>\n",
              "  <tbody>\n",
              "    <tr>\n",
              "      <th>0</th>\n",
              "      <td>0</td>\n",
              "      <td>0</td>\n",
              "      <td>realme C21Y (Cross Black, 32 GB)</td>\n",
              "      <td>9499</td>\n",
              "      <td>4.5</td>\n",
              "      <td>5000</td>\n",
              "      <td>16.51</td>\n",
              "      <td>3</td>\n",
              "      <td>32</td>\n",
              "      <td>4</td>\n",
              "    </tr>\n",
              "    <tr>\n",
              "      <th>1</th>\n",
              "      <td>1</td>\n",
              "      <td>1</td>\n",
              "      <td>realme C21Y (Cross Black, 64 GB)</td>\n",
              "      <td>10499</td>\n",
              "      <td>4.5</td>\n",
              "      <td>5000</td>\n",
              "      <td>16.51</td>\n",
              "      <td>4</td>\n",
              "      <td>64</td>\n",
              "      <td>4</td>\n",
              "    </tr>\n",
              "    <tr>\n",
              "      <th>2</th>\n",
              "      <td>2</td>\n",
              "      <td>2</td>\n",
              "      <td>realme C21Y (Cross Blue, 64 GB)</td>\n",
              "      <td>10499</td>\n",
              "      <td>4.5</td>\n",
              "      <td>5000</td>\n",
              "      <td>16.51</td>\n",
              "      <td>4</td>\n",
              "      <td>64</td>\n",
              "      <td>4</td>\n",
              "    </tr>\n",
              "    <tr>\n",
              "      <th>3</th>\n",
              "      <td>3</td>\n",
              "      <td>3</td>\n",
              "      <td>IAIR Basic Feature Dual Sim Mobile Phone with ...</td>\n",
              "      <td>999</td>\n",
              "      <td>3.9</td>\n",
              "      <td>2800</td>\n",
              "      <td>4.50</td>\n",
              "      <td>32</td>\n",
              "      <td>32</td>\n",
              "      <td>2</td>\n",
              "    </tr>\n",
              "    <tr>\n",
              "      <th>4</th>\n",
              "      <td>4</td>\n",
              "      <td>4</td>\n",
              "      <td>realme C21Y (Cross Blue, 32 GB)</td>\n",
              "      <td>9499</td>\n",
              "      <td>4.5</td>\n",
              "      <td>5000</td>\n",
              "      <td>16.51</td>\n",
              "      <td>3</td>\n",
              "      <td>32</td>\n",
              "      <td>4</td>\n",
              "    </tr>\n",
              "  </tbody>\n",
              "</table>\n",
              "</div>\n",
              "      <button class=\"colab-df-convert\" onclick=\"convertToInteractive('df-fe5f3240-0668-43c8-8829-25b0e8dfdf66')\"\n",
              "              title=\"Convert this dataframe to an interactive table.\"\n",
              "              style=\"display:none;\">\n",
              "        \n",
              "  <svg xmlns=\"http://www.w3.org/2000/svg\" height=\"24px\"viewBox=\"0 0 24 24\"\n",
              "       width=\"24px\">\n",
              "    <path d=\"M0 0h24v24H0V0z\" fill=\"none\"/>\n",
              "    <path d=\"M18.56 5.44l.94 2.06.94-2.06 2.06-.94-2.06-.94-.94-2.06-.94 2.06-2.06.94zm-11 1L8.5 8.5l.94-2.06 2.06-.94-2.06-.94L8.5 2.5l-.94 2.06-2.06.94zm10 10l.94 2.06.94-2.06 2.06-.94-2.06-.94-.94-2.06-.94 2.06-2.06.94z\"/><path d=\"M17.41 7.96l-1.37-1.37c-.4-.4-.92-.59-1.43-.59-.52 0-1.04.2-1.43.59L10.3 9.45l-7.72 7.72c-.78.78-.78 2.05 0 2.83L4 21.41c.39.39.9.59 1.41.59.51 0 1.02-.2 1.41-.59l7.78-7.78 2.81-2.81c.8-.78.8-2.07 0-2.86zM5.41 20L4 18.59l7.72-7.72 1.47 1.35L5.41 20z\"/>\n",
              "  </svg>\n",
              "      </button>\n",
              "      \n",
              "  <style>\n",
              "    .colab-df-container {\n",
              "      display:flex;\n",
              "      flex-wrap:wrap;\n",
              "      gap: 12px;\n",
              "    }\n",
              "\n",
              "    .colab-df-convert {\n",
              "      background-color: #E8F0FE;\n",
              "      border: none;\n",
              "      border-radius: 50%;\n",
              "      cursor: pointer;\n",
              "      display: none;\n",
              "      fill: #1967D2;\n",
              "      height: 32px;\n",
              "      padding: 0 0 0 0;\n",
              "      width: 32px;\n",
              "    }\n",
              "\n",
              "    .colab-df-convert:hover {\n",
              "      background-color: #E2EBFA;\n",
              "      box-shadow: 0px 1px 2px rgba(60, 64, 67, 0.3), 0px 1px 3px 1px rgba(60, 64, 67, 0.15);\n",
              "      fill: #174EA6;\n",
              "    }\n",
              "\n",
              "    [theme=dark] .colab-df-convert {\n",
              "      background-color: #3B4455;\n",
              "      fill: #D2E3FC;\n",
              "    }\n",
              "\n",
              "    [theme=dark] .colab-df-convert:hover {\n",
              "      background-color: #434B5C;\n",
              "      box-shadow: 0px 1px 3px 1px rgba(0, 0, 0, 0.15);\n",
              "      filter: drop-shadow(0px 1px 2px rgba(0, 0, 0, 0.3));\n",
              "      fill: #FFFFFF;\n",
              "    }\n",
              "  </style>\n",
              "\n",
              "      <script>\n",
              "        const buttonEl =\n",
              "          document.querySelector('#df-fe5f3240-0668-43c8-8829-25b0e8dfdf66 button.colab-df-convert');\n",
              "        buttonEl.style.display =\n",
              "          google.colab.kernel.accessAllowed ? 'block' : 'none';\n",
              "\n",
              "        async function convertToInteractive(key) {\n",
              "          const element = document.querySelector('#df-fe5f3240-0668-43c8-8829-25b0e8dfdf66');\n",
              "          const dataTable =\n",
              "            await google.colab.kernel.invokeFunction('convertToInteractive',\n",
              "                                                     [key], {});\n",
              "          if (!dataTable) return;\n",
              "\n",
              "          const docLinkHtml = 'Like what you see? Visit the ' +\n",
              "            '<a target=\"_blank\" href=https://colab.research.google.com/notebooks/data_table.ipynb>data table notebook</a>'\n",
              "            + ' to learn more about interactive tables.';\n",
              "          element.innerHTML = '';\n",
              "          dataTable['output_type'] = 'display_data';\n",
              "          await google.colab.output.renderOutput(dataTable, element);\n",
              "          const docLink = document.createElement('div');\n",
              "          docLink.innerHTML = docLinkHtml;\n",
              "          element.appendChild(docLink);\n",
              "        }\n",
              "      </script>\n",
              "    </div>\n",
              "  </div>\n",
              "  "
            ]
          },
          "metadata": {},
          "execution_count": 125
        }
      ],
      "source": [
        "df.head()"
      ]
    },
    {
      "cell_type": "code",
      "execution_count": null,
      "metadata": {
        "id": "sL42Btp81Fca"
      },
      "outputs": [],
      "source": [
        "df.drop(['Unnamed: 0','Unnamed: 0.1'],axis=1,inplace=True)"
      ]
    },
    {
      "cell_type": "code",
      "execution_count": null,
      "metadata": {
        "colab": {
          "base_uri": "https://localhost:8080/",
          "height": 206
        },
        "id": "twkqLXFB1Rlw",
        "outputId": "5f218b02-9fd3-448d-c432-7e03d264b842"
      },
      "outputs": [
        {
          "output_type": "execute_result",
          "data": {
            "text/plain": [
              "                                                Name  Price  Rating  Battery  \\\n",
              "0                   realme C21Y (Cross Black, 32 GB)   9499     4.5     5000   \n",
              "1                   realme C21Y (Cross Black, 64 GB)  10499     4.5     5000   \n",
              "2                    realme C21Y (Cross Blue, 64 GB)  10499     4.5     5000   \n",
              "3  IAIR Basic Feature Dual Sim Mobile Phone with ...    999     3.9     2800   \n",
              "4                    realme C21Y (Cross Blue, 32 GB)   9499     4.5     5000   \n",
              "\n",
              "   Screen  RAM  ROM  Number of Cameras  \n",
              "0   16.51    3   32                  4  \n",
              "1   16.51    4   64                  4  \n",
              "2   16.51    4   64                  4  \n",
              "3    4.50   32   32                  2  \n",
              "4   16.51    3   32                  4  "
            ],
            "text/html": [
              "\n",
              "  <div id=\"df-70496157-d1c3-4b62-9859-aeb7e5e8f008\">\n",
              "    <div class=\"colab-df-container\">\n",
              "      <div>\n",
              "<style scoped>\n",
              "    .dataframe tbody tr th:only-of-type {\n",
              "        vertical-align: middle;\n",
              "    }\n",
              "\n",
              "    .dataframe tbody tr th {\n",
              "        vertical-align: top;\n",
              "    }\n",
              "\n",
              "    .dataframe thead th {\n",
              "        text-align: right;\n",
              "    }\n",
              "</style>\n",
              "<table border=\"1\" class=\"dataframe\">\n",
              "  <thead>\n",
              "    <tr style=\"text-align: right;\">\n",
              "      <th></th>\n",
              "      <th>Name</th>\n",
              "      <th>Price</th>\n",
              "      <th>Rating</th>\n",
              "      <th>Battery</th>\n",
              "      <th>Screen</th>\n",
              "      <th>RAM</th>\n",
              "      <th>ROM</th>\n",
              "      <th>Number of Cameras</th>\n",
              "    </tr>\n",
              "  </thead>\n",
              "  <tbody>\n",
              "    <tr>\n",
              "      <th>0</th>\n",
              "      <td>realme C21Y (Cross Black, 32 GB)</td>\n",
              "      <td>9499</td>\n",
              "      <td>4.5</td>\n",
              "      <td>5000</td>\n",
              "      <td>16.51</td>\n",
              "      <td>3</td>\n",
              "      <td>32</td>\n",
              "      <td>4</td>\n",
              "    </tr>\n",
              "    <tr>\n",
              "      <th>1</th>\n",
              "      <td>realme C21Y (Cross Black, 64 GB)</td>\n",
              "      <td>10499</td>\n",
              "      <td>4.5</td>\n",
              "      <td>5000</td>\n",
              "      <td>16.51</td>\n",
              "      <td>4</td>\n",
              "      <td>64</td>\n",
              "      <td>4</td>\n",
              "    </tr>\n",
              "    <tr>\n",
              "      <th>2</th>\n",
              "      <td>realme C21Y (Cross Blue, 64 GB)</td>\n",
              "      <td>10499</td>\n",
              "      <td>4.5</td>\n",
              "      <td>5000</td>\n",
              "      <td>16.51</td>\n",
              "      <td>4</td>\n",
              "      <td>64</td>\n",
              "      <td>4</td>\n",
              "    </tr>\n",
              "    <tr>\n",
              "      <th>3</th>\n",
              "      <td>IAIR Basic Feature Dual Sim Mobile Phone with ...</td>\n",
              "      <td>999</td>\n",
              "      <td>3.9</td>\n",
              "      <td>2800</td>\n",
              "      <td>4.50</td>\n",
              "      <td>32</td>\n",
              "      <td>32</td>\n",
              "      <td>2</td>\n",
              "    </tr>\n",
              "    <tr>\n",
              "      <th>4</th>\n",
              "      <td>realme C21Y (Cross Blue, 32 GB)</td>\n",
              "      <td>9499</td>\n",
              "      <td>4.5</td>\n",
              "      <td>5000</td>\n",
              "      <td>16.51</td>\n",
              "      <td>3</td>\n",
              "      <td>32</td>\n",
              "      <td>4</td>\n",
              "    </tr>\n",
              "  </tbody>\n",
              "</table>\n",
              "</div>\n",
              "      <button class=\"colab-df-convert\" onclick=\"convertToInteractive('df-70496157-d1c3-4b62-9859-aeb7e5e8f008')\"\n",
              "              title=\"Convert this dataframe to an interactive table.\"\n",
              "              style=\"display:none;\">\n",
              "        \n",
              "  <svg xmlns=\"http://www.w3.org/2000/svg\" height=\"24px\"viewBox=\"0 0 24 24\"\n",
              "       width=\"24px\">\n",
              "    <path d=\"M0 0h24v24H0V0z\" fill=\"none\"/>\n",
              "    <path d=\"M18.56 5.44l.94 2.06.94-2.06 2.06-.94-2.06-.94-.94-2.06-.94 2.06-2.06.94zm-11 1L8.5 8.5l.94-2.06 2.06-.94-2.06-.94L8.5 2.5l-.94 2.06-2.06.94zm10 10l.94 2.06.94-2.06 2.06-.94-2.06-.94-.94-2.06-.94 2.06-2.06.94z\"/><path d=\"M17.41 7.96l-1.37-1.37c-.4-.4-.92-.59-1.43-.59-.52 0-1.04.2-1.43.59L10.3 9.45l-7.72 7.72c-.78.78-.78 2.05 0 2.83L4 21.41c.39.39.9.59 1.41.59.51 0 1.02-.2 1.41-.59l7.78-7.78 2.81-2.81c.8-.78.8-2.07 0-2.86zM5.41 20L4 18.59l7.72-7.72 1.47 1.35L5.41 20z\"/>\n",
              "  </svg>\n",
              "      </button>\n",
              "      \n",
              "  <style>\n",
              "    .colab-df-container {\n",
              "      display:flex;\n",
              "      flex-wrap:wrap;\n",
              "      gap: 12px;\n",
              "    }\n",
              "\n",
              "    .colab-df-convert {\n",
              "      background-color: #E8F0FE;\n",
              "      border: none;\n",
              "      border-radius: 50%;\n",
              "      cursor: pointer;\n",
              "      display: none;\n",
              "      fill: #1967D2;\n",
              "      height: 32px;\n",
              "      padding: 0 0 0 0;\n",
              "      width: 32px;\n",
              "    }\n",
              "\n",
              "    .colab-df-convert:hover {\n",
              "      background-color: #E2EBFA;\n",
              "      box-shadow: 0px 1px 2px rgba(60, 64, 67, 0.3), 0px 1px 3px 1px rgba(60, 64, 67, 0.15);\n",
              "      fill: #174EA6;\n",
              "    }\n",
              "\n",
              "    [theme=dark] .colab-df-convert {\n",
              "      background-color: #3B4455;\n",
              "      fill: #D2E3FC;\n",
              "    }\n",
              "\n",
              "    [theme=dark] .colab-df-convert:hover {\n",
              "      background-color: #434B5C;\n",
              "      box-shadow: 0px 1px 3px 1px rgba(0, 0, 0, 0.15);\n",
              "      filter: drop-shadow(0px 1px 2px rgba(0, 0, 0, 0.3));\n",
              "      fill: #FFFFFF;\n",
              "    }\n",
              "  </style>\n",
              "\n",
              "      <script>\n",
              "        const buttonEl =\n",
              "          document.querySelector('#df-70496157-d1c3-4b62-9859-aeb7e5e8f008 button.colab-df-convert');\n",
              "        buttonEl.style.display =\n",
              "          google.colab.kernel.accessAllowed ? 'block' : 'none';\n",
              "\n",
              "        async function convertToInteractive(key) {\n",
              "          const element = document.querySelector('#df-70496157-d1c3-4b62-9859-aeb7e5e8f008');\n",
              "          const dataTable =\n",
              "            await google.colab.kernel.invokeFunction('convertToInteractive',\n",
              "                                                     [key], {});\n",
              "          if (!dataTable) return;\n",
              "\n",
              "          const docLinkHtml = 'Like what you see? Visit the ' +\n",
              "            '<a target=\"_blank\" href=https://colab.research.google.com/notebooks/data_table.ipynb>data table notebook</a>'\n",
              "            + ' to learn more about interactive tables.';\n",
              "          element.innerHTML = '';\n",
              "          dataTable['output_type'] = 'display_data';\n",
              "          await google.colab.output.renderOutput(dataTable, element);\n",
              "          const docLink = document.createElement('div');\n",
              "          docLink.innerHTML = docLinkHtml;\n",
              "          element.appendChild(docLink);\n",
              "        }\n",
              "      </script>\n",
              "    </div>\n",
              "  </div>\n",
              "  "
            ]
          },
          "metadata": {},
          "execution_count": 127
        }
      ],
      "source": [
        "df.head()"
      ]
    },
    {
      "cell_type": "code",
      "execution_count": null,
      "metadata": {
        "id": "xsKpaZYr1W_i"
      },
      "outputs": [],
      "source": [
        "names = df['Name']"
      ]
    },
    {
      "cell_type": "code",
      "execution_count": null,
      "metadata": {
        "id": "XSUqBAn92efR"
      },
      "outputs": [],
      "source": [
        "ex = names[0]  "
      ]
    },
    {
      "cell_type": "code",
      "execution_count": null,
      "metadata": {
        "id": "VBxu0VUD4mB5"
      },
      "outputs": [],
      "source": [
        "import re"
      ]
    },
    {
      "cell_type": "code",
      "execution_count": null,
      "metadata": {
        "id": "xveU7Vsm43U4"
      },
      "outputs": [],
      "source": [
        "names_ranking=[]\n",
        "for i in names:\n",
        "  for j in phone_ranking.keys():\n",
        "    if(re.search(j,i,re.IGNORECASE)):\n",
        "      names_ranking.append(phone_ranking[j])\n",
        "    else:\n",
        "      names_ranking.append(0)\n"
      ]
    },
    {
      "cell_type": "code",
      "execution_count": null,
      "metadata": {
        "colab": {
          "base_uri": "https://localhost:8080/"
        },
        "id": "Rf6fqlzH5DQ-",
        "outputId": "91a084d7-6930-4bac-f0ee-9b4db1f4da88"
      },
      "outputs": [
        {
          "output_type": "execute_result",
          "data": {
            "text/plain": [
              "['realme c21y (cross black, 32 gb)']"
            ]
          },
          "metadata": {},
          "execution_count": 132
        }
      ],
      "source": [
        "ex.lower().split(\"Apple\".lower())"
      ]
    },
    {
      "cell_type": "code",
      "execution_count": null,
      "metadata": {
        "id": "N1QJM1VB7yB0"
      },
      "outputs": [],
      "source": [
        "names_ranking=[]\n",
        "for i in names:\n",
        "  count=0\n",
        "  for j in phone_ranking.keys():\n",
        "    if(len(i.lower().split(j.lower()))==2):\n",
        "      count = phone_ranking[j]\n",
        "  if(count != 0):\n",
        "    names_ranking.append(count)\n",
        "  else:\n",
        "    names_ranking.append(0)\n",
        "    \n"
      ]
    },
    {
      "cell_type": "code",
      "execution_count": null,
      "metadata": {
        "id": "GxVRaV18Aa5T"
      },
      "outputs": [],
      "source": [
        "df['Phone Ranking'] = names_ranking"
      ]
    },
    {
      "cell_type": "code",
      "execution_count": null,
      "metadata": {
        "colab": {
          "base_uri": "https://localhost:8080/",
          "height": 206
        },
        "id": "SoIVMPKQAc4R",
        "outputId": "17aec6b6-55c9-4fa2-dfed-f60ee35b09ed"
      },
      "outputs": [
        {
          "output_type": "execute_result",
          "data": {
            "text/plain": [
              "                                                Name  Price  Rating  Battery  \\\n",
              "0                   realme C21Y (Cross Black, 32 GB)   9499     4.5     5000   \n",
              "1                   realme C21Y (Cross Black, 64 GB)  10499     4.5     5000   \n",
              "2                    realme C21Y (Cross Blue, 64 GB)  10499     4.5     5000   \n",
              "3  IAIR Basic Feature Dual Sim Mobile Phone with ...    999     3.9     2800   \n",
              "4                    realme C21Y (Cross Blue, 32 GB)   9499     4.5     5000   \n",
              "\n",
              "   Screen  RAM  ROM  Number of Cameras  Phone Ranking  \n",
              "0   16.51    3   32                  4            2.0  \n",
              "1   16.51    4   64                  4            2.0  \n",
              "2   16.51    4   64                  4            2.0  \n",
              "3    4.50   32   32                  2            0.0  \n",
              "4   16.51    3   32                  4            2.0  "
            ],
            "text/html": [
              "\n",
              "  <div id=\"df-e66359ff-6c67-48d8-a3c5-c6d2b31f43e3\">\n",
              "    <div class=\"colab-df-container\">\n",
              "      <div>\n",
              "<style scoped>\n",
              "    .dataframe tbody tr th:only-of-type {\n",
              "        vertical-align: middle;\n",
              "    }\n",
              "\n",
              "    .dataframe tbody tr th {\n",
              "        vertical-align: top;\n",
              "    }\n",
              "\n",
              "    .dataframe thead th {\n",
              "        text-align: right;\n",
              "    }\n",
              "</style>\n",
              "<table border=\"1\" class=\"dataframe\">\n",
              "  <thead>\n",
              "    <tr style=\"text-align: right;\">\n",
              "      <th></th>\n",
              "      <th>Name</th>\n",
              "      <th>Price</th>\n",
              "      <th>Rating</th>\n",
              "      <th>Battery</th>\n",
              "      <th>Screen</th>\n",
              "      <th>RAM</th>\n",
              "      <th>ROM</th>\n",
              "      <th>Number of Cameras</th>\n",
              "      <th>Phone Ranking</th>\n",
              "    </tr>\n",
              "  </thead>\n",
              "  <tbody>\n",
              "    <tr>\n",
              "      <th>0</th>\n",
              "      <td>realme C21Y (Cross Black, 32 GB)</td>\n",
              "      <td>9499</td>\n",
              "      <td>4.5</td>\n",
              "      <td>5000</td>\n",
              "      <td>16.51</td>\n",
              "      <td>3</td>\n",
              "      <td>32</td>\n",
              "      <td>4</td>\n",
              "      <td>2.0</td>\n",
              "    </tr>\n",
              "    <tr>\n",
              "      <th>1</th>\n",
              "      <td>realme C21Y (Cross Black, 64 GB)</td>\n",
              "      <td>10499</td>\n",
              "      <td>4.5</td>\n",
              "      <td>5000</td>\n",
              "      <td>16.51</td>\n",
              "      <td>4</td>\n",
              "      <td>64</td>\n",
              "      <td>4</td>\n",
              "      <td>2.0</td>\n",
              "    </tr>\n",
              "    <tr>\n",
              "      <th>2</th>\n",
              "      <td>realme C21Y (Cross Blue, 64 GB)</td>\n",
              "      <td>10499</td>\n",
              "      <td>4.5</td>\n",
              "      <td>5000</td>\n",
              "      <td>16.51</td>\n",
              "      <td>4</td>\n",
              "      <td>64</td>\n",
              "      <td>4</td>\n",
              "      <td>2.0</td>\n",
              "    </tr>\n",
              "    <tr>\n",
              "      <th>3</th>\n",
              "      <td>IAIR Basic Feature Dual Sim Mobile Phone with ...</td>\n",
              "      <td>999</td>\n",
              "      <td>3.9</td>\n",
              "      <td>2800</td>\n",
              "      <td>4.50</td>\n",
              "      <td>32</td>\n",
              "      <td>32</td>\n",
              "      <td>2</td>\n",
              "      <td>0.0</td>\n",
              "    </tr>\n",
              "    <tr>\n",
              "      <th>4</th>\n",
              "      <td>realme C21Y (Cross Blue, 32 GB)</td>\n",
              "      <td>9499</td>\n",
              "      <td>4.5</td>\n",
              "      <td>5000</td>\n",
              "      <td>16.51</td>\n",
              "      <td>3</td>\n",
              "      <td>32</td>\n",
              "      <td>4</td>\n",
              "      <td>2.0</td>\n",
              "    </tr>\n",
              "  </tbody>\n",
              "</table>\n",
              "</div>\n",
              "      <button class=\"colab-df-convert\" onclick=\"convertToInteractive('df-e66359ff-6c67-48d8-a3c5-c6d2b31f43e3')\"\n",
              "              title=\"Convert this dataframe to an interactive table.\"\n",
              "              style=\"display:none;\">\n",
              "        \n",
              "  <svg xmlns=\"http://www.w3.org/2000/svg\" height=\"24px\"viewBox=\"0 0 24 24\"\n",
              "       width=\"24px\">\n",
              "    <path d=\"M0 0h24v24H0V0z\" fill=\"none\"/>\n",
              "    <path d=\"M18.56 5.44l.94 2.06.94-2.06 2.06-.94-2.06-.94-.94-2.06-.94 2.06-2.06.94zm-11 1L8.5 8.5l.94-2.06 2.06-.94-2.06-.94L8.5 2.5l-.94 2.06-2.06.94zm10 10l.94 2.06.94-2.06 2.06-.94-2.06-.94-.94-2.06-.94 2.06-2.06.94z\"/><path d=\"M17.41 7.96l-1.37-1.37c-.4-.4-.92-.59-1.43-.59-.52 0-1.04.2-1.43.59L10.3 9.45l-7.72 7.72c-.78.78-.78 2.05 0 2.83L4 21.41c.39.39.9.59 1.41.59.51 0 1.02-.2 1.41-.59l7.78-7.78 2.81-2.81c.8-.78.8-2.07 0-2.86zM5.41 20L4 18.59l7.72-7.72 1.47 1.35L5.41 20z\"/>\n",
              "  </svg>\n",
              "      </button>\n",
              "      \n",
              "  <style>\n",
              "    .colab-df-container {\n",
              "      display:flex;\n",
              "      flex-wrap:wrap;\n",
              "      gap: 12px;\n",
              "    }\n",
              "\n",
              "    .colab-df-convert {\n",
              "      background-color: #E8F0FE;\n",
              "      border: none;\n",
              "      border-radius: 50%;\n",
              "      cursor: pointer;\n",
              "      display: none;\n",
              "      fill: #1967D2;\n",
              "      height: 32px;\n",
              "      padding: 0 0 0 0;\n",
              "      width: 32px;\n",
              "    }\n",
              "\n",
              "    .colab-df-convert:hover {\n",
              "      background-color: #E2EBFA;\n",
              "      box-shadow: 0px 1px 2px rgba(60, 64, 67, 0.3), 0px 1px 3px 1px rgba(60, 64, 67, 0.15);\n",
              "      fill: #174EA6;\n",
              "    }\n",
              "\n",
              "    [theme=dark] .colab-df-convert {\n",
              "      background-color: #3B4455;\n",
              "      fill: #D2E3FC;\n",
              "    }\n",
              "\n",
              "    [theme=dark] .colab-df-convert:hover {\n",
              "      background-color: #434B5C;\n",
              "      box-shadow: 0px 1px 3px 1px rgba(0, 0, 0, 0.15);\n",
              "      filter: drop-shadow(0px 1px 2px rgba(0, 0, 0, 0.3));\n",
              "      fill: #FFFFFF;\n",
              "    }\n",
              "  </style>\n",
              "\n",
              "      <script>\n",
              "        const buttonEl =\n",
              "          document.querySelector('#df-e66359ff-6c67-48d8-a3c5-c6d2b31f43e3 button.colab-df-convert');\n",
              "        buttonEl.style.display =\n",
              "          google.colab.kernel.accessAllowed ? 'block' : 'none';\n",
              "\n",
              "        async function convertToInteractive(key) {\n",
              "          const element = document.querySelector('#df-e66359ff-6c67-48d8-a3c5-c6d2b31f43e3');\n",
              "          const dataTable =\n",
              "            await google.colab.kernel.invokeFunction('convertToInteractive',\n",
              "                                                     [key], {});\n",
              "          if (!dataTable) return;\n",
              "\n",
              "          const docLinkHtml = 'Like what you see? Visit the ' +\n",
              "            '<a target=\"_blank\" href=https://colab.research.google.com/notebooks/data_table.ipynb>data table notebook</a>'\n",
              "            + ' to learn more about interactive tables.';\n",
              "          element.innerHTML = '';\n",
              "          dataTable['output_type'] = 'display_data';\n",
              "          await google.colab.output.renderOutput(dataTable, element);\n",
              "          const docLink = document.createElement('div');\n",
              "          docLink.innerHTML = docLinkHtml;\n",
              "          element.appendChild(docLink);\n",
              "        }\n",
              "      </script>\n",
              "    </div>\n",
              "  </div>\n",
              "  "
            ]
          },
          "metadata": {},
          "execution_count": 135
        }
      ],
      "source": [
        "df.head()"
      ]
    },
    {
      "cell_type": "code",
      "execution_count": null,
      "metadata": {
        "id": "3UD_r-QYEdzJ"
      },
      "outputs": [],
      "source": [
        "df.drop(['Name'],axis=1,inplace=True)"
      ]
    },
    {
      "cell_type": "code",
      "source": [
        "df.info()"
      ],
      "metadata": {
        "id": "pQkuRwRmb5AB",
        "outputId": "6e627853-2fd9-40b4-ae83-1e1bbc8c875c",
        "colab": {
          "base_uri": "https://localhost:8080/"
        }
      },
      "execution_count": null,
      "outputs": [
        {
          "output_type": "stream",
          "name": "stdout",
          "text": [
            "<class 'pandas.core.frame.DataFrame'>\n",
            "RangeIndex: 984 entries, 0 to 983\n",
            "Data columns (total 8 columns):\n",
            " #   Column             Non-Null Count  Dtype  \n",
            "---  ------             --------------  -----  \n",
            " 0   Price              984 non-null    int64  \n",
            " 1   Rating             984 non-null    float64\n",
            " 2   Battery            984 non-null    int64  \n",
            " 3   Screen             984 non-null    float64\n",
            " 4   RAM                984 non-null    int64  \n",
            " 5   ROM                984 non-null    int64  \n",
            " 6   Number of Cameras  984 non-null    int64  \n",
            " 7   Phone Ranking      984 non-null    float64\n",
            "dtypes: float64(3), int64(5)\n",
            "memory usage: 61.6 KB\n"
          ]
        }
      ]
    },
    {
      "cell_type": "code",
      "execution_count": null,
      "metadata": {
        "colab": {
          "base_uri": "https://localhost:8080/",
          "height": 520
        },
        "id": "pHHLYaCqMXTV",
        "outputId": "a3f42842-9f91-414a-e405-e0af210c6f7c"
      },
      "outputs": [
        {
          "output_type": "execute_result",
          "data": {
            "text/plain": [
              "    Price  Rating  Battery  Screen  RAM  ROM  Number of Cameras  Phone Ranking\n",
              "0    9499     4.5     5000   16.51    3   32                  4            2.0\n",
              "1   10499     4.5     5000   16.51    4   64                  4            2.0\n",
              "2   10499     4.5     5000   16.51    4   64                  4            2.0\n",
              "3     999     3.9     2800    4.50   32   32                  2            0.0\n",
              "4    9499     4.5     5000   16.51    3   32                  4            2.0\n",
              "5   11499     4.4     6000   16.51    4   64                  4            2.0\n",
              "6   12499     4.4     6000   16.51    4  128                  4            2.0\n",
              "7     999     3.8     2800    4.50   32   32                  2            0.0\n",
              "8    8999     4.3     5000   16.59    4   64                  2            2.0\n",
              "9    8999     4.3     5000   16.59    4   64                  2            2.0\n",
              "10  49999     4.5     3025   13.72    0   64                  3            5.0\n",
              "11    809     3.6     1200    4.50   32   32                  2            0.0\n",
              "12   8999     4.3     5000   16.59    4   64                  2            2.0\n",
              "13  11499     4.4     6000   16.51    4   64                  4            2.0\n",
              "14  59999     4.7     3025   15.49    0   64                  3            5.0"
            ],
            "text/html": [
              "\n",
              "  <div id=\"df-67bcf9e9-7cdf-4ccd-b0b9-acda10c0adb2\">\n",
              "    <div class=\"colab-df-container\">\n",
              "      <div>\n",
              "<style scoped>\n",
              "    .dataframe tbody tr th:only-of-type {\n",
              "        vertical-align: middle;\n",
              "    }\n",
              "\n",
              "    .dataframe tbody tr th {\n",
              "        vertical-align: top;\n",
              "    }\n",
              "\n",
              "    .dataframe thead th {\n",
              "        text-align: right;\n",
              "    }\n",
              "</style>\n",
              "<table border=\"1\" class=\"dataframe\">\n",
              "  <thead>\n",
              "    <tr style=\"text-align: right;\">\n",
              "      <th></th>\n",
              "      <th>Price</th>\n",
              "      <th>Rating</th>\n",
              "      <th>Battery</th>\n",
              "      <th>Screen</th>\n",
              "      <th>RAM</th>\n",
              "      <th>ROM</th>\n",
              "      <th>Number of Cameras</th>\n",
              "      <th>Phone Ranking</th>\n",
              "    </tr>\n",
              "  </thead>\n",
              "  <tbody>\n",
              "    <tr>\n",
              "      <th>0</th>\n",
              "      <td>9499</td>\n",
              "      <td>4.5</td>\n",
              "      <td>5000</td>\n",
              "      <td>16.51</td>\n",
              "      <td>3</td>\n",
              "      <td>32</td>\n",
              "      <td>4</td>\n",
              "      <td>2.0</td>\n",
              "    </tr>\n",
              "    <tr>\n",
              "      <th>1</th>\n",
              "      <td>10499</td>\n",
              "      <td>4.5</td>\n",
              "      <td>5000</td>\n",
              "      <td>16.51</td>\n",
              "      <td>4</td>\n",
              "      <td>64</td>\n",
              "      <td>4</td>\n",
              "      <td>2.0</td>\n",
              "    </tr>\n",
              "    <tr>\n",
              "      <th>2</th>\n",
              "      <td>10499</td>\n",
              "      <td>4.5</td>\n",
              "      <td>5000</td>\n",
              "      <td>16.51</td>\n",
              "      <td>4</td>\n",
              "      <td>64</td>\n",
              "      <td>4</td>\n",
              "      <td>2.0</td>\n",
              "    </tr>\n",
              "    <tr>\n",
              "      <th>3</th>\n",
              "      <td>999</td>\n",
              "      <td>3.9</td>\n",
              "      <td>2800</td>\n",
              "      <td>4.50</td>\n",
              "      <td>32</td>\n",
              "      <td>32</td>\n",
              "      <td>2</td>\n",
              "      <td>0.0</td>\n",
              "    </tr>\n",
              "    <tr>\n",
              "      <th>4</th>\n",
              "      <td>9499</td>\n",
              "      <td>4.5</td>\n",
              "      <td>5000</td>\n",
              "      <td>16.51</td>\n",
              "      <td>3</td>\n",
              "      <td>32</td>\n",
              "      <td>4</td>\n",
              "      <td>2.0</td>\n",
              "    </tr>\n",
              "    <tr>\n",
              "      <th>5</th>\n",
              "      <td>11499</td>\n",
              "      <td>4.4</td>\n",
              "      <td>6000</td>\n",
              "      <td>16.51</td>\n",
              "      <td>4</td>\n",
              "      <td>64</td>\n",
              "      <td>4</td>\n",
              "      <td>2.0</td>\n",
              "    </tr>\n",
              "    <tr>\n",
              "      <th>6</th>\n",
              "      <td>12499</td>\n",
              "      <td>4.4</td>\n",
              "      <td>6000</td>\n",
              "      <td>16.51</td>\n",
              "      <td>4</td>\n",
              "      <td>128</td>\n",
              "      <td>4</td>\n",
              "      <td>2.0</td>\n",
              "    </tr>\n",
              "    <tr>\n",
              "      <th>7</th>\n",
              "      <td>999</td>\n",
              "      <td>3.8</td>\n",
              "      <td>2800</td>\n",
              "      <td>4.50</td>\n",
              "      <td>32</td>\n",
              "      <td>32</td>\n",
              "      <td>2</td>\n",
              "      <td>0.0</td>\n",
              "    </tr>\n",
              "    <tr>\n",
              "      <th>8</th>\n",
              "      <td>8999</td>\n",
              "      <td>4.3</td>\n",
              "      <td>5000</td>\n",
              "      <td>16.59</td>\n",
              "      <td>4</td>\n",
              "      <td>64</td>\n",
              "      <td>2</td>\n",
              "      <td>2.0</td>\n",
              "    </tr>\n",
              "    <tr>\n",
              "      <th>9</th>\n",
              "      <td>8999</td>\n",
              "      <td>4.3</td>\n",
              "      <td>5000</td>\n",
              "      <td>16.59</td>\n",
              "      <td>4</td>\n",
              "      <td>64</td>\n",
              "      <td>2</td>\n",
              "      <td>2.0</td>\n",
              "    </tr>\n",
              "    <tr>\n",
              "      <th>10</th>\n",
              "      <td>49999</td>\n",
              "      <td>4.5</td>\n",
              "      <td>3025</td>\n",
              "      <td>13.72</td>\n",
              "      <td>0</td>\n",
              "      <td>64</td>\n",
              "      <td>3</td>\n",
              "      <td>5.0</td>\n",
              "    </tr>\n",
              "    <tr>\n",
              "      <th>11</th>\n",
              "      <td>809</td>\n",
              "      <td>3.6</td>\n",
              "      <td>1200</td>\n",
              "      <td>4.50</td>\n",
              "      <td>32</td>\n",
              "      <td>32</td>\n",
              "      <td>2</td>\n",
              "      <td>0.0</td>\n",
              "    </tr>\n",
              "    <tr>\n",
              "      <th>12</th>\n",
              "      <td>8999</td>\n",
              "      <td>4.3</td>\n",
              "      <td>5000</td>\n",
              "      <td>16.59</td>\n",
              "      <td>4</td>\n",
              "      <td>64</td>\n",
              "      <td>2</td>\n",
              "      <td>2.0</td>\n",
              "    </tr>\n",
              "    <tr>\n",
              "      <th>13</th>\n",
              "      <td>11499</td>\n",
              "      <td>4.4</td>\n",
              "      <td>6000</td>\n",
              "      <td>16.51</td>\n",
              "      <td>4</td>\n",
              "      <td>64</td>\n",
              "      <td>4</td>\n",
              "      <td>2.0</td>\n",
              "    </tr>\n",
              "    <tr>\n",
              "      <th>14</th>\n",
              "      <td>59999</td>\n",
              "      <td>4.7</td>\n",
              "      <td>3025</td>\n",
              "      <td>15.49</td>\n",
              "      <td>0</td>\n",
              "      <td>64</td>\n",
              "      <td>3</td>\n",
              "      <td>5.0</td>\n",
              "    </tr>\n",
              "  </tbody>\n",
              "</table>\n",
              "</div>\n",
              "      <button class=\"colab-df-convert\" onclick=\"convertToInteractive('df-67bcf9e9-7cdf-4ccd-b0b9-acda10c0adb2')\"\n",
              "              title=\"Convert this dataframe to an interactive table.\"\n",
              "              style=\"display:none;\">\n",
              "        \n",
              "  <svg xmlns=\"http://www.w3.org/2000/svg\" height=\"24px\"viewBox=\"0 0 24 24\"\n",
              "       width=\"24px\">\n",
              "    <path d=\"M0 0h24v24H0V0z\" fill=\"none\"/>\n",
              "    <path d=\"M18.56 5.44l.94 2.06.94-2.06 2.06-.94-2.06-.94-.94-2.06-.94 2.06-2.06.94zm-11 1L8.5 8.5l.94-2.06 2.06-.94-2.06-.94L8.5 2.5l-.94 2.06-2.06.94zm10 10l.94 2.06.94-2.06 2.06-.94-2.06-.94-.94-2.06-.94 2.06-2.06.94z\"/><path d=\"M17.41 7.96l-1.37-1.37c-.4-.4-.92-.59-1.43-.59-.52 0-1.04.2-1.43.59L10.3 9.45l-7.72 7.72c-.78.78-.78 2.05 0 2.83L4 21.41c.39.39.9.59 1.41.59.51 0 1.02-.2 1.41-.59l7.78-7.78 2.81-2.81c.8-.78.8-2.07 0-2.86zM5.41 20L4 18.59l7.72-7.72 1.47 1.35L5.41 20z\"/>\n",
              "  </svg>\n",
              "      </button>\n",
              "      \n",
              "  <style>\n",
              "    .colab-df-container {\n",
              "      display:flex;\n",
              "      flex-wrap:wrap;\n",
              "      gap: 12px;\n",
              "    }\n",
              "\n",
              "    .colab-df-convert {\n",
              "      background-color: #E8F0FE;\n",
              "      border: none;\n",
              "      border-radius: 50%;\n",
              "      cursor: pointer;\n",
              "      display: none;\n",
              "      fill: #1967D2;\n",
              "      height: 32px;\n",
              "      padding: 0 0 0 0;\n",
              "      width: 32px;\n",
              "    }\n",
              "\n",
              "    .colab-df-convert:hover {\n",
              "      background-color: #E2EBFA;\n",
              "      box-shadow: 0px 1px 2px rgba(60, 64, 67, 0.3), 0px 1px 3px 1px rgba(60, 64, 67, 0.15);\n",
              "      fill: #174EA6;\n",
              "    }\n",
              "\n",
              "    [theme=dark] .colab-df-convert {\n",
              "      background-color: #3B4455;\n",
              "      fill: #D2E3FC;\n",
              "    }\n",
              "\n",
              "    [theme=dark] .colab-df-convert:hover {\n",
              "      background-color: #434B5C;\n",
              "      box-shadow: 0px 1px 3px 1px rgba(0, 0, 0, 0.15);\n",
              "      filter: drop-shadow(0px 1px 2px rgba(0, 0, 0, 0.3));\n",
              "      fill: #FFFFFF;\n",
              "    }\n",
              "  </style>\n",
              "\n",
              "      <script>\n",
              "        const buttonEl =\n",
              "          document.querySelector('#df-67bcf9e9-7cdf-4ccd-b0b9-acda10c0adb2 button.colab-df-convert');\n",
              "        buttonEl.style.display =\n",
              "          google.colab.kernel.accessAllowed ? 'block' : 'none';\n",
              "\n",
              "        async function convertToInteractive(key) {\n",
              "          const element = document.querySelector('#df-67bcf9e9-7cdf-4ccd-b0b9-acda10c0adb2');\n",
              "          const dataTable =\n",
              "            await google.colab.kernel.invokeFunction('convertToInteractive',\n",
              "                                                     [key], {});\n",
              "          if (!dataTable) return;\n",
              "\n",
              "          const docLinkHtml = 'Like what you see? Visit the ' +\n",
              "            '<a target=\"_blank\" href=https://colab.research.google.com/notebooks/data_table.ipynb>data table notebook</a>'\n",
              "            + ' to learn more about interactive tables.';\n",
              "          element.innerHTML = '';\n",
              "          dataTable['output_type'] = 'display_data';\n",
              "          await google.colab.output.renderOutput(dataTable, element);\n",
              "          const docLink = document.createElement('div');\n",
              "          docLink.innerHTML = docLinkHtml;\n",
              "          element.appendChild(docLink);\n",
              "        }\n",
              "      </script>\n",
              "    </div>\n",
              "  </div>\n",
              "  "
            ]
          },
          "metadata": {},
          "execution_count": 138
        }
      ],
      "source": [
        "df.head(15)"
      ]
    },
    {
      "cell_type": "code",
      "execution_count": null,
      "metadata": {
        "id": "IDsssPt1MYpq"
      },
      "outputs": [],
      "source": [
        "import matplotlib.pyplot as plt\n",
        "import seaborn as sns"
      ]
    },
    {
      "cell_type": "code",
      "execution_count": null,
      "metadata": {
        "colab": {
          "base_uri": "https://localhost:8080/",
          "height": 302
        },
        "id": "HFJ3p2dkMo1N",
        "outputId": "73776ca8-a42b-43e3-8e53-7c6c6dd48c43"
      },
      "outputs": [
        {
          "output_type": "execute_result",
          "data": {
            "text/plain": [
              "<matplotlib.axes._subplots.AxesSubplot at 0x7f516e4dccd0>"
            ]
          },
          "metadata": {},
          "execution_count": 140
        },
        {
          "output_type": "display_data",
          "data": {
            "text/plain": [
              "<Figure size 432x288 with 1 Axes>"
            ],
            "image/png": "[encoded data removed]"
          },
          "metadata": {
            "needs_background": "light"
          }
        }
      ],
      "source": [
        "df.groupby('Phone Ranking')['Price'].mean().plot(kind='bar')"
      ]
    },
    {
      "cell_type": "code",
      "execution_count": null,
      "metadata": {
        "id": "-U6FE5BKOimo"
      },
      "outputs": [],
      "source": [
        "rating_info=df.groupby(\"Phone Ranking\")['Rating']"
      ]
    },
    {
      "cell_type": "code",
      "execution_count": null,
      "metadata": {
        "id": "KTPGlQdqPyR6"
      },
      "outputs": [],
      "source": []
    },
    {
      "cell_type": "code",
      "execution_count": null,
      "metadata": {
        "id": "C5NihHFXUwRD"
      },
      "outputs": [],
      "source": [
        "from sklearn.preprocessing import StandardScaler"
      ]
    },
    {
      "cell_type": "code",
      "execution_count": null,
      "metadata": {
        "id": "zMKKlBfdV1YQ"
      },
      "outputs": [],
      "source": [
        "sc=StandardScaler()"
      ]
    },
    {
      "cell_type": "code",
      "execution_count": null,
      "metadata": {
        "id": "pqfHMMadWvrB"
      },
      "outputs": [],
      "source": [
        "x=np.array(df.drop(['Price'],axis=1))"
      ]
    },
    {
      "cell_type": "code",
      "source": [
        "df.drop(['Price'],axis=1)"
      ],
      "metadata": {
        "colab": {
          "base_uri": "https://localhost:8080/",
          "height": 423
        },
        "id": "smF66Z41RBva",
        "outputId": "0867b022-1a87-4fda-9913-79676d913545"
      },
      "execution_count": null,
      "outputs": [
        {
          "output_type": "execute_result",
          "data": {
            "text/plain": [
              "     Rating  Battery  Screen  RAM  ROM  Number of Cameras  Phone Ranking\n",
              "0       4.5     5000   16.51    3   32                  4            2.0\n",
              "1       4.5     5000   16.51    4   64                  4            2.0\n",
              "2       4.5     5000   16.51    4   64                  4            2.0\n",
              "3       3.9     2800    4.50   32   32                  2            0.0\n",
              "4       4.5     5000   16.51    3   32                  4            2.0\n",
              "..      ...      ...     ...  ...  ...                ...            ...\n",
              "979     2.0     1100    4.57   32   32                  1            0.0\n",
              "980     3.9     3020   14.48    2   32                  3            0.0\n",
              "981     2.0     1100    4.57   32   32                  1            0.0\n",
              "982     2.0     1100    4.57   32   32                  1            0.0\n",
              "983     4.6     3025   15.49    0  512                  4            5.0\n",
              "\n",
              "[984 rows x 7 columns]"
            ],
            "text/html": [
              "\n",
              "  <div id=\"df-70cf53b2-a5ae-4144-b615-597f8ae33006\">\n",
              "    <div class=\"colab-df-container\">\n",
              "      <div>\n",
              "<style scoped>\n",
              "    .dataframe tbody tr th:only-of-type {\n",
              "        vertical-align: middle;\n",
              "    }\n",
              "\n",
              "    .dataframe tbody tr th {\n",
              "        vertical-align: top;\n",
              "    }\n",
              "\n",
              "    .dataframe thead th {\n",
              "        text-align: right;\n",
              "    }\n",
              "</style>\n",
              "<table border=\"1\" class=\"dataframe\">\n",
              "  <thead>\n",
              "    <tr style=\"text-align: right;\">\n",
              "      <th></th>\n",
              "      <th>Rating</th>\n",
              "      <th>Battery</th>\n",
              "      <th>Screen</th>\n",
              "      <th>RAM</th>\n",
              "      <th>ROM</th>\n",
              "      <th>Number of Cameras</th>\n",
              "      <th>Phone Ranking</th>\n",
              "    </tr>\n",
              "  </thead>\n",
              "  <tbody>\n",
              "    <tr>\n",
              "      <th>0</th>\n",
              "      <td>4.5</td>\n",
              "      <td>5000</td>\n",
              "      <td>16.51</td>\n",
              "      <td>3</td>\n",
              "      <td>32</td>\n",
              "      <td>4</td>\n",
              "      <td>2.0</td>\n",
              "    </tr>\n",
              "    <tr>\n",
              "      <th>1</th>\n",
              "      <td>4.5</td>\n",
              "      <td>5000</td>\n",
              "      <td>16.51</td>\n",
              "      <td>4</td>\n",
              "      <td>64</td>\n",
              "      <td>4</td>\n",
              "      <td>2.0</td>\n",
              "    </tr>\n",
              "    <tr>\n",
              "      <th>2</th>\n",
              "      <td>4.5</td>\n",
              "      <td>5000</td>\n",
              "      <td>16.51</td>\n",
              "      <td>4</td>\n",
              "      <td>64</td>\n",
              "      <td>4</td>\n",
              "      <td>2.0</td>\n",
              "    </tr>\n",
              "    <tr>\n",
              "      <th>3</th>\n",
              "      <td>3.9</td>\n",
              "      <td>2800</td>\n",
              "      <td>4.50</td>\n",
              "      <td>32</td>\n",
              "      <td>32</td>\n",
              "      <td>2</td>\n",
              "      <td>0.0</td>\n",
              "    </tr>\n",
              "    <tr>\n",
              "      <th>4</th>\n",
              "      <td>4.5</td>\n",
              "      <td>5000</td>\n",
              "      <td>16.51</td>\n",
              "      <td>3</td>\n",
              "      <td>32</td>\n",
              "      <td>4</td>\n",
              "      <td>2.0</td>\n",
              "    </tr>\n",
              "    <tr>\n",
              "      <th>...</th>\n",
              "      <td>...</td>\n",
              "      <td>...</td>\n",
              "      <td>...</td>\n",
              "      <td>...</td>\n",
              "      <td>...</td>\n",
              "      <td>...</td>\n",
              "      <td>...</td>\n",
              "    </tr>\n",
              "    <tr>\n",
              "      <th>979</th>\n",
              "      <td>2.0</td>\n",
              "      <td>1100</td>\n",
              "      <td>4.57</td>\n",
              "      <td>32</td>\n",
              "      <td>32</td>\n",
              "      <td>1</td>\n",
              "      <td>0.0</td>\n",
              "    </tr>\n",
              "    <tr>\n",
              "      <th>980</th>\n",
              "      <td>3.9</td>\n",
              "      <td>3020</td>\n",
              "      <td>14.48</td>\n",
              "      <td>2</td>\n",
              "      <td>32</td>\n",
              "      <td>3</td>\n",
              "      <td>0.0</td>\n",
              "    </tr>\n",
              "    <tr>\n",
              "      <th>981</th>\n",
              "      <td>2.0</td>\n",
              "      <td>1100</td>\n",
              "      <td>4.57</td>\n",
              "      <td>32</td>\n",
              "      <td>32</td>\n",
              "      <td>1</td>\n",
              "      <td>0.0</td>\n",
              "    </tr>\n",
              "    <tr>\n",
              "      <th>982</th>\n",
              "      <td>2.0</td>\n",
              "      <td>1100</td>\n",
              "      <td>4.57</td>\n",
              "      <td>32</td>\n",
              "      <td>32</td>\n",
              "      <td>1</td>\n",
              "      <td>0.0</td>\n",
              "    </tr>\n",
              "    <tr>\n",
              "      <th>983</th>\n",
              "      <td>4.6</td>\n",
              "      <td>3025</td>\n",
              "      <td>15.49</td>\n",
              "      <td>0</td>\n",
              "      <td>512</td>\n",
              "      <td>4</td>\n",
              "      <td>5.0</td>\n",
              "    </tr>\n",
              "  </tbody>\n",
              "</table>\n",
              "<p>984 rows × 7 columns</p>\n",
              "</div>\n",
              "      <button class=\"colab-df-convert\" onclick=\"convertToInteractive('df-70cf53b2-a5ae-4144-b615-597f8ae33006')\"\n",
              "              title=\"Convert this dataframe to an interactive table.\"\n",
              "              style=\"display:none;\">\n",
              "        \n",
              "  <svg xmlns=\"http://www.w3.org/2000/svg\" height=\"24px\"viewBox=\"0 0 24 24\"\n",
              "       width=\"24px\">\n",
              "    <path d=\"M0 0h24v24H0V0z\" fill=\"none\"/>\n",
              "    <path d=\"M18.56 5.44l.94 2.06.94-2.06 2.06-.94-2.06-.94-.94-2.06-.94 2.06-2.06.94zm-11 1L8.5 8.5l.94-2.06 2.06-.94-2.06-.94L8.5 2.5l-.94 2.06-2.06.94zm10 10l.94 2.06.94-2.06 2.06-.94-2.06-.94-.94-2.06-.94 2.06-2.06.94z\"/><path d=\"M17.41 7.96l-1.37-1.37c-.4-.4-.92-.59-1.43-.59-.52 0-1.04.2-1.43.59L10.3 9.45l-7.72 7.72c-.78.78-.78 2.05 0 2.83L4 21.41c.39.39.9.59 1.41.59.51 0 1.02-.2 1.41-.59l7.78-7.78 2.81-2.81c.8-.78.8-2.07 0-2.86zM5.41 20L4 18.59l7.72-7.72 1.47 1.35L5.41 20z\"/>\n",
              "  </svg>\n",
              "      </button>\n",
              "      \n",
              "  <style>\n",
              "    .colab-df-container {\n",
              "      display:flex;\n",
              "      flex-wrap:wrap;\n",
              "      gap: 12px;\n",
              "    }\n",
              "\n",
              "    .colab-df-convert {\n",
              "      background-color: #E8F0FE;\n",
              "      border: none;\n",
              "      border-radius: 50%;\n",
              "      cursor: pointer;\n",
              "      display: none;\n",
              "      fill: #1967D2;\n",
              "      height: 32px;\n",
              "      padding: 0 0 0 0;\n",
              "      width: 32px;\n",
              "    }\n",
              "\n",
              "    .colab-df-convert:hover {\n",
              "      background-color: #E2EBFA;\n",
              "      box-shadow: 0px 1px 2px rgba(60, 64, 67, 0.3), 0px 1px 3px 1px rgba(60, 64, 67, 0.15);\n",
              "      fill: #174EA6;\n",
              "    }\n",
              "\n",
              "    [theme=dark] .colab-df-convert {\n",
              "      background-color: #3B4455;\n",
              "      fill: #D2E3FC;\n",
              "    }\n",
              "\n",
              "    [theme=dark] .colab-df-convert:hover {\n",
              "      background-color: #434B5C;\n",
              "      box-shadow: 0px 1px 3px 1px rgba(0, 0, 0, 0.15);\n",
              "      filter: drop-shadow(0px 1px 2px rgba(0, 0, 0, 0.3));\n",
              "      fill: #FFFFFF;\n",
              "    }\n",
              "  </style>\n",
              "\n",
              "      <script>\n",
              "        const buttonEl =\n",
              "          document.querySelector('#df-70cf53b2-a5ae-4144-b615-597f8ae33006 button.colab-df-convert');\n",
              "        buttonEl.style.display =\n",
              "          google.colab.kernel.accessAllowed ? 'block' : 'none';\n",
              "\n",
              "        async function convertToInteractive(key) {\n",
              "          const element = document.querySelector('#df-70cf53b2-a5ae-4144-b615-597f8ae33006');\n",
              "          const dataTable =\n",
              "            await google.colab.kernel.invokeFunction('convertToInteractive',\n",
              "                                                     [key], {});\n",
              "          if (!dataTable) return;\n",
              "\n",
              "          const docLinkHtml = 'Like what you see? Visit the ' +\n",
              "            '<a target=\"_blank\" href=https://colab.research.google.com/notebooks/data_table.ipynb>data table notebook</a>'\n",
              "            + ' to learn more about interactive tables.';\n",
              "          element.innerHTML = '';\n",
              "          dataTable['output_type'] = 'display_data';\n",
              "          await google.colab.output.renderOutput(dataTable, element);\n",
              "          const docLink = document.createElement('div');\n",
              "          docLink.innerHTML = docLinkHtml;\n",
              "          element.appendChild(docLink);\n",
              "        }\n",
              "      </script>\n",
              "    </div>\n",
              "  </div>\n",
              "  "
            ]
          },
          "metadata": {},
          "execution_count": 145
        }
      ]
    },
    {
      "cell_type": "code",
      "execution_count": null,
      "metadata": {
        "id": "EidhDWEjXNCn"
      },
      "outputs": [],
      "source": [
        "y=np.array(df['Price'])"
      ]
    },
    {
      "cell_type": "code",
      "execution_count": null,
      "metadata": {
        "id": "Adb3IX2qXWiZ"
      },
      "outputs": [],
      "source": [
        "x_transform=sc.fit_transform(x)"
      ]
    },
    {
      "cell_type": "code",
      "execution_count": null,
      "metadata": {
        "id": "4FMq_4Z6Xdn7"
      },
      "outputs": [],
      "source": [
        "y = y.reshape(-1,1)"
      ]
    },
    {
      "cell_type": "code",
      "execution_count": null,
      "metadata": {
        "colab": {
          "base_uri": "https://localhost:8080/"
        },
        "id": "vWiwaJngYqE1",
        "outputId": "9a4efff4-d80c-481e-8333-99b53fe6d4fd"
      },
      "outputs": [
        {
          "output_type": "execute_result",
          "data": {
            "text/plain": [
              "(984, 1)"
            ]
          },
          "metadata": {},
          "execution_count": 149
        }
      ],
      "source": [
        "y.shape"
      ]
    },
    {
      "cell_type": "code",
      "execution_count": null,
      "metadata": {
        "id": "XXqTDRDAYvZi"
      },
      "outputs": [],
      "source": [
        "from sklearn.model_selection import train_test_split"
      ]
    },
    {
      "cell_type": "code",
      "execution_count": null,
      "metadata": {
        "id": "l7hwEJd3Y_IM"
      },
      "outputs": [],
      "source": [
        "x_train,x_test,y_train,y_test=train_test_split(x_transform,y,test_size=0.2)"
      ]
    },
    {
      "cell_type": "code",
      "execution_count": null,
      "metadata": {
        "id": "2POhd5OZZKL8"
      },
      "outputs": [],
      "source": [
        "from sklearn.linear_model import LinearRegression"
      ]
    },
    {
      "cell_type": "code",
      "execution_count": null,
      "metadata": {
        "id": "hV5n9BRxZSDW"
      },
      "outputs": [],
      "source": [
        "regre = LinearRegression()"
      ]
    },
    {
      "cell_type": "code",
      "execution_count": null,
      "metadata": {
        "colab": {
          "base_uri": "https://localhost:8080/"
        },
        "id": "dCNKDB1HZVdA",
        "outputId": "3389a5e6-2ef2-4fb2-de26-7adf6910c9a2"
      },
      "outputs": [
        {
          "output_type": "execute_result",
          "data": {
            "text/plain": [
              "LinearRegression()"
            ]
          },
          "metadata": {},
          "execution_count": 154
        }
      ],
      "source": [
        "regre.fit(x_train,y_train)"
      ]
    },
    {
      "cell_type": "code",
      "execution_count": null,
      "metadata": {
        "id": "SP35kjekZZbC"
      },
      "outputs": [],
      "source": [
        "y_pred_regre = regre.predict(x_test)"
      ]
    },
    {
      "cell_type": "code",
      "execution_count": null,
      "metadata": {
        "id": "fp27LGeSZg4M"
      },
      "outputs": [],
      "source": [
        "from sklearn.metrics import r2_score"
      ]
    },
    {
      "cell_type": "code",
      "execution_count": null,
      "metadata": {
        "id": "s53GmVmjZl3x"
      },
      "outputs": [],
      "source": [
        "accouracy_regre = r2_score(y_test,y_pred_regre)"
      ]
    },
    {
      "cell_type": "code",
      "execution_count": null,
      "metadata": {
        "colab": {
          "base_uri": "https://localhost:8080/"
        },
        "id": "o-82dwsSZsZw",
        "outputId": "c23e525d-f3c5-4dc1-c508-e1891aa771da"
      },
      "outputs": [
        {
          "output_type": "execute_result",
          "data": {
            "text/plain": [
              "0.6438931293564072"
            ]
          },
          "metadata": {},
          "execution_count": 158
        }
      ],
      "source": [
        "accouracy_regre"
      ]
    },
    {
      "cell_type": "code",
      "execution_count": null,
      "metadata": {
        "id": "UeepTp6eZuHE"
      },
      "outputs": [],
      "source": [
        "from sklearn.tree import DecisionTreeRegressor"
      ]
    },
    {
      "cell_type": "code",
      "execution_count": null,
      "metadata": {
        "id": "t4qlKR9DZ8jG"
      },
      "outputs": [],
      "source": [
        "dregre = DecisionTreeRegressor()"
      ]
    },
    {
      "cell_type": "code",
      "execution_count": null,
      "metadata": {
        "colab": {
          "base_uri": "https://localhost:8080/"
        },
        "id": "RKcmZrqOaAYo",
        "outputId": "0e917964-d1c6-4875-99e5-58eaaac37589"
      },
      "outputs": [
        {
          "output_type": "execute_result",
          "data": {
            "text/plain": [
              "DecisionTreeRegressor()"
            ]
          },
          "metadata": {},
          "execution_count": 161
        }
      ],
      "source": [
        "dregre.fit(x_train,y_train)"
      ]
    },
    {
      "cell_type": "code",
      "execution_count": null,
      "metadata": {
        "id": "jz8oJAPFaFTa"
      },
      "outputs": [],
      "source": [
        "y_pred_dregre = dregre.predict(x_test)"
      ]
    },
    {
      "cell_type": "code",
      "source": [
        "y_pred_dregre"
      ],
      "metadata": {
        "colab": {
          "base_uri": "https://localhost:8080/"
        },
        "id": "4_L25aOb1Gjj",
        "outputId": "9745221e-bd3a-4d53-c71c-8f73a2df16cb"
      },
      "execution_count": null,
      "outputs": [
        {
          "output_type": "execute_result",
          "data": {
            "text/plain": [
              "array([  1055.        ,  24335.5       ,  16999.        ,   1299.        ,\n",
              "        11999.        ,  15810.        ,    829.        ,   2092.        ,\n",
              "         6299.        ,  15999.        ,  15499.        ,    829.        ,\n",
              "        26489.        ,  11136.        ,    899.        ,   1999.        ,\n",
              "         8999.        ,  27526.        ,   1435.66666667,    849.        ,\n",
              "        12490.        ,   1316.5       ,   8449.        ,  72449.5       ,\n",
              "         9719.        ,  30499.        ,   1043.        ,   1299.        ,\n",
              "          999.        ,  79900.        ,   6927.        ,  11999.        ,\n",
              "        99900.        ,   8449.        ,   9999.        ,    999.        ,\n",
              "         4999.        ,   6499.        ,  22743.33333333,   8721.33333333,\n",
              "        23699.5       ,  22989.        ,   1390.        ,  27299.        ,\n",
              "         9999.        ,  19990.        ,   7499.        ,    809.        ,\n",
              "        49999.        ,  29999.        ,  24999.        ,  22999.        ,\n",
              "          670.        ,   1099.        ,  26489.        ,  17990.        ,\n",
              "         1113.        ,    809.        ,  24335.5       ,   7994.5       ,\n",
              "         8271.        ,   1268.2       ,    899.        ,   9999.        ,\n",
              "        31999.        ,   7499.        ,  28994.5       ,   1695.        ,\n",
              "        13953.25      ,  24999.        ,  11999.        ,    999.        ,\n",
              "         1299.        ,   1089.5       ,  24999.        ,   2092.        ,\n",
              "        12490.        ,  45499.        ,  11795.2       ,  22999.        ,\n",
              "         1155.        ,  27526.        ,   8999.        ,    999.        ,\n",
              "         1400.        ,  20990.        ,  30499.        ,  46990.        ,\n",
              "         7999.        ,  15499.        ,   9999.        ,    985.66666667,\n",
              "         1522.        ,   1810.5       ,   7994.5       ,    927.5       ,\n",
              "          849.        ,   7728.8       ,  23490.        ,  15689.        ,\n",
              "         7999.        ,   1358.8       ,  12999.        ,   1699.        ,\n",
              "        12177.66666667,  27299.        ,   2092.        ,  11999.        ,\n",
              "        16999.        ,    999.        ,   1390.        ,    999.        ,\n",
              "        65332.33333333,  17999.        ,    925.        ,  19972.        ,\n",
              "        11999.        ,  15989.        ,    999.        ,   2092.        ,\n",
              "         1419.        ,    956.5       ,   2499.        ,  23699.5       ,\n",
              "        23699.5       ,    999.        ,    999.        ,   2185.        ,\n",
              "          999.        ,  11999.        ,   1199.        ,   1099.        ,\n",
              "        17099.        ,    999.        ,    999.        ,  26489.        ,\n",
              "         1625.        ,  12999.        ,    999.        ,    982.        ,\n",
              "         7999.        ,  22999.        ,   1198.75      ,  30500.        ,\n",
              "        18946.33333333,    849.        ,    999.        ,    839.        ,\n",
              "         4793.        ,   1358.8       ,    899.        ,   1198.75      ,\n",
              "          999.        ,    809.        ,   1113.        ,    982.        ,\n",
              "         2499.        ,    999.        ,  15332.33333333,   1049.        ,\n",
              "        11999.        ,   5956.5       ,   1076.4       ,  46990.        ,\n",
              "        11413.5       ,   8990.        ,    809.        ,  12000.        ,\n",
              "        14990.        ,   1299.        ,    829.        ,   1390.        ,\n",
              "       139900.        ,  14990.        ,    999.        ,   8999.        ,\n",
              "        11999.        ,  16999.        ,   6199.        ,    849.        ,\n",
              "        13990.        ,   9499.        ,   4999.        ,   1625.        ,\n",
              "         1279.        ,   1358.8       ,  10286.        ,   8271.        ,\n",
              "         1249.        ,  69900.        ,  14990.        ,  12084.5       ,\n",
              "        14549.        ,   1098.33333333,  24990.        ,   7299.        ,\n",
              "          999.        ])"
            ]
          },
          "metadata": {},
          "execution_count": 163
        }
      ]
    },
    {
      "cell_type": "code",
      "execution_count": null,
      "metadata": {
        "id": "RVVE5QpUaLZ1"
      },
      "outputs": [],
      "source": [
        "accuracy_dregre = r2_score(y_test,y_pred_dregre)"
      ]
    },
    {
      "cell_type": "code",
      "execution_count": null,
      "metadata": {
        "colab": {
          "base_uri": "https://localhost:8080/"
        },
        "id": "FiCwMzXZaWlJ",
        "outputId": "0530444a-3e48-46e9-979a-7f0c828c97df"
      },
      "outputs": [
        {
          "output_type": "execute_result",
          "data": {
            "text/plain": [
              "0.9755445794761674"
            ]
          },
          "metadata": {},
          "execution_count": 165
        }
      ],
      "source": [
        "accuracy_dregre"
      ]
    },
    {
      "cell_type": "code",
      "source": [
        "from sklearn.metrics import confusion_matrix\n",
        "from sklearn.metrics import precision_score, recall_score, f1_score, accuracy_score"
      ],
      "metadata": {
        "id": "D6_deySuxZm_"
      },
      "execution_count": null,
      "outputs": []
    },
    {
      "cell_type": "code",
      "source": [
        "r2_score(y_test,y_pred_svm)"
      ],
      "metadata": {
        "colab": {
          "base_uri": "https://localhost:8080/"
        },
        "id": "gOzWF-Xsxqvg",
        "outputId": "1225da1a-a21c-4ab4-aa64-c56d7eefeae0"
      },
      "execution_count": null,
      "outputs": [
        {
          "output_type": "execute_result",
          "data": {
            "text/plain": [
              "-0.16417151072052327"
            ]
          },
          "metadata": {},
          "execution_count": 173
        }
      ]
    },
    {
      "cell_type": "code",
      "source": [
        "from sklearn.metrics import mean_squared_error, mean_absolute_error"
      ],
      "metadata": {
        "id": "elV7E3vMzjd2"
      },
      "execution_count": null,
      "outputs": []
    },
    {
      "cell_type": "code",
      "source": [
        "acc_regre = mean_squared_error(y_test,y_pred_regre)\n",
        "acc_dregre = mean_squared_error(y_test,y_pred_dregre)\n",
        "acc_svm = mean_squared_error(y_test,y_pred_regre)"
      ],
      "metadata": {
        "id": "UWHH74OH0Bfr"
      },
      "execution_count": null,
      "outputs": []
    },
    {
      "cell_type": "code",
      "source": [
        "[acc_regre,acc_dregre,acc_svm]"
      ],
      "metadata": {
        "id": "uETtzWhm6xWK",
        "outputId": "ff986ec4-95ed-4349-9f07-ce77a8f1c46a",
        "colab": {
          "base_uri": "https://localhost:8080/"
        }
      },
      "execution_count": null,
      "outputs": [
        {
          "output_type": "execute_result",
          "data": {
            "text/plain": [
              "[108531406.94689307, 7453327.6825930625, 108531406.94689307]"
            ]
          },
          "metadata": {},
          "execution_count": 176
        }
      ]
    },
    {
      "cell_type": "code",
      "source": [
        "plt.title('Mean Squared Error')\n",
        "plt.xlabel(\"Algorithm Used\")\n",
        "plt.ylabel(\"Mean Squared Error\")\n",
        "sns.barplot(x=['LR','DTR','SVM'],y=[acc_regre,acc_dregre,acc_svm])\n",
        "plt.show()"
      ],
      "metadata": {
        "colab": {
          "base_uri": "https://localhost:8080/",
          "height": 295
        },
        "id": "y_eV0Ply0ON_",
        "outputId": "e5708649-56d3-48df-a0bb-91177c41acc7"
      },
      "execution_count": null,
      "outputs": [
        {
          "output_type": "display_data",
          "data": {
            "text/plain": [
              "<Figure size 432x288 with 1 Axes>"
            ],
            "image/png": "[encoded data removed]"
          },
          "metadata": {
            "needs_background": "light"
          }
        }
      ]
    },
    {
      "cell_type": "code",
      "source": [
        "acc_regre = mean_absolute_error(y_test,y_pred_regre)\n",
        "acc_dregre = mean_absolute_error(y_test,y_pred_dregre)\n",
        "acc_svm = mean_absolute_error(y_test,y_pred_regre)"
      ],
      "metadata": {
        "id": "chIROBI40NU3"
      },
      "execution_count": null,
      "outputs": []
    },
    {
      "cell_type": "code",
      "source": [
        "plt.title('Mean Absolute Error')\n",
        "plt.xlabel(\"Algorithm Used\")\n",
        "plt.ylabel(\"Mean Absolute Error\")\n",
        "sns.barplot(x=['LR','DTR','SVM'],y=[acc_regre,acc_dregre,acc_svm])\n",
        "plt.show()"
      ],
      "metadata": {
        "colab": {
          "base_uri": "https://localhost:8080/",
          "height": 295
        },
        "id": "pavfO4QKy0lr",
        "outputId": "73cc22d4-86e0-4b1b-9a5a-0e9cdd62a0de"
      },
      "execution_count": null,
      "outputs": [
        {
          "output_type": "display_data",
          "data": {
            "text/plain": [
              "<Figure size 432x288 with 1 Axes>"
            ],
            "image/png": "[encoded data removed]"
          },
          "metadata": {
            "needs_background": "light"
          }
        }
      ]
    },
    {
      "cell_type": "code",
      "source": [
        "plt.title('Accuracy Of the Algorithms performed')\n",
        "plt.xlabel(\"Algorithm Used\")\n",
        "plt.ylabel(\"Accuracy\")\n",
        "clrs = ['red','blue','green']\n",
        "sns.barplot(x=['LR','DTR','SVM'],y=[accouracy_regre,accuracy_dregre,accuracy_svm],palette=\"gist_ncar\")\n",
        "plt.show()"
      ],
      "metadata": {
        "id": "tN4Rl6wLy9ed",
        "colab": {
          "base_uri": "https://localhost:8080/",
          "height": 295
        },
        "outputId": "431094a6-4cf2-4560-d13a-78594bbcbe02"
      },
      "execution_count": null,
      "outputs": [
        {
          "output_type": "display_data",
          "data": {
            "text/plain": [
              "<Figure size 432x288 with 1 Axes>"
            ],
            "image/png": "[encoded data removed]"
          },
          "metadata": {
            "needs_background": "light"
          }
        }
      ]
    },
    {
      "cell_type": "code",
      "source": [
        "import joblib"
      ],
      "metadata": {
        "id": "jdRERsvzae9z"
      },
      "execution_count": null,
      "outputs": []
    },
    {
      "cell_type": "code",
      "source": [
        "joblib.dump(dregre,'DecisionTreeMobile.sav')"
      ],
      "metadata": {
        "colab": {
          "base_uri": "https://localhost:8080/"
        },
        "id": "eJm3Xurga212",
        "outputId": "d38cbe94-4718-4dde-8a48-a63fb8f45e73"
      },
      "execution_count": null,
      "outputs": [
        {
          "output_type": "execute_result",
          "data": {
            "text/plain": [
              "['DecisionTreeMobile.sav']"
            ]
          },
          "metadata": {},
          "execution_count": 182
        }
      ]
    },
    {
      "cell_type": "code",
      "source": [
        "d = [5,6,16.5,8,64,5,5]\n",
        "\n",
        "d = sc.fit_transform([d])\n",
        "dregre.predict(d)"
      ],
      "metadata": {
        "colab": {
          "base_uri": "https://localhost:8080/"
        },
        "id": "e-RzMSlbbYex",
        "outputId": "be071bf5-3fe8-4689-bd9a-636d61b306d5"
      },
      "execution_count": null,
      "outputs": [
        {
          "output_type": "execute_result",
          "data": {
            "text/plain": [
              "array([4793.])"
            ]
          },
          "metadata": {},
          "execution_count": 183
        }
      ]
    },
    {
      "cell_type": "code",
      "source": [
        "z = [4,5000,16.5,4,64,6,2]\n",
        "dregre.predict([z])"
      ],
      "metadata": {
        "colab": {
          "base_uri": "https://localhost:8080/"
        },
        "id": "pWhsIF5XzXb3",
        "outputId": "f9b25e7c-491d-4fb3-ff96-756d397a79e2"
      },
      "execution_count": null,
      "outputs": [
        {
          "output_type": "execute_result",
          "data": {
            "text/plain": [
              "array([19999.])"
            ]
          },
          "metadata": {},
          "execution_count": 184
        }
      ]
    },
    {
      "cell_type": "code",
      "source": [
        "z=[4,5000,16.5,4,64,6,2]\n",
        "regre.predict([z])"
      ],
      "metadata": {
        "id": "aT4PnVv42JnO",
        "colab": {
          "base_uri": "https://localhost:8080/"
        },
        "outputId": "e1d37d6d-1f3c-4793-8133-a154cb1699b8"
      },
      "execution_count": null,
      "outputs": [
        {
          "output_type": "execute_result",
          "data": {
            "text/plain": [
              "array([[-33126730.65555632]])"
            ]
          },
          "metadata": {},
          "execution_count": 185
        }
      ]
    },
    {
      "cell_type": "code",
      "source": [
        "from sklearn.ensemble import RandomForestRegressor"
      ],
      "metadata": {
        "id": "mkWBlyy10dPj"
      },
      "execution_count": null,
      "outputs": []
    },
    {
      "cell_type": "code",
      "source": [
        "forest = RandomForestRegressor()"
      ],
      "metadata": {
        "id": "l08f0trp1TET"
      },
      "execution_count": null,
      "outputs": []
    },
    {
      "cell_type": "code",
      "source": [
        "forest.fit(x_train,y_train)"
      ],
      "metadata": {
        "colab": {
          "base_uri": "https://localhost:8080/"
        },
        "id": "PgyRCwme1WbQ",
        "outputId": "71f8263a-794a-489a-9bb4-f56e0cfcdcdc"
      },
      "execution_count": null,
      "outputs": [
        {
          "output_type": "stream",
          "name": "stderr",
          "text": [
            "/usr/local/lib/python3.7/dist-packages/ipykernel_launcher.py:1: DataConversionWarning: A column-vector y was passed when a 1d array was expected. Please change the shape of y to (n_samples,), for example using ravel().\n",
            "  \"\"\"Entry point for launching an IPython kernel.\n"
          ]
        },
        {
          "output_type": "execute_result",
          "data": {
            "text/plain": [
              "RandomForestRegressor()"
            ]
          },
          "metadata": {},
          "execution_count": 188
        }
      ]
    },
    {
      "cell_type": "code",
      "source": [
        "y_pred = forest.predict(x_test)"
      ],
      "metadata": {
        "id": "b5e2cOLp1aH6"
      },
      "execution_count": null,
      "outputs": []
    },
    {
      "cell_type": "code",
      "source": [
        "acc = r2_score(y_test,y_pred)"
      ],
      "metadata": {
        "id": "mbbNBRdy1jk0"
      },
      "execution_count": null,
      "outputs": []
    },
    {
      "cell_type": "code",
      "source": [
        "acc\n"
      ],
      "metadata": {
        "colab": {
          "base_uri": "https://localhost:8080/"
        },
        "id": "yt11oQle1pRL",
        "outputId": "346922a3-3191-416a-9b15-0e4d1be5e68e"
      },
      "execution_count": null,
      "outputs": [
        {
          "output_type": "execute_result",
          "data": {
            "text/plain": [
              "0.9742069368140021"
            ]
          },
          "metadata": {},
          "execution_count": 191
        }
      ]
    },
    {
      "cell_type": "code",
      "source": [
        "z = [5,5000,32.8,16,128,5,3]\n",
        "z = sc.fit_transform([z])\n",
        "forest.predict(z)"
      ],
      "metadata": {
        "colab": {
          "base_uri": "https://localhost:8080/"
        },
        "id": "WoneakI01xP9",
        "outputId": "ec16933c-28fc-45c2-9150-52f371507c05"
      },
      "execution_count": null,
      "outputs": [
        {
          "output_type": "execute_result",
          "data": {
            "text/plain": [
              "array([19846.04219048])"
            ]
          },
          "metadata": {},
          "execution_count": 210
        }
      ]
    },
    {
      "cell_type": "code",
      "source": [
        "z = [2,5000,16.5,4,8,4,5]\n",
        "z = sc.fit_transform([z])\n",
        "dregre.predict(z)"
      ],
      "metadata": {
        "colab": {
          "base_uri": "https://localhost:8080/"
        },
        "id": "2HQL_wW411_C",
        "outputId": "8f6b522a-f794-42ba-9d4a-cf7bd206c729"
      },
      "execution_count": null,
      "outputs": [
        {
          "output_type": "execute_result",
          "data": {
            "text/plain": [
              "array([4793.])"
            ]
          },
          "metadata": {},
          "execution_count": 193
        }
      ]
    },
    {
      "cell_type": "code",
      "source": [
        "df.head()"
      ],
      "metadata": {
        "colab": {
          "base_uri": "https://localhost:8080/",
          "height": 206
        },
        "id": "wZrMGBJv3C6u",
        "outputId": "cc200af7-a489-4c15-f968-462ac696e0bf"
      },
      "execution_count": null,
      "outputs": [
        {
          "output_type": "execute_result",
          "data": {
            "text/plain": [
              "   Price  Rating  Battery  Screen  RAM  ROM  Number of Cameras  Phone Ranking\n",
              "0   9499     4.5     5000   16.51    3   32                  4            2.0\n",
              "1  10499     4.5     5000   16.51    4   64                  4            2.0\n",
              "2  10499     4.5     5000   16.51    4   64                  4            2.0\n",
              "3    999     3.9     2800    4.50   32   32                  2            0.0\n",
              "4   9499     4.5     5000   16.51    3   32                  4            2.0"
            ],
            "text/html": [
              "\n",
              "  <div id=\"df-1bb8ff1b-9798-46f5-9e5b-e3ff70ad18d1\">\n",
              "    <div class=\"colab-df-container\">\n",
              "      <div>\n",
              "<style scoped>\n",
              "    .dataframe tbody tr th:only-of-type {\n",
              "        vertical-align: middle;\n",
              "    }\n",
              "\n",
              "    .dataframe tbody tr th {\n",
              "        vertical-align: top;\n",
              "    }\n",
              "\n",
              "    .dataframe thead th {\n",
              "        text-align: right;\n",
              "    }\n",
              "</style>\n",
              "<table border=\"1\" class=\"dataframe\">\n",
              "  <thead>\n",
              "    <tr style=\"text-align: right;\">\n",
              "      <th></th>\n",
              "      <th>Price</th>\n",
              "      <th>Rating</th>\n",
              "      <th>Battery</th>\n",
              "      <th>Screen</th>\n",
              "      <th>RAM</th>\n",
              "      <th>ROM</th>\n",
              "      <th>Number of Cameras</th>\n",
              "      <th>Phone Ranking</th>\n",
              "    </tr>\n",
              "  </thead>\n",
              "  <tbody>\n",
              "    <tr>\n",
              "      <th>0</th>\n",
              "      <td>9499</td>\n",
              "      <td>4.5</td>\n",
              "      <td>5000</td>\n",
              "      <td>16.51</td>\n",
              "      <td>3</td>\n",
              "      <td>32</td>\n",
              "      <td>4</td>\n",
              "      <td>2.0</td>\n",
              "    </tr>\n",
              "    <tr>\n",
              "      <th>1</th>\n",
              "      <td>10499</td>\n",
              "      <td>4.5</td>\n",
              "      <td>5000</td>\n",
              "      <td>16.51</td>\n",
              "      <td>4</td>\n",
              "      <td>64</td>\n",
              "      <td>4</td>\n",
              "      <td>2.0</td>\n",
              "    </tr>\n",
              "    <tr>\n",
              "      <th>2</th>\n",
              "      <td>10499</td>\n",
              "      <td>4.5</td>\n",
              "      <td>5000</td>\n",
              "      <td>16.51</td>\n",
              "      <td>4</td>\n",
              "      <td>64</td>\n",
              "      <td>4</td>\n",
              "      <td>2.0</td>\n",
              "    </tr>\n",
              "    <tr>\n",
              "      <th>3</th>\n",
              "      <td>999</td>\n",
              "      <td>3.9</td>\n",
              "      <td>2800</td>\n",
              "      <td>4.50</td>\n",
              "      <td>32</td>\n",
              "      <td>32</td>\n",
              "      <td>2</td>\n",
              "      <td>0.0</td>\n",
              "    </tr>\n",
              "    <tr>\n",
              "      <th>4</th>\n",
              "      <td>9499</td>\n",
              "      <td>4.5</td>\n",
              "      <td>5000</td>\n",
              "      <td>16.51</td>\n",
              "      <td>3</td>\n",
              "      <td>32</td>\n",
              "      <td>4</td>\n",
              "      <td>2.0</td>\n",
              "    </tr>\n",
              "  </tbody>\n",
              "</table>\n",
              "</div>\n",
              "      <button class=\"colab-df-convert\" onclick=\"convertToInteractive('df-1bb8ff1b-9798-46f5-9e5b-e3ff70ad18d1')\"\n",
              "              title=\"Convert this dataframe to an interactive table.\"\n",
              "              style=\"display:none;\">\n",
              "        \n",
              "  <svg xmlns=\"http://www.w3.org/2000/svg\" height=\"24px\"viewBox=\"0 0 24 24\"\n",
              "       width=\"24px\">\n",
              "    <path d=\"M0 0h24v24H0V0z\" fill=\"none\"/>\n",
              "    <path d=\"M18.56 5.44l.94 2.06.94-2.06 2.06-.94-2.06-.94-.94-2.06-.94 2.06-2.06.94zm-11 1L8.5 8.5l.94-2.06 2.06-.94-2.06-.94L8.5 2.5l-.94 2.06-2.06.94zm10 10l.94 2.06.94-2.06 2.06-.94-2.06-.94-.94-2.06-.94 2.06-2.06.94z\"/><path d=\"M17.41 7.96l-1.37-1.37c-.4-.4-.92-.59-1.43-.59-.52 0-1.04.2-1.43.59L10.3 9.45l-7.72 7.72c-.78.78-.78 2.05 0 2.83L4 21.41c.39.39.9.59 1.41.59.51 0 1.02-.2 1.41-.59l7.78-7.78 2.81-2.81c.8-.78.8-2.07 0-2.86zM5.41 20L4 18.59l7.72-7.72 1.47 1.35L5.41 20z\"/>\n",
              "  </svg>\n",
              "      </button>\n",
              "      \n",
              "  <style>\n",
              "    .colab-df-container {\n",
              "      display:flex;\n",
              "      flex-wrap:wrap;\n",
              "      gap: 12px;\n",
              "    }\n",
              "\n",
              "    .colab-df-convert {\n",
              "      background-color: #E8F0FE;\n",
              "      border: none;\n",
              "      border-radius: 50%;\n",
              "      cursor: pointer;\n",
              "      display: none;\n",
              "      fill: #1967D2;\n",
              "      height: 32px;\n",
              "      padding: 0 0 0 0;\n",
              "      width: 32px;\n",
              "    }\n",
              "\n",
              "    .colab-df-convert:hover {\n",
              "      background-color: #E2EBFA;\n",
              "      box-shadow: 0px 1px 2px rgba(60, 64, 67, 0.3), 0px 1px 3px 1px rgba(60, 64, 67, 0.15);\n",
              "      fill: #174EA6;\n",
              "    }\n",
              "\n",
              "    [theme=dark] .colab-df-convert {\n",
              "      background-color: #3B4455;\n",
              "      fill: #D2E3FC;\n",
              "    }\n",
              "\n",
              "    [theme=dark] .colab-df-convert:hover {\n",
              "      background-color: #434B5C;\n",
              "      box-shadow: 0px 1px 3px 1px rgba(0, 0, 0, 0.15);\n",
              "      filter: drop-shadow(0px 1px 2px rgba(0, 0, 0, 0.3));\n",
              "      fill: #FFFFFF;\n",
              "    }\n",
              "  </style>\n",
              "\n",
              "      <script>\n",
              "        const buttonEl =\n",
              "          document.querySelector('#df-1bb8ff1b-9798-46f5-9e5b-e3ff70ad18d1 button.colab-df-convert');\n",
              "        buttonEl.style.display =\n",
              "          google.colab.kernel.accessAllowed ? 'block' : 'none';\n",
              "\n",
              "        async function convertToInteractive(key) {\n",
              "          const element = document.querySelector('#df-1bb8ff1b-9798-46f5-9e5b-e3ff70ad18d1');\n",
              "          const dataTable =\n",
              "            await google.colab.kernel.invokeFunction('convertToInteractive',\n",
              "                                                     [key], {});\n",
              "          if (!dataTable) return;\n",
              "\n",
              "          const docLinkHtml = 'Like what you see? Visit the ' +\n",
              "            '<a target=\"_blank\" href=https://colab.research.google.com/notebooks/data_table.ipynb>data table notebook</a>'\n",
              "            + ' to learn more about interactive tables.';\n",
              "          element.innerHTML = '';\n",
              "          dataTable['output_type'] = 'display_data';\n",
              "          await google.colab.output.renderOutput(dataTable, element);\n",
              "          const docLink = document.createElement('div');\n",
              "          docLink.innerHTML = docLinkHtml;\n",
              "          element.appendChild(docLink);\n",
              "        }\n",
              "      </script>\n",
              "    </div>\n",
              "  </div>\n",
              "  "
            ]
          },
          "metadata": {},
          "execution_count": 194
        }
      ]
    },
    {
      "cell_type": "code",
      "source": [
        "sns.heatmap(df.corr(),annot = True)"
      ],
      "metadata": {
        "colab": {
          "base_uri": "https://localhost:8080/",
          "height": 376
        },
        "id": "tsyFUiFH3SS0",
        "outputId": "ffb69400-0c0b-43e9-9c23-c927280c73bd"
      },
      "execution_count": null,
      "outputs": [
        {
          "output_type": "execute_result",
          "data": {
            "text/plain": [
              "<matplotlib.axes._subplots.AxesSubplot at 0x7f516b6d0510>"
            ]
          },
          "metadata": {},
          "execution_count": 195
        },
        {
          "output_type": "display_data",
          "data": {
            "text/plain": [
              "<Figure size 432x288 with 2 Axes>"
            ],
            "image/png": "[encoded data removed]"
          },
          "metadata": {
            "needs_background": "light"
          }
        }
      ]
    },
    {
      "cell_type": "code",
      "source": [
        "degre = DecisionTreeRegressor(max_depth=5)"
      ],
      "metadata": {
        "id": "Ut2r0F-84ge0"
      },
      "execution_count": null,
      "outputs": []
    },
    {
      "cell_type": "code",
      "source": [
        "degre.fit(x_train,y_train)"
      ],
      "metadata": {
        "colab": {
          "base_uri": "https://localhost:8080/"
        },
        "id": "XNfD-jRI_wTD",
        "outputId": "8cf76ed4-ac64-4bbf-a825-d6f52aa2114d"
      },
      "execution_count": null,
      "outputs": [
        {
          "output_type": "execute_result",
          "data": {
            "text/plain": [
              "DecisionTreeRegressor(max_depth=5)"
            ]
          },
          "metadata": {},
          "execution_count": 197
        }
      ]
    },
    {
      "cell_type": "code",
      "source": [
        "y_pred = degre.predict(x_test)"
      ],
      "metadata": {
        "id": "VhcNfHKn_1UV"
      },
      "execution_count": null,
      "outputs": []
    },
    {
      "cell_type": "code",
      "source": [
        "acc = r2_score(y_test,y_pred)"
      ],
      "metadata": {
        "id": "B2zIbGOs_7AR"
      },
      "execution_count": null,
      "outputs": []
    },
    {
      "cell_type": "code",
      "source": [
        "acc"
      ],
      "metadata": {
        "colab": {
          "base_uri": "https://localhost:8080/"
        },
        "id": "uIdJRgJ2_-aI",
        "outputId": "afccbdd8-e2d7-46ab-f8ee-1868ef3f8f07"
      },
      "execution_count": null,
      "outputs": [
        {
          "output_type": "execute_result",
          "data": {
            "text/plain": [
              "0.969214401075678"
            ]
          },
          "metadata": {},
          "execution_count": 200
        }
      ]
    },
    {
      "cell_type": "code",
      "source": [
        "z = [2,5000,16.5,4,64,4,5]\n",
        "#z = sc.fit_transform([z])\n",
        "degre.predict([z])"
      ],
      "metadata": {
        "colab": {
          "base_uri": "https://localhost:8080/"
        },
        "id": "kZsAclXu__9_",
        "outputId": "155823fc-d8a3-44ba-9fff-418686c16aec"
      },
      "execution_count": null,
      "outputs": [
        {
          "output_type": "execute_result",
          "data": {
            "text/plain": [
              "array([139900.])"
            ]
          },
          "metadata": {},
          "execution_count": 201
        }
      ]
    },
    {
      "cell_type": "code",
      "source": [
        "z = [5,5000,32.8,16,512,5,5]\n",
        "z = sc.fit_transform([z])\n",
        "degre.predict(z)"
      ],
      "metadata": {
        "colab": {
          "base_uri": "https://localhost:8080/"
        },
        "id": "jZhq321eAEup",
        "outputId": "e0444f34-d165-4257-eaef-18f655ce5beb"
      },
      "execution_count": null,
      "outputs": [
        {
          "output_type": "execute_result",
          "data": {
            "text/plain": [
              "array([6646.75])"
            ]
          },
          "metadata": {},
          "execution_count": 207
        }
      ]
    },
    {
      "cell_type": "code",
      "source": [
        "z = [5,5000,32.8,16,128,5,3]\n",
        "z = sc.fit_transform([z])\n",
        "forest.predict(z)\n"
      ],
      "metadata": {
        "colab": {
          "base_uri": "https://localhost:8080/"
        },
        "id": "8XX6dNj3Ok5X",
        "outputId": "2e175a29-ce0d-442d-e5ba-a4b5f87010d4"
      },
      "execution_count": null,
      "outputs": [
        {
          "output_type": "execute_result",
          "data": {
            "text/plain": [
              "array([19846.04219048])"
            ]
          },
          "metadata": {},
          "execution_count": 211
        }
      ]
    },
    {
      "cell_type": "code",
      "source": [],
      "metadata": {
        "id": "aN0OOiPmPMjh"
      },
      "execution_count": null,
      "outputs": []
    }
  ],
  "metadata": {
    "colab": {
      "provenance": []
    },
    "kernelspec": {
      "display_name": "Python 3",
      "name": "python3"
    },
    "language_info": {
      "name": "python"
    }
  },
  "nbformat": 4,
  "nbformat_minor": 0
}