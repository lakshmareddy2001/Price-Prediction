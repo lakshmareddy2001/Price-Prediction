{
  "nbformat": 4,
  "nbformat_minor": 0,
  "metadata": {
    "colab": {
      "provenance": []
    },
    "kernelspec": {
      "name": "python3",
      "display_name": "Python 3"
    },
    "language_info": {
      "name": "python"
    }
  },
  "cells": [
    {
      "cell_type": "code",
      "execution_count": null,
      "metadata": {
        "id": "JprWw2HFcbOB"
      },
      "outputs": [],
      "source": [
        "import pandas as pd\n",
        "import numpy as np\n",
        "import matplotlib.pyplot as plt\n"
      ]
    },
    {
      "cell_type": "code",
      "source": [
        "df = pd.read_csv(\"/content/data.csv\")"
      ],
      "metadata": {
        "id": "iiCFnjSjcghJ"
      },
      "execution_count": null,
      "outputs": []
    },
    {
      "cell_type": "code",
      "source": [
        "df.head(10)"
      ],
      "metadata": {
        "colab": {
          "base_uri": "https://localhost:8080/",
          "height": 580
        },
        "id": "_chFJbuXkFYC",
        "outputId": "97fd3c66-378c-41b6-cd8a-a42aef2c7993"
      },
      "execution_count": null,
      "outputs": [
        {
          "output_type": "execute_result",
          "data": {
            "text/plain": [
              "                                           Name   Price Rating  \\\n",
              "0    SAMSUNG Galaxy F13 (Nightsky Green, 64 GB)   9,499    4.4   \n",
              "1    SAMSUNG Galaxy F13 (Sunrise Copper, 64 GB)   9,499    4.4   \n",
              "2    SAMSUNG Galaxy F13 (Waterfall Blue, 64 GB)   9,499    4.4   \n",
              "3          REDMI 9i Sport (Carbon Black, 64 GB)   7,599    4.4   \n",
              "4     SAMSUNG Galaxy F23 5G (Aqua Blue, 128 GB)  14,499    4.3   \n",
              "5  SAMSUNG Galaxy F23 5G (Forest Green, 128 GB)  14,499    4.3   \n",
              "6                APPLE iPhone 11 (Black, 64 GB)  41,990    4.6   \n",
              "7  SAMSUNG Galaxy F23 5G (Copper Blush, 128 GB)  14,499    4.3   \n",
              "8               APPLE iPhone 11 (Black, 128 GB)  46,990    4.6   \n",
              "9                REDMI 10 (Pacific Blue, 64 GB)   9,999    4.3   \n",
              "\n",
              "                                          Memory  \\\n",
              "0    4 GB RAM | 64 GB ROM | Expandable Upto 1 TB   \n",
              "1    4 GB RAM | 64 GB ROM | Expandable Upto 1 TB   \n",
              "2    4 GB RAM | 64 GB ROM | Expandable Upto 1 TB   \n",
              "3  4 GB RAM | 64 GB ROM | Expandable Upto 512 GB   \n",
              "4   6 GB RAM | 128 GB ROM | Expandable Upto 1 TB   \n",
              "5   6 GB RAM | 128 GB ROM | Expandable Upto 1 TB   \n",
              "6                                      64 GB ROM   \n",
              "7   6 GB RAM | 128 GB ROM | Expandable Upto 1 TB   \n",
              "8                                     128 GB ROM   \n",
              "9    4 GB RAM | 64 GB ROM | Expandable Upto 1 TB   \n",
              "\n",
              "                            Battery                               Camera  \\\n",
              "0      6000 mAh Lithium Ion Battery  50MP + 5MP + 2MP | 8MP Front Camera   \n",
              "1      6000 mAh Lithium Ion Battery  50MP + 5MP + 2MP | 8MP Front Camera   \n",
              "2      6000 mAh Lithium Ion Battery  50MP + 5MP + 2MP | 8MP Front Camera   \n",
              "3       5000 mAh Li-Polymer Battery  13MP Rear Camera | 5MP Front Camera   \n",
              "4      5000 mAh Lithium Ion Battery  50MP + 8MP + 2MP | 8MP Front Camera   \n",
              "5      5000 mAh Lithium Ion Battery  50MP + 8MP + 2MP | 8MP Front Camera   \n",
              "6         A13 Bionic Chip Processor      12MP + 12MP | 12MP Front Camera   \n",
              "7      5000 mAh Lithium Ion Battery  50MP + 8MP + 2MP | 8MP Front Camera   \n",
              "8         A13 Bionic Chip Processor      12MP + 12MP | 12MP Front Camera   \n",
              "9  6000 mAh Lithium Polymer Battery        50MP + 2MP | 5MP Front Camera   \n",
              "\n",
              "                                         Screen  \n",
              "0          16.76 cm (6.6 inch) Full HD+ Display  \n",
              "1          16.76 cm (6.6 inch) Full HD+ Display  \n",
              "2          16.76 cm (6.6 inch) Full HD+ Display  \n",
              "3              16.59 cm (6.53 inch) HD+ Display  \n",
              "4          16.76 cm (6.6 inch) Full HD+ Display  \n",
              "5          16.76 cm (6.6 inch) Full HD+ Display  \n",
              "6  15.49 cm (6.1 inch) Liquid Retina HD Display  \n",
              "7          16.76 cm (6.6 inch) Full HD+ Display  \n",
              "8  15.49 cm (6.1 inch) Liquid Retina HD Display  \n",
              "9               17.02 cm (6.7 inch) HD+ Display  "
            ],
            "text/html": [
              "\n",
              "  <div id=\"df-f97dfa66-7356-4f45-a74a-6c4525e49c2c\">\n",
              "    <div class=\"colab-df-container\">\n",
              "      <div>\n",
              "<style scoped>\n",
              "    .dataframe tbody tr th:only-of-type {\n",
              "        vertical-align: middle;\n",
              "    }\n",
              "\n",
              "    .dataframe tbody tr th {\n",
              "        vertical-align: top;\n",
              "    }\n",
              "\n",
              "    .dataframe thead th {\n",
              "        text-align: right;\n",
              "    }\n",
              "</style>\n",
              "<table border=\"1\" class=\"dataframe\">\n",
              "  <thead>\n",
              "    <tr style=\"text-align: right;\">\n",
              "      <th></th>\n",
              "      <th>Name</th>\n",
              "      <th>Price</th>\n",
              "      <th>Rating</th>\n",
              "      <th>Memory</th>\n",
              "      <th>Battery</th>\n",
              "      <th>Camera</th>\n",
              "      <th>Screen</th>\n",
              "    </tr>\n",
              "  </thead>\n",
              "  <tbody>\n",
              "    <tr>\n",
              "      <th>0</th>\n",
              "      <td>SAMSUNG Galaxy F13 (Nightsky Green, 64 GB)</td>\n",
              "      <td>9,499</td>\n",
              "      <td>4.4</td>\n",
              "      <td>4 GB RAM | 64 GB ROM | Expandable Upto 1 TB</td>\n",
              "      <td>6000 mAh Lithium Ion Battery</td>\n",
              "      <td>50MP + 5MP + 2MP | 8MP Front Camera</td>\n",
              "      <td>16.76 cm (6.6 inch) Full HD+ Display</td>\n",
              "    </tr>\n",
              "    <tr>\n",
              "      <th>1</th>\n",
              "      <td>SAMSUNG Galaxy F13 (Sunrise Copper, 64 GB)</td>\n",
              "      <td>9,499</td>\n",
              "      <td>4.4</td>\n",
              "      <td>4 GB RAM | 64 GB ROM | Expandable Upto 1 TB</td>\n",
              "      <td>6000 mAh Lithium Ion Battery</td>\n",
              "      <td>50MP + 5MP + 2MP | 8MP Front Camera</td>\n",
              "      <td>16.76 cm (6.6 inch) Full HD+ Display</td>\n",
              "    </tr>\n",
              "    <tr>\n",
              "      <th>2</th>\n",
              "      <td>SAMSUNG Galaxy F13 (Waterfall Blue, 64 GB)</td>\n",
              "      <td>9,499</td>\n",
              "      <td>4.4</td>\n",
              "      <td>4 GB RAM | 64 GB ROM | Expandable Upto 1 TB</td>\n",
              "      <td>6000 mAh Lithium Ion Battery</td>\n",
              "      <td>50MP + 5MP + 2MP | 8MP Front Camera</td>\n",
              "      <td>16.76 cm (6.6 inch) Full HD+ Display</td>\n",
              "    </tr>\n",
              "    <tr>\n",
              "      <th>3</th>\n",
              "      <td>REDMI 9i Sport (Carbon Black, 64 GB)</td>\n",
              "      <td>7,599</td>\n",
              "      <td>4.4</td>\n",
              "      <td>4 GB RAM | 64 GB ROM | Expandable Upto 512 GB</td>\n",
              "      <td>5000 mAh Li-Polymer Battery</td>\n",
              "      <td>13MP Rear Camera | 5MP Front Camera</td>\n",
              "      <td>16.59 cm (6.53 inch) HD+ Display</td>\n",
              "    </tr>\n",
              "    <tr>\n",
              "      <th>4</th>\n",
              "      <td>SAMSUNG Galaxy F23 5G (Aqua Blue, 128 GB)</td>\n",
              "      <td>14,499</td>\n",
              "      <td>4.3</td>\n",
              "      <td>6 GB RAM | 128 GB ROM | Expandable Upto 1 TB</td>\n",
              "      <td>5000 mAh Lithium Ion Battery</td>\n",
              "      <td>50MP + 8MP + 2MP | 8MP Front Camera</td>\n",
              "      <td>16.76 cm (6.6 inch) Full HD+ Display</td>\n",
              "    </tr>\n",
              "    <tr>\n",
              "      <th>5</th>\n",
              "      <td>SAMSUNG Galaxy F23 5G (Forest Green, 128 GB)</td>\n",
              "      <td>14,499</td>\n",
              "      <td>4.3</td>\n",
              "      <td>6 GB RAM | 128 GB ROM | Expandable Upto 1 TB</td>\n",
              "      <td>5000 mAh Lithium Ion Battery</td>\n",
              "      <td>50MP + 8MP + 2MP | 8MP Front Camera</td>\n",
              "      <td>16.76 cm (6.6 inch) Full HD+ Display</td>\n",
              "    </tr>\n",
              "    <tr>\n",
              "      <th>6</th>\n",
              "      <td>APPLE iPhone 11 (Black, 64 GB)</td>\n",
              "      <td>41,990</td>\n",
              "      <td>4.6</td>\n",
              "      <td>64 GB ROM</td>\n",
              "      <td>A13 Bionic Chip Processor</td>\n",
              "      <td>12MP + 12MP | 12MP Front Camera</td>\n",
              "      <td>15.49 cm (6.1 inch) Liquid Retina HD Display</td>\n",
              "    </tr>\n",
              "    <tr>\n",
              "      <th>7</th>\n",
              "      <td>SAMSUNG Galaxy F23 5G (Copper Blush, 128 GB)</td>\n",
              "      <td>14,499</td>\n",
              "      <td>4.3</td>\n",
              "      <td>6 GB RAM | 128 GB ROM | Expandable Upto 1 TB</td>\n",
              "      <td>5000 mAh Lithium Ion Battery</td>\n",
              "      <td>50MP + 8MP + 2MP | 8MP Front Camera</td>\n",
              "      <td>16.76 cm (6.6 inch) Full HD+ Display</td>\n",
              "    </tr>\n",
              "    <tr>\n",
              "      <th>8</th>\n",
              "      <td>APPLE iPhone 11 (Black, 128 GB)</td>\n",
              "      <td>46,990</td>\n",
              "      <td>4.6</td>\n",
              "      <td>128 GB ROM</td>\n",
              "      <td>A13 Bionic Chip Processor</td>\n",
              "      <td>12MP + 12MP | 12MP Front Camera</td>\n",
              "      <td>15.49 cm (6.1 inch) Liquid Retina HD Display</td>\n",
              "    </tr>\n",
              "    <tr>\n",
              "      <th>9</th>\n",
              "      <td>REDMI 10 (Pacific Blue, 64 GB)</td>\n",
              "      <td>9,999</td>\n",
              "      <td>4.3</td>\n",
              "      <td>4 GB RAM | 64 GB ROM | Expandable Upto 1 TB</td>\n",
              "      <td>6000 mAh Lithium Polymer Battery</td>\n",
              "      <td>50MP + 2MP | 5MP Front Camera</td>\n",
              "      <td>17.02 cm (6.7 inch) HD+ Display</td>\n",
              "    </tr>\n",
              "  </tbody>\n",
              "</table>\n",
              "</div>\n",
              "      <button class=\"colab-df-convert\" onclick=\"convertToInteractive('df-f97dfa66-7356-4f45-a74a-6c4525e49c2c')\"\n",
              "              title=\"Convert this dataframe to an interactive table.\"\n",
              "              style=\"display:none;\">\n",
              "        \n",
              "  <svg xmlns=\"http://www.w3.org/2000/svg\" height=\"24px\"viewBox=\"0 0 24 24\"\n",
              "       width=\"24px\">\n",
              "    <path d=\"M0 0h24v24H0V0z\" fill=\"none\"/>\n",
              "    <path d=\"M18.56 5.44l.94 2.06.94-2.06 2.06-.94-2.06-.94-.94-2.06-.94 2.06-2.06.94zm-11 1L8.5 8.5l.94-2.06 2.06-.94-2.06-.94L8.5 2.5l-.94 2.06-2.06.94zm10 10l.94 2.06.94-2.06 2.06-.94-2.06-.94-.94-2.06-.94 2.06-2.06.94z\"/><path d=\"M17.41 7.96l-1.37-1.37c-.4-.4-.92-.59-1.43-.59-.52 0-1.04.2-1.43.59L10.3 9.45l-7.72 7.72c-.78.78-.78 2.05 0 2.83L4 21.41c.39.39.9.59 1.41.59.51 0 1.02-.2 1.41-.59l7.78-7.78 2.81-2.81c.8-.78.8-2.07 0-2.86zM5.41 20L4 18.59l7.72-7.72 1.47 1.35L5.41 20z\"/>\n",
              "  </svg>\n",
              "      </button>\n",
              "      \n",
              "  <style>\n",
              "    .colab-df-container {\n",
              "      display:flex;\n",
              "      flex-wrap:wrap;\n",
              "      gap: 12px;\n",
              "    }\n",
              "\n",
              "    .colab-df-convert {\n",
              "      background-color: #E8F0FE;\n",
              "      border: none;\n",
              "      border-radius: 50%;\n",
              "      cursor: pointer;\n",
              "      display: none;\n",
              "      fill: #1967D2;\n",
              "      height: 32px;\n",
              "      padding: 0 0 0 0;\n",
              "      width: 32px;\n",
              "    }\n",
              "\n",
              "    .colab-df-convert:hover {\n",
              "      background-color: #E2EBFA;\n",
              "      box-shadow: 0px 1px 2px rgba(60, 64, 67, 0.3), 0px 1px 3px 1px rgba(60, 64, 67, 0.15);\n",
              "      fill: #174EA6;\n",
              "    }\n",
              "\n",
              "    [theme=dark] .colab-df-convert {\n",
              "      background-color: #3B4455;\n",
              "      fill: #D2E3FC;\n",
              "    }\n",
              "\n",
              "    [theme=dark] .colab-df-convert:hover {\n",
              "      background-color: #434B5C;\n",
              "      box-shadow: 0px 1px 3px 1px rgba(0, 0, 0, 0.15);\n",
              "      filter: drop-shadow(0px 1px 2px rgba(0, 0, 0, 0.3));\n",
              "      fill: #FFFFFF;\n",
              "    }\n",
              "  </style>\n",
              "\n",
              "      <script>\n",
              "        const buttonEl =\n",
              "          document.querySelector('#df-f97dfa66-7356-4f45-a74a-6c4525e49c2c button.colab-df-convert');\n",
              "        buttonEl.style.display =\n",
              "          google.colab.kernel.accessAllowed ? 'block' : 'none';\n",
              "\n",
              "        async function convertToInteractive(key) {\n",
              "          const element = document.querySelector('#df-f97dfa66-7356-4f45-a74a-6c4525e49c2c');\n",
              "          const dataTable =\n",
              "            await google.colab.kernel.invokeFunction('convertToInteractive',\n",
              "                                                     [key], {});\n",
              "          if (!dataTable) return;\n",
              "\n",
              "          const docLinkHtml = 'Like what you see? Visit the ' +\n",
              "            '<a target=\"_blank\" href=https://colab.research.google.com/notebooks/data_table.ipynb>data table notebook</a>'\n",
              "            + ' to learn more about interactive tables.';\n",
              "          element.innerHTML = '';\n",
              "          dataTable['output_type'] = 'display_data';\n",
              "          await google.colab.output.renderOutput(dataTable, element);\n",
              "          const docLink = document.createElement('div');\n",
              "          docLink.innerHTML = docLinkHtml;\n",
              "          element.appendChild(docLink);\n",
              "        }\n",
              "      </script>\n",
              "    </div>\n",
              "  </div>\n",
              "  "
            ]
          },
          "metadata": {},
          "execution_count": 4
        }
      ]
    },
    {
      "cell_type": "code",
      "source": [
        "df.info()"
      ],
      "metadata": {
        "id": "yi6lEDV6k8Ry",
        "colab": {
          "base_uri": "https://localhost:8080/"
        },
        "outputId": "51cbe1e0-86bf-45b7-c35e-e298f9354c66"
      },
      "execution_count": null,
      "outputs": [
        {
          "output_type": "stream",
          "name": "stdout",
          "text": [
            "<class 'pandas.core.frame.DataFrame'>\n",
            "RangeIndex: 983 entries, 0 to 982\n",
            "Data columns (total 7 columns):\n",
            " #   Column   Non-Null Count  Dtype \n",
            "---  ------   --------------  ----- \n",
            " 0   Name     983 non-null    object\n",
            " 1   Price    983 non-null    object\n",
            " 2   Rating   983 non-null    object\n",
            " 3   Memory   983 non-null    object\n",
            " 4   Battery  983 non-null    object\n",
            " 5   Camera   983 non-null    object\n",
            " 6   Screen   983 non-null    object\n",
            "dtypes: object(7)\n",
            "memory usage: 53.9+ KB\n"
          ]
        }
      ]
    },
    {
      "cell_type": "code",
      "source": [
        "battery=df['Battery']"
      ],
      "metadata": {
        "id": "5M4i680CjgB8"
      },
      "execution_count": null,
      "outputs": []
    },
    {
      "cell_type": "code",
      "source": [
        "battery"
      ],
      "metadata": {
        "colab": {
          "base_uri": "https://localhost:8080/"
        },
        "id": "pHeTzyXdjo3D",
        "outputId": "f26854e3-b594-4931-b14c-ec0c78a7c4ab"
      },
      "execution_count": null,
      "outputs": [
        {
          "output_type": "execute_result",
          "data": {
            "text/plain": [
              "0                           6000 mAh Lithium Ion Battery\n",
              "1                           6000 mAh Lithium Ion Battery\n",
              "2                           6000 mAh Lithium Ion Battery\n",
              "3                            5000 mAh Li-Polymer Battery\n",
              "4                           5000 mAh Lithium Ion Battery\n",
              "                             ...                        \n",
              "978                                     5000 mAh Battery\n",
              "979                                     5020 mAh Battery\n",
              "980    A14 Bionic Chip with Next Generation Neural En...\n",
              "981                                     6000 mAh Battery\n",
              "982                              1000 mAh Li-ion Battery\n",
              "Name: Battery, Length: 983, dtype: object"
            ]
          },
          "metadata": {},
          "execution_count": 6
        }
      ]
    },
    {
      "cell_type": "code",
      "source": [
        "batter=[]\n",
        "for i in battery:\n",
        "  a=i.split(\" \")\n",
        "  try:\n",
        "    batter.append(int(a[0]))\n",
        "  except:\n",
        "    batter.append(\"NaN\")"
      ],
      "metadata": {
        "id": "u5DUSYpAjqRq"
      },
      "execution_count": null,
      "outputs": []
    },
    {
      "cell_type": "code",
      "source": [
        "batter.count(\"NaN\")"
      ],
      "metadata": {
        "colab": {
          "base_uri": "https://localhost:8080/"
        },
        "id": "CeWpVmUEkEzl",
        "outputId": "37050fdb-4fe2-432a-ea32-8db820fd3de5"
      },
      "execution_count": null,
      "outputs": [
        {
          "output_type": "execute_result",
          "data": {
            "text/plain": [
              "61"
            ]
          },
          "metadata": {},
          "execution_count": 8
        }
      ]
    },
    {
      "cell_type": "code",
      "source": [
        "mah=0\n",
        "for i in batter:\n",
        "  try:\n",
        "    mah+=i\n",
        "  except:\n",
        "    mah+=0"
      ],
      "metadata": {
        "id": "6oIqbLjOkLGF"
      },
      "execution_count": null,
      "outputs": []
    },
    {
      "cell_type": "code",
      "source": [
        "mah=int(mah/len(batter))"
      ],
      "metadata": {
        "id": "l79kOD7VkNcB"
      },
      "execution_count": null,
      "outputs": []
    },
    {
      "cell_type": "code",
      "source": [
        "mah"
      ],
      "metadata": {
        "colab": {
          "base_uri": "https://localhost:8080/"
        },
        "id": "gIbzijIgkekm",
        "outputId": "d26fec31-3c71-4b77-8b27-6e2a111951e4"
      },
      "execution_count": null,
      "outputs": [
        {
          "output_type": "execute_result",
          "data": {
            "text/plain": [
              "3879"
            ]
          },
          "metadata": {},
          "execution_count": 11
        }
      ]
    },
    {
      "cell_type": "code",
      "source": [
        "for i in range(0,len(batter)):\n",
        "  if(batter[i]==\"NaN\"):\n",
        "    batter[i]=mah"
      ],
      "metadata": {
        "id": "_O2L38fjkfoS"
      },
      "execution_count": null,
      "outputs": []
    },
    {
      "cell_type": "code",
      "source": [
        "batter.count(\"NaN\")"
      ],
      "metadata": {
        "colab": {
          "base_uri": "https://localhost:8080/"
        },
        "id": "O_uTwYEgkvi8",
        "outputId": "216ac80d-8b4e-4b7d-8c70-81d1e4dde353"
      },
      "execution_count": null,
      "outputs": [
        {
          "output_type": "execute_result",
          "data": {
            "text/plain": [
              "0"
            ]
          },
          "metadata": {},
          "execution_count": 14
        }
      ]
    },
    {
      "cell_type": "code",
      "source": [
        "len(batter)"
      ],
      "metadata": {
        "colab": {
          "base_uri": "https://localhost:8080/"
        },
        "id": "6AxR1NVbQPWC",
        "outputId": "4570511c-61ca-4fa0-fd8b-323a2c45b5bf"
      },
      "execution_count": null,
      "outputs": [
        {
          "output_type": "execute_result",
          "data": {
            "text/plain": [
              "983"
            ]
          },
          "metadata": {},
          "execution_count": 16
        }
      ]
    },
    {
      "cell_type": "code",
      "source": [
        "df['Battery']=batter"
      ],
      "metadata": {
        "id": "u3ZZfcJ0k1I_"
      },
      "execution_count": null,
      "outputs": []
    },
    {
      "cell_type": "code",
      "source": [
        "df.info()"
      ],
      "metadata": {
        "colab": {
          "base_uri": "https://localhost:8080/"
        },
        "id": "3ixNQrWdQXNX",
        "outputId": "cf384adb-652f-487a-e9b8-df75eaab3c93"
      },
      "execution_count": null,
      "outputs": [
        {
          "output_type": "stream",
          "name": "stdout",
          "text": [
            "<class 'pandas.core.frame.DataFrame'>\n",
            "RangeIndex: 983 entries, 0 to 982\n",
            "Data columns (total 7 columns):\n",
            " #   Column   Non-Null Count  Dtype \n",
            "---  ------   --------------  ----- \n",
            " 0   Name     983 non-null    object\n",
            " 1   Price    983 non-null    object\n",
            " 2   Rating   983 non-null    object\n",
            " 3   Memory   983 non-null    object\n",
            " 4   Battery  983 non-null    int64 \n",
            " 5   Camera   983 non-null    object\n",
            " 6   Screen   983 non-null    object\n",
            "dtypes: int64(1), object(6)\n",
            "memory usage: 53.9+ KB\n"
          ]
        }
      ]
    },
    {
      "cell_type": "code",
      "source": [
        "df.head()"
      ],
      "metadata": {
        "colab": {
          "base_uri": "https://localhost:8080/",
          "height": 337
        },
        "id": "IGz83GJba0WC",
        "outputId": "130828bd-3d36-4869-ba4a-e32453b107e6"
      },
      "execution_count": null,
      "outputs": [
        {
          "output_type": "execute_result",
          "data": {
            "text/plain": [
              "                                         Name   Price Rating  \\\n",
              "0  SAMSUNG Galaxy F13 (Nightsky Green, 64 GB)   9,499    4.4   \n",
              "1  SAMSUNG Galaxy F13 (Sunrise Copper, 64 GB)   9,499    4.4   \n",
              "2  SAMSUNG Galaxy F13 (Waterfall Blue, 64 GB)   9,499    4.4   \n",
              "3        REDMI 9i Sport (Carbon Black, 64 GB)   7,599    4.4   \n",
              "4   SAMSUNG Galaxy F23 5G (Aqua Blue, 128 GB)  14,499    4.3   \n",
              "\n",
              "                                          Memory  Battery  \\\n",
              "0    4 GB RAM | 64 GB ROM | Expandable Upto 1 TB     6000   \n",
              "1    4 GB RAM | 64 GB ROM | Expandable Upto 1 TB     6000   \n",
              "2    4 GB RAM | 64 GB ROM | Expandable Upto 1 TB     6000   \n",
              "3  4 GB RAM | 64 GB ROM | Expandable Upto 512 GB     5000   \n",
              "4   6 GB RAM | 128 GB ROM | Expandable Upto 1 TB     5000   \n",
              "\n",
              "                                Camera                                Screen  \n",
              "0  50MP + 5MP + 2MP | 8MP Front Camera  16.76 cm (6.6 inch) Full HD+ Display  \n",
              "1  50MP + 5MP + 2MP | 8MP Front Camera  16.76 cm (6.6 inch) Full HD+ Display  \n",
              "2  50MP + 5MP + 2MP | 8MP Front Camera  16.76 cm (6.6 inch) Full HD+ Display  \n",
              "3  13MP Rear Camera | 5MP Front Camera      16.59 cm (6.53 inch) HD+ Display  \n",
              "4  50MP + 8MP + 2MP | 8MP Front Camera  16.76 cm (6.6 inch) Full HD+ Display  "
            ],
            "text/html": [
              "\n",
              "  <div id=\"df-73955e97-9b1e-4238-a170-ff272e1a5762\">\n",
              "    <div class=\"colab-df-container\">\n",
              "      <div>\n",
              "<style scoped>\n",
              "    .dataframe tbody tr th:only-of-type {\n",
              "        vertical-align: middle;\n",
              "    }\n",
              "\n",
              "    .dataframe tbody tr th {\n",
              "        vertical-align: top;\n",
              "    }\n",
              "\n",
              "    .dataframe thead th {\n",
              "        text-align: right;\n",
              "    }\n",
              "</style>\n",
              "<table border=\"1\" class=\"dataframe\">\n",
              "  <thead>\n",
              "    <tr style=\"text-align: right;\">\n",
              "      <th></th>\n",
              "      <th>Name</th>\n",
              "      <th>Price</th>\n",
              "      <th>Rating</th>\n",
              "      <th>Memory</th>\n",
              "      <th>Battery</th>\n",
              "      <th>Camera</th>\n",
              "      <th>Screen</th>\n",
              "    </tr>\n",
              "  </thead>\n",
              "  <tbody>\n",
              "    <tr>\n",
              "      <th>0</th>\n",
              "      <td>SAMSUNG Galaxy F13 (Nightsky Green, 64 GB)</td>\n",
              "      <td>9,499</td>\n",
              "      <td>4.4</td>\n",
              "      <td>4 GB RAM | 64 GB ROM | Expandable Upto 1 TB</td>\n",
              "      <td>6000</td>\n",
              "      <td>50MP + 5MP + 2MP | 8MP Front Camera</td>\n",
              "      <td>16.76 cm (6.6 inch) Full HD+ Display</td>\n",
              "    </tr>\n",
              "    <tr>\n",
              "      <th>1</th>\n",
              "      <td>SAMSUNG Galaxy F13 (Sunrise Copper, 64 GB)</td>\n",
              "      <td>9,499</td>\n",
              "      <td>4.4</td>\n",
              "      <td>4 GB RAM | 64 GB ROM | Expandable Upto 1 TB</td>\n",
              "      <td>6000</td>\n",
              "      <td>50MP + 5MP + 2MP | 8MP Front Camera</td>\n",
              "      <td>16.76 cm (6.6 inch) Full HD+ Display</td>\n",
              "    </tr>\n",
              "    <tr>\n",
              "      <th>2</th>\n",
              "      <td>SAMSUNG Galaxy F13 (Waterfall Blue, 64 GB)</td>\n",
              "      <td>9,499</td>\n",
              "      <td>4.4</td>\n",
              "      <td>4 GB RAM | 64 GB ROM | Expandable Upto 1 TB</td>\n",
              "      <td>6000</td>\n",
              "      <td>50MP + 5MP + 2MP | 8MP Front Camera</td>\n",
              "      <td>16.76 cm (6.6 inch) Full HD+ Display</td>\n",
              "    </tr>\n",
              "    <tr>\n",
              "      <th>3</th>\n",
              "      <td>REDMI 9i Sport (Carbon Black, 64 GB)</td>\n",
              "      <td>7,599</td>\n",
              "      <td>4.4</td>\n",
              "      <td>4 GB RAM | 64 GB ROM | Expandable Upto 512 GB</td>\n",
              "      <td>5000</td>\n",
              "      <td>13MP Rear Camera | 5MP Front Camera</td>\n",
              "      <td>16.59 cm (6.53 inch) HD+ Display</td>\n",
              "    </tr>\n",
              "    <tr>\n",
              "      <th>4</th>\n",
              "      <td>SAMSUNG Galaxy F23 5G (Aqua Blue, 128 GB)</td>\n",
              "      <td>14,499</td>\n",
              "      <td>4.3</td>\n",
              "      <td>6 GB RAM | 128 GB ROM | Expandable Upto 1 TB</td>\n",
              "      <td>5000</td>\n",
              "      <td>50MP + 8MP + 2MP | 8MP Front Camera</td>\n",
              "      <td>16.76 cm (6.6 inch) Full HD+ Display</td>\n",
              "    </tr>\n",
              "  </tbody>\n",
              "</table>\n",
              "</div>\n",
              "      <button class=\"colab-df-convert\" onclick=\"convertToInteractive('df-73955e97-9b1e-4238-a170-ff272e1a5762')\"\n",
              "              title=\"Convert this dataframe to an interactive table.\"\n",
              "              style=\"display:none;\">\n",
              "        \n",
              "  <svg xmlns=\"http://www.w3.org/2000/svg\" height=\"24px\"viewBox=\"0 0 24 24\"\n",
              "       width=\"24px\">\n",
              "    <path d=\"M0 0h24v24H0V0z\" fill=\"none\"/>\n",
              "    <path d=\"M18.56 5.44l.94 2.06.94-2.06 2.06-.94-2.06-.94-.94-2.06-.94 2.06-2.06.94zm-11 1L8.5 8.5l.94-2.06 2.06-.94-2.06-.94L8.5 2.5l-.94 2.06-2.06.94zm10 10l.94 2.06.94-2.06 2.06-.94-2.06-.94-.94-2.06-.94 2.06-2.06.94z\"/><path d=\"M17.41 7.96l-1.37-1.37c-.4-.4-.92-.59-1.43-.59-.52 0-1.04.2-1.43.59L10.3 9.45l-7.72 7.72c-.78.78-.78 2.05 0 2.83L4 21.41c.39.39.9.59 1.41.59.51 0 1.02-.2 1.41-.59l7.78-7.78 2.81-2.81c.8-.78.8-2.07 0-2.86zM5.41 20L4 18.59l7.72-7.72 1.47 1.35L5.41 20z\"/>\n",
              "  </svg>\n",
              "      </button>\n",
              "      \n",
              "  <style>\n",
              "    .colab-df-container {\n",
              "      display:flex;\n",
              "      flex-wrap:wrap;\n",
              "      gap: 12px;\n",
              "    }\n",
              "\n",
              "    .colab-df-convert {\n",
              "      background-color: #E8F0FE;\n",
              "      border: none;\n",
              "      border-radius: 50%;\n",
              "      cursor: pointer;\n",
              "      display: none;\n",
              "      fill: #1967D2;\n",
              "      height: 32px;\n",
              "      padding: 0 0 0 0;\n",
              "      width: 32px;\n",
              "    }\n",
              "\n",
              "    .colab-df-convert:hover {\n",
              "      background-color: #E2EBFA;\n",
              "      box-shadow: 0px 1px 2px rgba(60, 64, 67, 0.3), 0px 1px 3px 1px rgba(60, 64, 67, 0.15);\n",
              "      fill: #174EA6;\n",
              "    }\n",
              "\n",
              "    [theme=dark] .colab-df-convert {\n",
              "      background-color: #3B4455;\n",
              "      fill: #D2E3FC;\n",
              "    }\n",
              "\n",
              "    [theme=dark] .colab-df-convert:hover {\n",
              "      background-color: #434B5C;\n",
              "      box-shadow: 0px 1px 3px 1px rgba(0, 0, 0, 0.15);\n",
              "      filter: drop-shadow(0px 1px 2px rgba(0, 0, 0, 0.3));\n",
              "      fill: #FFFFFF;\n",
              "    }\n",
              "  </style>\n",
              "\n",
              "      <script>\n",
              "        const buttonEl =\n",
              "          document.querySelector('#df-73955e97-9b1e-4238-a170-ff272e1a5762 button.colab-df-convert');\n",
              "        buttonEl.style.display =\n",
              "          google.colab.kernel.accessAllowed ? 'block' : 'none';\n",
              "\n",
              "        async function convertToInteractive(key) {\n",
              "          const element = document.querySelector('#df-73955e97-9b1e-4238-a170-ff272e1a5762');\n",
              "          const dataTable =\n",
              "            await google.colab.kernel.invokeFunction('convertToInteractive',\n",
              "                                                     [key], {});\n",
              "          if (!dataTable) return;\n",
              "\n",
              "          const docLinkHtml = 'Like what you see? Visit the ' +\n",
              "            '<a target=\"_blank\" href=https://colab.research.google.com/notebooks/data_table.ipynb>data table notebook</a>'\n",
              "            + ' to learn more about interactive tables.';\n",
              "          element.innerHTML = '';\n",
              "          dataTable['output_type'] = 'display_data';\n",
              "          await google.colab.output.renderOutput(dataTable, element);\n",
              "          const docLink = document.createElement('div');\n",
              "          docLink.innerHTML = docLinkHtml;\n",
              "          element.appendChild(docLink);\n",
              "        }\n",
              "      </script>\n",
              "    </div>\n",
              "  </div>\n",
              "  "
            ]
          },
          "metadata": {},
          "execution_count": 17
        }
      ]
    },
    {
      "cell_type": "code",
      "source": [
        "rating=df['Rating']"
      ],
      "metadata": {
        "id": "eTHpTWrPa3CQ"
      },
      "execution_count": null,
      "outputs": []
    },
    {
      "cell_type": "code",
      "source": [
        "len(rating)"
      ],
      "metadata": {
        "colab": {
          "base_uri": "https://localhost:8080/"
        },
        "id": "O1bGT0AXbBXM",
        "outputId": "79d20904-a214-43d4-c960-766dc6dcb779"
      },
      "execution_count": null,
      "outputs": [
        {
          "output_type": "execute_result",
          "data": {
            "text/plain": [
              "983"
            ]
          },
          "metadata": {},
          "execution_count": 20
        }
      ]
    },
    {
      "cell_type": "code",
      "source": [
        "rate=0\n",
        "count=0\n",
        "for i in rating:\n",
        "  if(i!=\"Nan\"):\n",
        "    rate+=float(i)\n",
        "  else:\n",
        "    count+=1"
      ],
      "metadata": {
        "id": "euAhe4c7bG6H"
      },
      "execution_count": null,
      "outputs": []
    },
    {
      "cell_type": "code",
      "source": [
        "count"
      ],
      "metadata": {
        "colab": {
          "base_uri": "https://localhost:8080/"
        },
        "id": "4B0VzDPCb-V8",
        "outputId": "482ee40a-aef5-4d7d-a8bd-5b2765f8809b"
      },
      "execution_count": null,
      "outputs": [
        {
          "output_type": "execute_result",
          "data": {
            "text/plain": [
              "27"
            ]
          },
          "metadata": {},
          "execution_count": 25
        }
      ]
    },
    {
      "cell_type": "code",
      "source": [
        "rate=rate/len(rating)"
      ],
      "metadata": {
        "id": "ZlJcCEdUcD2l"
      },
      "execution_count": null,
      "outputs": []
    },
    {
      "cell_type": "code",
      "source": [
        "for i in range(len(rating)):\n",
        "  if(rating[i]==\"Nan\"):\n",
        "    rating[i]=rate"
      ],
      "metadata": {
        "colab": {
          "base_uri": "https://localhost:8080/"
        },
        "id": "9LN2tf7De352",
        "outputId": "909946ec-3e7d-4ffa-8c12-117cd7fcbe24"
      },
      "execution_count": null,
      "outputs": [
        {
          "output_type": "stream",
          "name": "stderr",
          "text": [
            "/usr/local/lib/python3.7/dist-packages/ipykernel_launcher.py:3: SettingWithCopyWarning: \n",
            "A value is trying to be set on a copy of a slice from a DataFrame\n",
            "\n",
            "See the caveats in the documentation: https://pandas.pydata.org/pandas-docs/stable/user_guide/indexing.html#returning-a-view-versus-a-copy\n",
            "  This is separate from the ipykernel package so we can avoid doing imports until\n"
          ]
        }
      ]
    },
    {
      "cell_type": "code",
      "source": [
        "count=0\n",
        "for i in rating:\n",
        "  if(i!=\"Nan\"):\n",
        "    rate+=float(i)\n",
        "  else:\n",
        "    count+=1"
      ],
      "metadata": {
        "id": "d490RIEifEOR"
      },
      "execution_count": null,
      "outputs": []
    },
    {
      "cell_type": "code",
      "source": [
        "count"
      ],
      "metadata": {
        "colab": {
          "base_uri": "https://localhost:8080/"
        },
        "id": "jiBfkAvCfFp3",
        "outputId": "79c309f8-848a-4faf-8db3-91a9a698d9c7"
      },
      "execution_count": null,
      "outputs": [
        {
          "output_type": "execute_result",
          "data": {
            "text/plain": [
              "0"
            ]
          },
          "metadata": {},
          "execution_count": 29
        }
      ]
    },
    {
      "cell_type": "code",
      "source": [
        "df['Rating']=rating"
      ],
      "metadata": {
        "id": "M1CgTtY-fGf7"
      },
      "execution_count": null,
      "outputs": []
    },
    {
      "cell_type": "code",
      "source": [
        "screen=df['Screen']"
      ],
      "metadata": {
        "id": "YteniMIOfWBU"
      },
      "execution_count": null,
      "outputs": []
    },
    {
      "cell_type": "code",
      "source": [
        "sc=[]\n",
        "for i in screen:\n",
        "  try:\n",
        "    sc.append(i.split(\"(\")[0].split(\" \")[0])\n",
        "  except:\n",
        "    sc.append(\"NaN\")"
      ],
      "metadata": {
        "id": "KLV-yfumglBo"
      },
      "execution_count": null,
      "outputs": []
    },
    {
      "cell_type": "code",
      "source": [
        "avg=0\n",
        "for i in range(len(sc)):\n",
        "  try:\n",
        "    avg+=sc[i]\n",
        "  except:\n",
        "    avg+=0"
      ],
      "metadata": {
        "id": "ePfHaihKhFDv"
      },
      "execution_count": null,
      "outputs": []
    },
    {
      "cell_type": "code",
      "source": [
        "screen=[]\n",
        "for i in range(len(sc)):\n",
        "  try:\n",
        "    screen.append(float(sc[i]))\n",
        "  except:\n",
        "    screen.append(avg/len(sc))"
      ],
      "metadata": {
        "id": "r6GDArN7hGgq"
      },
      "execution_count": null,
      "outputs": []
    },
    {
      "cell_type": "code",
      "source": [
        "df['Screen']=screen"
      ],
      "metadata": {
        "id": "BdCLfzMT0ALa"
      },
      "execution_count": null,
      "outputs": []
    },
    {
      "cell_type": "code",
      "source": [
        "df.info()"
      ],
      "metadata": {
        "colab": {
          "base_uri": "https://localhost:8080/"
        },
        "id": "oR2o_1ll0Bs7",
        "outputId": "a7969a5d-7726-4004-d3be-c1acac89edf1"
      },
      "execution_count": null,
      "outputs": [
        {
          "output_type": "stream",
          "name": "stdout",
          "text": [
            "<class 'pandas.core.frame.DataFrame'>\n",
            "RangeIndex: 983 entries, 0 to 982\n",
            "Data columns (total 7 columns):\n",
            " #   Column   Non-Null Count  Dtype  \n",
            "---  ------   --------------  -----  \n",
            " 0   Name     983 non-null    object \n",
            " 1   Price    983 non-null    object \n",
            " 2   Rating   983 non-null    object \n",
            " 3   Memory   983 non-null    object \n",
            " 4   Battery  983 non-null    int64  \n",
            " 5   Camera   983 non-null    object \n",
            " 6   Screen   983 non-null    float64\n",
            "dtypes: float64(1), int64(1), object(5)\n",
            "memory usage: 53.9+ KB\n"
          ]
        }
      ]
    },
    {
      "cell_type": "code",
      "source": [
        "rating=df['Rating']"
      ],
      "metadata": {
        "id": "uv25TVZj0Vbi"
      },
      "execution_count": null,
      "outputs": []
    },
    {
      "cell_type": "code",
      "source": [
        "rating = [float(i) for i in rating]"
      ],
      "metadata": {
        "id": "wBYsnj7V1es6"
      },
      "execution_count": null,
      "outputs": []
    },
    {
      "cell_type": "code",
      "source": [
        "df['Rating'] = rating"
      ],
      "metadata": {
        "id": "l14cxYU21jYD"
      },
      "execution_count": null,
      "outputs": []
    },
    {
      "cell_type": "code",
      "source": [
        "df.info()"
      ],
      "metadata": {
        "colab": {
          "base_uri": "https://localhost:8080/"
        },
        "id": "XFG8DJDY1nSc",
        "outputId": "6f34a4b3-630f-4da8-f7e4-c2acccf33f0a"
      },
      "execution_count": null,
      "outputs": [
        {
          "output_type": "stream",
          "name": "stdout",
          "text": [
            "<class 'pandas.core.frame.DataFrame'>\n",
            "RangeIndex: 983 entries, 0 to 982\n",
            "Data columns (total 7 columns):\n",
            " #   Column   Non-Null Count  Dtype  \n",
            "---  ------   --------------  -----  \n",
            " 0   Name     983 non-null    object \n",
            " 1   Price    983 non-null    object \n",
            " 2   Rating   983 non-null    float64\n",
            " 3   Memory   983 non-null    object \n",
            " 4   Battery  983 non-null    int64  \n",
            " 5   Camera   983 non-null    object \n",
            " 6   Screen   983 non-null    float64\n",
            "dtypes: float64(2), int64(1), object(4)\n",
            "memory usage: 53.9+ KB\n"
          ]
        }
      ]
    },
    {
      "cell_type": "code",
      "source": [
        "price = df['Price']\n",
        "price = [int(i.replace(\",\",\"\")) for i in price]"
      ],
      "metadata": {
        "id": "1ftvPL7A1pCV"
      },
      "execution_count": null,
      "outputs": []
    },
    {
      "cell_type": "code",
      "source": [
        "df['Price'] = price"
      ],
      "metadata": {
        "id": "vK5tGYJ011yk"
      },
      "execution_count": null,
      "outputs": []
    },
    {
      "cell_type": "code",
      "source": [
        "Memory=df['Memory']"
      ],
      "metadata": {
        "id": "7tgAM9Sk3oiI"
      },
      "execution_count": null,
      "outputs": []
    },
    {
      "cell_type": "code",
      "source": [
        "Memory[0].split(\"|\")"
      ],
      "metadata": {
        "colab": {
          "base_uri": "https://localhost:8080/"
        },
        "id": "UOKaVu9PD3KK",
        "outputId": "dd1eb785-5177-487a-fe50-8941264b5bed"
      },
      "execution_count": null,
      "outputs": [
        {
          "output_type": "execute_result",
          "data": {
            "text/plain": [
              "['4 GB RAM ', ' 64 GB ROM ', ' Expandable Upto 1 TB']"
            ]
          },
          "metadata": {},
          "execution_count": 44
        }
      ]
    },
    {
      "cell_type": "code",
      "source": [
        "rom=[]\n",
        "for i in Memory:\n",
        "  try:\n",
        "    c=i.split(\"|\")\n",
        "    if(len(c)==3):\n",
        "      rom.append(int(c[1].split(\" \")[1]))\n",
        "    elif(len(c)==2):\n",
        "      rom.append(int(c[1].split(\" \")[1]))\n",
        "    else:\n",
        "      rom.append(int(c[0].split(\" \")[0]))\n",
        "  except:\n",
        "    rom.append(32)"
      ],
      "metadata": {
        "id": "Qvh6Ljc5D591"
      },
      "execution_count": null,
      "outputs": []
    },
    {
      "cell_type": "code",
      "source": [
        "df['ROM'] = rom"
      ],
      "metadata": {
        "id": "C_cye1ITGLl7"
      },
      "execution_count": null,
      "outputs": []
    },
    {
      "cell_type": "code",
      "source": [
        "df.drop(['Memory'],axis=1,inplace=True)\n"
      ],
      "metadata": {
        "id": "ciA9qiXPGi8K"
      },
      "execution_count": null,
      "outputs": []
    },
    {
      "cell_type": "code",
      "source": [
        "\n",
        "\n",
        "df.info()"
      ],
      "metadata": {
        "colab": {
          "base_uri": "https://localhost:8080/"
        },
        "id": "IkaF1kbLG-Y1",
        "outputId": "1c885bcf-2cbd-445d-c1ff-8ef406da3bd9"
      },
      "execution_count": null,
      "outputs": [
        {
          "output_type": "stream",
          "name": "stdout",
          "text": [
            "<class 'pandas.core.frame.DataFrame'>\n",
            "RangeIndex: 983 entries, 0 to 982\n",
            "Data columns (total 7 columns):\n",
            " #   Column   Non-Null Count  Dtype  \n",
            "---  ------   --------------  -----  \n",
            " 0   Name     983 non-null    object \n",
            " 1   Price    983 non-null    int64  \n",
            " 2   Rating   983 non-null    float64\n",
            " 3   Battery  983 non-null    int64  \n",
            " 4   Camera   983 non-null    object \n",
            " 5   Screen   983 non-null    float64\n",
            " 6   ROM      983 non-null    int64  \n",
            "dtypes: float64(2), int64(3), object(2)\n",
            "memory usage: 53.9+ KB\n"
          ]
        }
      ]
    },
    {
      "cell_type": "code",
      "source": [
        "df.to_csv(\"Flipkart Mobiles Dataset Cleaned.csv\")"
      ],
      "metadata": {
        "id": "5UGH5-1CTZr9"
      },
      "execution_count": null,
      "outputs": []
    },
    {
      "cell_type": "code",
      "source": [
        "df.drop(['Name'],axis=1)"
      ],
      "metadata": {
        "id": "hRFAhf8jUFiL",
        "colab": {
          "base_uri": "https://localhost:8080/",
          "height": 424
        },
        "outputId": "83ed9c34-4f35-49be-edef-e7526aa7ca11"
      },
      "execution_count": null,
      "outputs": [
        {
          "output_type": "execute_result",
          "data": {
            "text/plain": [
              "     Price  Rating  Battery                                      Camera  \\\n",
              "0     9499     4.4     6000         50MP + 5MP + 2MP | 8MP Front Camera   \n",
              "1     9499     4.4     6000         50MP + 5MP + 2MP | 8MP Front Camera   \n",
              "2     9499     4.4     6000         50MP + 5MP + 2MP | 8MP Front Camera   \n",
              "3     7599     4.4     5000         13MP Rear Camera | 5MP Front Camera   \n",
              "4    14499     4.3     5000         50MP + 8MP + 2MP | 8MP Front Camera   \n",
              "..     ...     ...      ...                                         ...   \n",
              "978   9990     3.7     5000        13MP Rear Camera | 10MP Front Camera   \n",
              "979  14450     4.3     5020  48MP + 8MP + 2MP + 2MP | 13MP Front Camera   \n",
              "980  60990     4.6     3879             12MP + 12MP | 12MP Front Camera   \n",
              "981  15499     4.3     6000   48MP + 8MP + 2MP + 2MP | 8MP Front Camera   \n",
              "982   1410     4.1     1000                           0.3MP Rear Camera   \n",
              "\n",
              "     Screen  ROM  \n",
              "0     16.76   64  \n",
              "1     16.76   64  \n",
              "2     16.76   64  \n",
              "3     16.59   64  \n",
              "4     16.76  128  \n",
              "..      ...  ...  \n",
              "978   15.90   64  \n",
              "979   16.59  128  \n",
              "980   15.49  128  \n",
              "981   16.59  128  \n",
              "982    6.10   24  \n",
              "\n",
              "[983 rows x 6 columns]"
            ],
            "text/html": [
              "\n",
              "  <div id=\"df-1f95f2b1-cc8b-48a9-8f36-2cdf6c147f02\">\n",
              "    <div class=\"colab-df-container\">\n",
              "      <div>\n",
              "<style scoped>\n",
              "    .dataframe tbody tr th:only-of-type {\n",
              "        vertical-align: middle;\n",
              "    }\n",
              "\n",
              "    .dataframe tbody tr th {\n",
              "        vertical-align: top;\n",
              "    }\n",
              "\n",
              "    .dataframe thead th {\n",
              "        text-align: right;\n",
              "    }\n",
              "</style>\n",
              "<table border=\"1\" class=\"dataframe\">\n",
              "  <thead>\n",
              "    <tr style=\"text-align: right;\">\n",
              "      <th></th>\n",
              "      <th>Price</th>\n",
              "      <th>Rating</th>\n",
              "      <th>Battery</th>\n",
              "      <th>Camera</th>\n",
              "      <th>Screen</th>\n",
              "      <th>ROM</th>\n",
              "    </tr>\n",
              "  </thead>\n",
              "  <tbody>\n",
              "    <tr>\n",
              "      <th>0</th>\n",
              "      <td>9499</td>\n",
              "      <td>4.4</td>\n",
              "      <td>6000</td>\n",
              "      <td>50MP + 5MP + 2MP | 8MP Front Camera</td>\n",
              "      <td>16.76</td>\n",
              "      <td>64</td>\n",
              "    </tr>\n",
              "    <tr>\n",
              "      <th>1</th>\n",
              "      <td>9499</td>\n",
              "      <td>4.4</td>\n",
              "      <td>6000</td>\n",
              "      <td>50MP + 5MP + 2MP | 8MP Front Camera</td>\n",
              "      <td>16.76</td>\n",
              "      <td>64</td>\n",
              "    </tr>\n",
              "    <tr>\n",
              "      <th>2</th>\n",
              "      <td>9499</td>\n",
              "      <td>4.4</td>\n",
              "      <td>6000</td>\n",
              "      <td>50MP + 5MP + 2MP | 8MP Front Camera</td>\n",
              "      <td>16.76</td>\n",
              "      <td>64</td>\n",
              "    </tr>\n",
              "    <tr>\n",
              "      <th>3</th>\n",
              "      <td>7599</td>\n",
              "      <td>4.4</td>\n",
              "      <td>5000</td>\n",
              "      <td>13MP Rear Camera | 5MP Front Camera</td>\n",
              "      <td>16.59</td>\n",
              "      <td>64</td>\n",
              "    </tr>\n",
              "    <tr>\n",
              "      <th>4</th>\n",
              "      <td>14499</td>\n",
              "      <td>4.3</td>\n",
              "      <td>5000</td>\n",
              "      <td>50MP + 8MP + 2MP | 8MP Front Camera</td>\n",
              "      <td>16.76</td>\n",
              "      <td>128</td>\n",
              "    </tr>\n",
              "    <tr>\n",
              "      <th>...</th>\n",
              "      <td>...</td>\n",
              "      <td>...</td>\n",
              "      <td>...</td>\n",
              "      <td>...</td>\n",
              "      <td>...</td>\n",
              "      <td>...</td>\n",
              "    </tr>\n",
              "    <tr>\n",
              "      <th>978</th>\n",
              "      <td>9990</td>\n",
              "      <td>3.7</td>\n",
              "      <td>5000</td>\n",
              "      <td>13MP Rear Camera | 10MP Front Camera</td>\n",
              "      <td>15.90</td>\n",
              "      <td>64</td>\n",
              "    </tr>\n",
              "    <tr>\n",
              "      <th>979</th>\n",
              "      <td>14450</td>\n",
              "      <td>4.3</td>\n",
              "      <td>5020</td>\n",
              "      <td>48MP + 8MP + 2MP + 2MP | 13MP Front Camera</td>\n",
              "      <td>16.59</td>\n",
              "      <td>128</td>\n",
              "    </tr>\n",
              "    <tr>\n",
              "      <th>980</th>\n",
              "      <td>60990</td>\n",
              "      <td>4.6</td>\n",
              "      <td>3879</td>\n",
              "      <td>12MP + 12MP | 12MP Front Camera</td>\n",
              "      <td>15.49</td>\n",
              "      <td>128</td>\n",
              "    </tr>\n",
              "    <tr>\n",
              "      <th>981</th>\n",
              "      <td>15499</td>\n",
              "      <td>4.3</td>\n",
              "      <td>6000</td>\n",
              "      <td>48MP + 8MP + 2MP + 2MP | 8MP Front Camera</td>\n",
              "      <td>16.59</td>\n",
              "      <td>128</td>\n",
              "    </tr>\n",
              "    <tr>\n",
              "      <th>982</th>\n",
              "      <td>1410</td>\n",
              "      <td>4.1</td>\n",
              "      <td>1000</td>\n",
              "      <td>0.3MP Rear Camera</td>\n",
              "      <td>6.10</td>\n",
              "      <td>24</td>\n",
              "    </tr>\n",
              "  </tbody>\n",
              "</table>\n",
              "<p>983 rows × 6 columns</p>\n",
              "</div>\n",
              "      <button class=\"colab-df-convert\" onclick=\"convertToInteractive('df-1f95f2b1-cc8b-48a9-8f36-2cdf6c147f02')\"\n",
              "              title=\"Convert this dataframe to an interactive table.\"\n",
              "              style=\"display:none;\">\n",
              "        \n",
              "  <svg xmlns=\"http://www.w3.org/2000/svg\" height=\"24px\"viewBox=\"0 0 24 24\"\n",
              "       width=\"24px\">\n",
              "    <path d=\"M0 0h24v24H0V0z\" fill=\"none\"/>\n",
              "    <path d=\"M18.56 5.44l.94 2.06.94-2.06 2.06-.94-2.06-.94-.94-2.06-.94 2.06-2.06.94zm-11 1L8.5 8.5l.94-2.06 2.06-.94-2.06-.94L8.5 2.5l-.94 2.06-2.06.94zm10 10l.94 2.06.94-2.06 2.06-.94-2.06-.94-.94-2.06-.94 2.06-2.06.94z\"/><path d=\"M17.41 7.96l-1.37-1.37c-.4-.4-.92-.59-1.43-.59-.52 0-1.04.2-1.43.59L10.3 9.45l-7.72 7.72c-.78.78-.78 2.05 0 2.83L4 21.41c.39.39.9.59 1.41.59.51 0 1.02-.2 1.41-.59l7.78-7.78 2.81-2.81c.8-.78.8-2.07 0-2.86zM5.41 20L4 18.59l7.72-7.72 1.47 1.35L5.41 20z\"/>\n",
              "  </svg>\n",
              "      </button>\n",
              "      \n",
              "  <style>\n",
              "    .colab-df-container {\n",
              "      display:flex;\n",
              "      flex-wrap:wrap;\n",
              "      gap: 12px;\n",
              "    }\n",
              "\n",
              "    .colab-df-convert {\n",
              "      background-color: #E8F0FE;\n",
              "      border: none;\n",
              "      border-radius: 50%;\n",
              "      cursor: pointer;\n",
              "      display: none;\n",
              "      fill: #1967D2;\n",
              "      height: 32px;\n",
              "      padding: 0 0 0 0;\n",
              "      width: 32px;\n",
              "    }\n",
              "\n",
              "    .colab-df-convert:hover {\n",
              "      background-color: #E2EBFA;\n",
              "      box-shadow: 0px 1px 2px rgba(60, 64, 67, 0.3), 0px 1px 3px 1px rgba(60, 64, 67, 0.15);\n",
              "      fill: #174EA6;\n",
              "    }\n",
              "\n",
              "    [theme=dark] .colab-df-convert {\n",
              "      background-color: #3B4455;\n",
              "      fill: #D2E3FC;\n",
              "    }\n",
              "\n",
              "    [theme=dark] .colab-df-convert:hover {\n",
              "      background-color: #434B5C;\n",
              "      box-shadow: 0px 1px 3px 1px rgba(0, 0, 0, 0.15);\n",
              "      filter: drop-shadow(0px 1px 2px rgba(0, 0, 0, 0.3));\n",
              "      fill: #FFFFFF;\n",
              "    }\n",
              "  </style>\n",
              "\n",
              "      <script>\n",
              "        const buttonEl =\n",
              "          document.querySelector('#df-1f95f2b1-cc8b-48a9-8f36-2cdf6c147f02 button.colab-df-convert');\n",
              "        buttonEl.style.display =\n",
              "          google.colab.kernel.accessAllowed ? 'block' : 'none';\n",
              "\n",
              "        async function convertToInteractive(key) {\n",
              "          const element = document.querySelector('#df-1f95f2b1-cc8b-48a9-8f36-2cdf6c147f02');\n",
              "          const dataTable =\n",
              "            await google.colab.kernel.invokeFunction('convertToInteractive',\n",
              "                                                     [key], {});\n",
              "          if (!dataTable) return;\n",
              "\n",
              "          const docLinkHtml = 'Like what you see? Visit the ' +\n",
              "            '<a target=\"_blank\" href=https://colab.research.google.com/notebooks/data_table.ipynb>data table notebook</a>'\n",
              "            + ' to learn more about interactive tables.';\n",
              "          element.innerHTML = '';\n",
              "          dataTable['output_type'] = 'display_data';\n",
              "          await google.colab.output.renderOutput(dataTable, element);\n",
              "          const docLink = document.createElement('div');\n",
              "          docLink.innerHTML = docLinkHtml;\n",
              "          element.appendChild(docLink);\n",
              "        }\n",
              "      </script>\n",
              "    </div>\n",
              "  </div>\n",
              "  "
            ]
          },
          "metadata": {},
          "execution_count": 50
        }
      ]
    },
    {
      "cell_type": "code",
      "source": [
        "df"
      ],
      "metadata": {
        "colab": {
          "base_uri": "https://localhost:8080/",
          "height": 424
        },
        "id": "RqgHDxL8SFCf",
        "outputId": "9338389a-6926-4695-9bdc-e33b853dae1b"
      },
      "execution_count": null,
      "outputs": [
        {
          "output_type": "execute_result",
          "data": {
            "text/plain": [
              "                                           Name  Price  Rating  Battery  \\\n",
              "0    SAMSUNG Galaxy F13 (Nightsky Green, 64 GB)   9499     4.4     6000   \n",
              "1    SAMSUNG Galaxy F13 (Sunrise Copper, 64 GB)   9499     4.4     6000   \n",
              "2    SAMSUNG Galaxy F13 (Waterfall Blue, 64 GB)   9499     4.4     6000   \n",
              "3          REDMI 9i Sport (Carbon Black, 64 GB)   7599     4.4     5000   \n",
              "4     SAMSUNG Galaxy F23 5G (Aqua Blue, 128 GB)  14499     4.3     5000   \n",
              "..                                          ...    ...     ...      ...   \n",
              "978          Maplin MAP3 (Phantom Black, 64 GB)   9990     3.7     5000   \n",
              "979          REDMI Note 9 (Scarlet Red, 128 GB)  14450     4.3     5020   \n",
              "980             APPLE iPhone 12 (Black, 128 GB)  60990     4.6     3879   \n",
              "981           REDMI 9 Power (Fiery Red, 128 GB)  15499     4.3     6000   \n",
              "982                                     LAVA A5   1410     4.1     1000   \n",
              "\n",
              "                                         Camera  Screen  ROM  \n",
              "0           50MP + 5MP + 2MP | 8MP Front Camera   16.76   64  \n",
              "1           50MP + 5MP + 2MP | 8MP Front Camera   16.76   64  \n",
              "2           50MP + 5MP + 2MP | 8MP Front Camera   16.76   64  \n",
              "3           13MP Rear Camera | 5MP Front Camera   16.59   64  \n",
              "4           50MP + 8MP + 2MP | 8MP Front Camera   16.76  128  \n",
              "..                                          ...     ...  ...  \n",
              "978        13MP Rear Camera | 10MP Front Camera   15.90   64  \n",
              "979  48MP + 8MP + 2MP + 2MP | 13MP Front Camera   16.59  128  \n",
              "980             12MP + 12MP | 12MP Front Camera   15.49  128  \n",
              "981   48MP + 8MP + 2MP + 2MP | 8MP Front Camera   16.59  128  \n",
              "982                           0.3MP Rear Camera    6.10   24  \n",
              "\n",
              "[983 rows x 7 columns]"
            ],
            "text/html": [
              "\n",
              "  <div id=\"df-f6aff3c4-d135-437e-8419-4b00b5799a82\">\n",
              "    <div class=\"colab-df-container\">\n",
              "      <div>\n",
              "<style scoped>\n",
              "    .dataframe tbody tr th:only-of-type {\n",
              "        vertical-align: middle;\n",
              "    }\n",
              "\n",
              "    .dataframe tbody tr th {\n",
              "        vertical-align: top;\n",
              "    }\n",
              "\n",
              "    .dataframe thead th {\n",
              "        text-align: right;\n",
              "    }\n",
              "</style>\n",
              "<table border=\"1\" class=\"dataframe\">\n",
              "  <thead>\n",
              "    <tr style=\"text-align: right;\">\n",
              "      <th></th>\n",
              "      <th>Name</th>\n",
              "      <th>Price</th>\n",
              "      <th>Rating</th>\n",
              "      <th>Battery</th>\n",
              "      <th>Camera</th>\n",
              "      <th>Screen</th>\n",
              "      <th>ROM</th>\n",
              "    </tr>\n",
              "  </thead>\n",
              "  <tbody>\n",
              "    <tr>\n",
              "      <th>0</th>\n",
              "      <td>SAMSUNG Galaxy F13 (Nightsky Green, 64 GB)</td>\n",
              "      <td>9499</td>\n",
              "      <td>4.4</td>\n",
              "      <td>6000</td>\n",
              "      <td>50MP + 5MP + 2MP | 8MP Front Camera</td>\n",
              "      <td>16.76</td>\n",
              "      <td>64</td>\n",
              "    </tr>\n",
              "    <tr>\n",
              "      <th>1</th>\n",
              "      <td>SAMSUNG Galaxy F13 (Sunrise Copper, 64 GB)</td>\n",
              "      <td>9499</td>\n",
              "      <td>4.4</td>\n",
              "      <td>6000</td>\n",
              "      <td>50MP + 5MP + 2MP | 8MP Front Camera</td>\n",
              "      <td>16.76</td>\n",
              "      <td>64</td>\n",
              "    </tr>\n",
              "    <tr>\n",
              "      <th>2</th>\n",
              "      <td>SAMSUNG Galaxy F13 (Waterfall Blue, 64 GB)</td>\n",
              "      <td>9499</td>\n",
              "      <td>4.4</td>\n",
              "      <td>6000</td>\n",
              "      <td>50MP + 5MP + 2MP | 8MP Front Camera</td>\n",
              "      <td>16.76</td>\n",
              "      <td>64</td>\n",
              "    </tr>\n",
              "    <tr>\n",
              "      <th>3</th>\n",
              "      <td>REDMI 9i Sport (Carbon Black, 64 GB)</td>\n",
              "      <td>7599</td>\n",
              "      <td>4.4</td>\n",
              "      <td>5000</td>\n",
              "      <td>13MP Rear Camera | 5MP Front Camera</td>\n",
              "      <td>16.59</td>\n",
              "      <td>64</td>\n",
              "    </tr>\n",
              "    <tr>\n",
              "      <th>4</th>\n",
              "      <td>SAMSUNG Galaxy F23 5G (Aqua Blue, 128 GB)</td>\n",
              "      <td>14499</td>\n",
              "      <td>4.3</td>\n",
              "      <td>5000</td>\n",
              "      <td>50MP + 8MP + 2MP | 8MP Front Camera</td>\n",
              "      <td>16.76</td>\n",
              "      <td>128</td>\n",
              "    </tr>\n",
              "    <tr>\n",
              "      <th>...</th>\n",
              "      <td>...</td>\n",
              "      <td>...</td>\n",
              "      <td>...</td>\n",
              "      <td>...</td>\n",
              "      <td>...</td>\n",
              "      <td>...</td>\n",
              "      <td>...</td>\n",
              "    </tr>\n",
              "    <tr>\n",
              "      <th>978</th>\n",
              "      <td>Maplin MAP3 (Phantom Black, 64 GB)</td>\n",
              "      <td>9990</td>\n",
              "      <td>3.7</td>\n",
              "      <td>5000</td>\n",
              "      <td>13MP Rear Camera | 10MP Front Camera</td>\n",
              "      <td>15.90</td>\n",
              "      <td>64</td>\n",
              "    </tr>\n",
              "    <tr>\n",
              "      <th>979</th>\n",
              "      <td>REDMI Note 9 (Scarlet Red, 128 GB)</td>\n",
              "      <td>14450</td>\n",
              "      <td>4.3</td>\n",
              "      <td>5020</td>\n",
              "      <td>48MP + 8MP + 2MP + 2MP | 13MP Front Camera</td>\n",
              "      <td>16.59</td>\n",
              "      <td>128</td>\n",
              "    </tr>\n",
              "    <tr>\n",
              "      <th>980</th>\n",
              "      <td>APPLE iPhone 12 (Black, 128 GB)</td>\n",
              "      <td>60990</td>\n",
              "      <td>4.6</td>\n",
              "      <td>3879</td>\n",
              "      <td>12MP + 12MP | 12MP Front Camera</td>\n",
              "      <td>15.49</td>\n",
              "      <td>128</td>\n",
              "    </tr>\n",
              "    <tr>\n",
              "      <th>981</th>\n",
              "      <td>REDMI 9 Power (Fiery Red, 128 GB)</td>\n",
              "      <td>15499</td>\n",
              "      <td>4.3</td>\n",
              "      <td>6000</td>\n",
              "      <td>48MP + 8MP + 2MP + 2MP | 8MP Front Camera</td>\n",
              "      <td>16.59</td>\n",
              "      <td>128</td>\n",
              "    </tr>\n",
              "    <tr>\n",
              "      <th>982</th>\n",
              "      <td>LAVA A5</td>\n",
              "      <td>1410</td>\n",
              "      <td>4.1</td>\n",
              "      <td>1000</td>\n",
              "      <td>0.3MP Rear Camera</td>\n",
              "      <td>6.10</td>\n",
              "      <td>24</td>\n",
              "    </tr>\n",
              "  </tbody>\n",
              "</table>\n",
              "<p>983 rows × 7 columns</p>\n",
              "</div>\n",
              "      <button class=\"colab-df-convert\" onclick=\"convertToInteractive('df-f6aff3c4-d135-437e-8419-4b00b5799a82')\"\n",
              "              title=\"Convert this dataframe to an interactive table.\"\n",
              "              style=\"display:none;\">\n",
              "        \n",
              "  <svg xmlns=\"http://www.w3.org/2000/svg\" height=\"24px\"viewBox=\"0 0 24 24\"\n",
              "       width=\"24px\">\n",
              "    <path d=\"M0 0h24v24H0V0z\" fill=\"none\"/>\n",
              "    <path d=\"M18.56 5.44l.94 2.06.94-2.06 2.06-.94-2.06-.94-.94-2.06-.94 2.06-2.06.94zm-11 1L8.5 8.5l.94-2.06 2.06-.94-2.06-.94L8.5 2.5l-.94 2.06-2.06.94zm10 10l.94 2.06.94-2.06 2.06-.94-2.06-.94-.94-2.06-.94 2.06-2.06.94z\"/><path d=\"M17.41 7.96l-1.37-1.37c-.4-.4-.92-.59-1.43-.59-.52 0-1.04.2-1.43.59L10.3 9.45l-7.72 7.72c-.78.78-.78 2.05 0 2.83L4 21.41c.39.39.9.59 1.41.59.51 0 1.02-.2 1.41-.59l7.78-7.78 2.81-2.81c.8-.78.8-2.07 0-2.86zM5.41 20L4 18.59l7.72-7.72 1.47 1.35L5.41 20z\"/>\n",
              "  </svg>\n",
              "      </button>\n",
              "      \n",
              "  <style>\n",
              "    .colab-df-container {\n",
              "      display:flex;\n",
              "      flex-wrap:wrap;\n",
              "      gap: 12px;\n",
              "    }\n",
              "\n",
              "    .colab-df-convert {\n",
              "      background-color: #E8F0FE;\n",
              "      border: none;\n",
              "      border-radius: 50%;\n",
              "      cursor: pointer;\n",
              "      display: none;\n",
              "      fill: #1967D2;\n",
              "      height: 32px;\n",
              "      padding: 0 0 0 0;\n",
              "      width: 32px;\n",
              "    }\n",
              "\n",
              "    .colab-df-convert:hover {\n",
              "      background-color: #E2EBFA;\n",
              "      box-shadow: 0px 1px 2px rgba(60, 64, 67, 0.3), 0px 1px 3px 1px rgba(60, 64, 67, 0.15);\n",
              "      fill: #174EA6;\n",
              "    }\n",
              "\n",
              "    [theme=dark] .colab-df-convert {\n",
              "      background-color: #3B4455;\n",
              "      fill: #D2E3FC;\n",
              "    }\n",
              "\n",
              "    [theme=dark] .colab-df-convert:hover {\n",
              "      background-color: #434B5C;\n",
              "      box-shadow: 0px 1px 3px 1px rgba(0, 0, 0, 0.15);\n",
              "      filter: drop-shadow(0px 1px 2px rgba(0, 0, 0, 0.3));\n",
              "      fill: #FFFFFF;\n",
              "    }\n",
              "  </style>\n",
              "\n",
              "      <script>\n",
              "        const buttonEl =\n",
              "          document.querySelector('#df-f6aff3c4-d135-437e-8419-4b00b5799a82 button.colab-df-convert');\n",
              "        buttonEl.style.display =\n",
              "          google.colab.kernel.accessAllowed ? 'block' : 'none';\n",
              "\n",
              "        async function convertToInteractive(key) {\n",
              "          const element = document.querySelector('#df-f6aff3c4-d135-437e-8419-4b00b5799a82');\n",
              "          const dataTable =\n",
              "            await google.colab.kernel.invokeFunction('convertToInteractive',\n",
              "                                                     [key], {});\n",
              "          if (!dataTable) return;\n",
              "\n",
              "          const docLinkHtml = 'Like what you see? Visit the ' +\n",
              "            '<a target=\"_blank\" href=https://colab.research.google.com/notebooks/data_table.ipynb>data table notebook</a>'\n",
              "            + ' to learn more about interactive tables.';\n",
              "          element.innerHTML = '';\n",
              "          dataTable['output_type'] = 'display_data';\n",
              "          await google.colab.output.renderOutput(dataTable, element);\n",
              "          const docLink = document.createElement('div');\n",
              "          docLink.innerHTML = docLinkHtml;\n",
              "          element.appendChild(docLink);\n",
              "        }\n",
              "      </script>\n",
              "    </div>\n",
              "  </div>\n",
              "  "
            ]
          },
          "metadata": {},
          "execution_count": 51
        }
      ]
    },
    {
      "cell_type": "code",
      "source": [],
      "metadata": {
        "id": "d463jDEcSHBo"
      },
      "execution_count": null,
      "outputs": []
    }
  ]
}